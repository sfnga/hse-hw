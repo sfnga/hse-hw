{
  "cells": [
    {
      "cell_type": "markdown",
      "metadata": {
        "id": "W9R5Is6zJlau"
      },
      "source": [
        "# Машинное обучение, ФКН ВШЭ\n",
        "\n",
        "# Практическое задание 7. Бустинговое\n",
        "\n",
        "## Общая информация\n",
        "\n",
        "Дата выдачи: 06.12.2021\n",
        "\n",
        "Мягкий дедлайн: 18.12.2021 23:59 MSK\n",
        "\n",
        "Жёсткий дедлайн: 19.12.2021 23:59 MSK\n",
        "\n",
        "## Оценивание и штрафы\n",
        "\n",
        "Каждая из задач имеет определенную «стоимость» (указана в скобках около задачи). Максимально допустимая оценка за работу — 10 баллов.\n",
        "\n",
        "Сдавать задание после указанного срока сдачи нельзя. При выставлении неполного балла за задание в связи с наличием ошибок на усмотрение проверяющего предусмотрена возможность исправить работу на указанных в ответном письме условиях.\n",
        "\n",
        "Задание выполняется самостоятельно. «Похожие» решения считаются плагиатом и все задействованные студенты (в том числе те, у кого списали) не могут получить за него больше 0 баллов (подробнее о плагиате см. на странице курса). Если вы нашли решение какого-то из заданий (или его часть) в открытом источнике, необходимо указать ссылку на этот источник в отдельном блоке в конце вашей работы (скорее всего вы будете не единственным, кто это нашел, поэтому чтобы исключить подозрение в плагиате, необходима ссылка на источник).\n",
        "\n",
        "Неэффективная реализация кода может негативно отразиться на оценке.\n",
        "\n",
        "## Формат сдачи\n",
        "Задания сдаются через систему anytask. Посылка должна содержать:\n",
        "* Ноутбук homework-practice-07-Username.ipynb\n",
        "\n",
        "Username — ваша фамилия на латинице"
      ]
    },
    {
      "cell_type": "markdown",
      "metadata": {
        "id": "XFhjS_URJlbC"
      },
      "source": [
        "## О задании\n",
        "\n",
        "В этом задании вам предстоит вручную запрограммировать один из самых мощных алгоритмов машинного обучения — бустинг."
      ]
    },
    {
      "cell_type": "code",
      "source": [
        "#! pip install --upgrade lightgbm\n",
        "#! pip install optuna"
      ],
      "metadata": {
        "id": "8X_yRfgdHPSN"
      },
      "execution_count": null,
      "outputs": []
    },
    {
      "cell_type": "code",
      "execution_count": null,
      "metadata": {
        "id": "HodEdaU3JlbE"
      },
      "outputs": [],
      "source": [
        "from warnings import filterwarnings\n",
        "\n",
        "import matplotlib.pyplot as plt\n",
        "import numpy as np\n",
        "import seaborn as sns\n",
        "from scipy.sparse import load_npz\n",
        "from sklearn.model_selection import train_test_split\n",
        "\n",
        "sns.set(style='darkgrid')\n",
        "filterwarnings('ignore')"
      ]
    },
    {
      "cell_type": "code",
      "execution_count": null,
      "metadata": {
        "id": "uqY2h_d-JlbG"
      },
      "outputs": [],
      "source": [
        "x = load_npz('x.npz')\n",
        "y = np.load('y.npy')"
      ]
    },
    {
      "cell_type": "markdown",
      "metadata": {
        "id": "pK5Z3cQ1JlbH"
      },
      "source": [
        "Разделим на обучающую, валидационную и тестовую выборки (`random_state` оставьте равным 1337 для воспроизводимости)."
      ]
    },
    {
      "cell_type": "code",
      "execution_count": null,
      "metadata": {
        "colab": {
          "base_uri": "https://localhost:8080/"
        },
        "id": "A6lUU05xJlbI",
        "outputId": "e23e676d-587a-4e25-e01f-38009cb58a3e"
      },
      "outputs": [
        {
          "output_type": "execute_result",
          "data": {
            "text/plain": [
              "((18825, 169), (2354, 169), (2353, 169))"
            ]
          },
          "metadata": {},
          "execution_count": 3
        }
      ],
      "source": [
        "x_train, x_test, y_train, y_test = train_test_split(x,\n",
        "                                                    y,\n",
        "                                                    test_size=0.2,\n",
        "                                                    random_state=1337)\n",
        "\n",
        "x_test, x_valid, y_test, y_valid = train_test_split(x_test,\n",
        "                                                    y_test,\n",
        "                                                    test_size=0.5,\n",
        "                                                    random_state=1337)\n",
        "\n",
        "x_train.shape, x_valid.shape, x_test.shape"
      ]
    },
    {
      "cell_type": "markdown",
      "metadata": {
        "id": "v2JUwhOEJlbK"
      },
      "source": [
        "## Задание 1. Реализация градиентного бустинга (4 балла)\n",
        "\n",
        "Вам нужно дописать код в файлике `boosting.py`. Для вас уже подготовлен шаблон класса `Boosting`, вы можете менять его по своему усмотрению.\n",
        "\n",
        "### Инструкции для функций:\n",
        "\n",
        "#### `__init__`\n",
        "\n",
        "В `__init__` приходит кучка параметров, распишем что есть что:\n",
        "\n",
        " - `base_model_class` - класс базовой модели нашего бустинга\n",
        " - `base_model_params` - словарь с гиперпараметрами для базовой модели\n",
        " - `n_estimators` - какое количество базовых моделей нужно обучить\n",
        " - `learning_rate` - темп обучения, должен быть из полуинтервала $(0, 1]$\n",
        " - `subsample` - доля объектов, на которой будет обучаться базовая модель (какую часть составляет бутстрапная выборка от исходной обучающей)\n",
        " - `early_stopping_rounds` - число итераций, после которых при отсутствии улучшения качества на валидационной выборке обучение останавливается\n",
        " - `plot` - строить ли после обучения всех базовых моделей график с качеством\n",
        "\n",
        "#### `fit`\n",
        "\n",
        "В `fit` приходит две выборки, обучающая и валидационная. На обучающей мы обучаем новые базовые модели, на валидационной считаем качество для ранней остановки (если это предусматривают параметры).\n",
        "\n",
        "Сначала нам нужно сделать какую-то нулевую модель, сделать предсказания для обучающей и валидационной выборок (в шаблоне это нулевая модель, соответственно предсказания это просто `np.zeros`). После этого нужно обучить `n_estimators` базовых моделей (как и на что обучаются базовые модели смотрите в лекциях и семинарах). После каждой обученной базовой модели мы должны обновить текущие предсказания, посчитать ошибку на обучающей и валидационной выборках (используем `loss_fn` для этого), проверить на раннюю остановку.\n",
        "\n",
        "После всего цикла обучения надо нарисовать график (если `plot`).\n",
        "\n",
        "\n",
        "#### `fit_new_base_model`\n",
        "\n",
        "В `fit_new_base_model` приходит обучающая выборка (целиком) и текущие предсказания для неё. Мы должны сгенерировать бутстрап выборку для обучения базовой модели и обучить базовую модель. После обучения модели запускаем поиск оптимальной гаммы, добавляем новую модель и гамму (не забываем про темп обучения) в соответствующие списки.\n",
        "\n",
        "#### `predict_proba`\n",
        "\n",
        "В `predict_proba` приходит выборка, нужно предсказать вероятности для неё. Суммируем предсказания базовых моделей на этой выборке (не забываем про гаммы) и накидываем сигмоиду."
      ]
    },
    {
      "cell_type": "code",
      "source": [
        "%load_ext autoreload"
      ],
      "metadata": {
        "id": "s2o27GyAUIiW"
      },
      "execution_count": null,
      "outputs": []
    },
    {
      "cell_type": "code",
      "execution_count": null,
      "metadata": {
        "id": "ZNcMHuyqJlbR"
      },
      "outputs": [],
      "source": [
        "%autoreload 2\n",
        "\n",
        "from boosting import Boosting"
      ]
    },
    {
      "cell_type": "markdown",
      "metadata": {
        "id": "q5R-Z-kXJlbT"
      },
      "source": [
        "### Проверка кода\n",
        "\n",
        "У автора задания всё учится около одной секунды."
      ]
    },
    {
      "cell_type": "code",
      "execution_count": null,
      "metadata": {
        "colab": {
          "base_uri": "https://localhost:8080/"
        },
        "id": "4_Hhzz9eJlbU",
        "outputId": "9c893ef9-8325-4efe-cd15-48e88f776e33"
      },
      "outputs": [
        {
          "output_type": "stream",
          "name": "stdout",
          "text": [
            "CPU times: user 2.16 s, sys: 20.9 ms, total: 2.18 s\n",
            "Wall time: 2.2 s\n",
            "Train ROC-AUC 0.9894\n",
            "Valid ROC-AUC 0.9189\n",
            "Test ROC-AUC 0.9179\n"
          ]
        }
      ],
      "source": [
        "boosting = Boosting()\n",
        "\n",
        "%time boosting.fit(x_train, y_train, x_valid, y_valid)\n",
        "\n",
        "assert len(boosting.models) == boosting.n_estimators\n",
        "assert len(boosting.gammas) == boosting.n_estimators\n",
        "\n",
        "assert boosting.predict_proba(x_test).shape == (x_test.shape[0], 2)\n",
        "\n",
        "print(f'Train ROC-AUC {boosting.score(x_train, y_train):.4f}')\n",
        "print(f'Valid ROC-AUC {boosting.score(x_valid, y_valid):.4f}')\n",
        "print(f'Test ROC-AUC {boosting.score(x_test, y_test):.4f}')"
      ]
    },
    {
      "cell_type": "code",
      "execution_count": null,
      "metadata": {
        "colab": {
          "base_uri": "https://localhost:8080/",
          "height": 518
        },
        "id": "RcehO03Ooz2B",
        "outputId": "0b2a9e60-eb4a-4d11-9622-c5d26142b530"
      },
      "outputs": [
        {
          "output_type": "display_data",
          "data": {
            "text/plain": [
              "<Figure size 864x576 with 2 Axes>"
            ],
            "image/png": "[encoded data removed]"
          },
          "metadata": {}
        }
      ],
      "source": [
        "# plot example\n",
        "boosting = Boosting(n_estimators=25, plot=True)\n",
        "\n",
        "boosting.fit(x_train, y_train, x_valid, y_valid)"
      ]
    },
    {
      "cell_type": "markdown",
      "metadata": {
        "id": "C63QGnHcJlbV"
      },
      "source": [
        "## Задание 2. Обучение градиентного бустинга (1 балл)\n",
        "\n",
        "Оцените качество на тестовой выборке вашей имплементации бустинга для различной максимальной глубины решающего дерева в качестве базовой модели. Здесь и далее мы будем использовать метрику ROC-AUC.\n",
        "\n",
        "Перебирайте максимальную глубину от 1 до 30 с шагом 2 (остальные параметры бустинга стоит оставить равными по умолчанию). Постройте график зависимости качества на обучающей и тестовой выборке в зависимости от глубины."
      ]
    },
    {
      "cell_type": "code",
      "execution_count": null,
      "metadata": {
        "id": "EiK9R6O4JlbW"
      },
      "outputs": [],
      "source": [
        "results = {'train': [], 'test': [], 'max_depth': []}\n",
        "\n",
        "depths = range(1, 30, 2)\n",
        "# YOUR CODE:\n",
        "for max_depth in depths:\n",
        "    boosting = Boosting(base_model_params={'max_depth': max_depth})\n",
        "    boosting.fit(x_train, y_train, x_valid, y_valid)\n",
        "\n",
        "    results['train'].append(boosting.score(x_train, y_train))\n",
        "    results['test'].append(boosting.score(x_test, y_test))\n",
        "    results['max_depth'].append(max_depth)"
      ]
    },
    {
      "cell_type": "code",
      "execution_count": null,
      "metadata": {
        "colab": {
          "base_uri": "https://localhost:8080/",
          "height": 518
        },
        "id": "srrykEJ0kMOo",
        "outputId": "2605375d-b8e0-41e6-d582-b2318f1faa69"
      },
      "outputs": [
        {
          "output_type": "display_data",
          "data": {
            "text/plain": [
              "<Figure size 864x576 with 1 Axes>"
            ],
            "image/png": "[encoded data removed]"
          },
          "metadata": {}
        }
      ],
      "source": [
        "plt.figure(figsize=(12, 8))\n",
        "plt.plot(depths, results['train'], label='train')\n",
        "plt.plot(depths, results['test'], label='test', color='red')\n",
        "plt.xlabel('max_depth')\n",
        "plt.ylabel('ROC-AUC')\n",
        "plt.title('ROC-AUC by max_depth')\n",
        "plt.show()"
      ]
    },
    {
      "cell_type": "markdown",
      "metadata": {
        "id": "-y6uqb2yJlbX"
      },
      "source": [
        "**Какая из моделей имеет лучшее качество? Как вы можете это объяснить?**\n",
        "\n",
        "При максимальной глубине = 7. При маленьких значениях максимальной глубины модель не так хорошо улавливает закономерности в данных, при большой максимальной глубине модель переобучается под обучающую выборку, следовательно, качество на тестовой выборке падает"
      ]
    },
    {
      "cell_type": "code",
      "execution_count": null,
      "metadata": {
        "colab": {
          "base_uri": "https://localhost:8080/"
        },
        "id": "dhBd_neyldR1",
        "outputId": "3f5f88d8-8225-4bda-e327-5b76257b8e4d"
      },
      "outputs": [
        {
          "output_type": "stream",
          "name": "stdout",
          "text": [
            "BEST test ROC_AUC: 0.93341 max_depth: 9\n"
          ]
        }
      ],
      "source": [
        "best_depth = np.argmax(results['test'])\n",
        "print(f\"BEST test ROC_AUC: {results['test'][best_depth]:.5f}\", end=' ')\n",
        "print(f\"max_depth: {results['max_depth'][best_depth]}\")"
      ]
    },
    {
      "cell_type": "markdown",
      "metadata": {
        "id": "_3-Yq9ohJlbX"
      },
      "source": [
        "## Задание 3. Подбираем гиперпараметры и ищем лучшую модель (2 балла)\n",
        "\n",
        "Подберите по валидационной выборке основные гиперпараметры для вашей модели бустинга. Следует подобрать все основные параметры для самого градиентного бустинга и для самих базовых моделей."
      ]
    },
    {
      "cell_type": "code",
      "execution_count": null,
      "metadata": {
        "id": "qlim1LiGFZgz"
      },
      "outputs": [],
      "source": [
        "import itertools\n",
        "import pandas as pd\n",
        "\n",
        "results = pd.DataFrame(\n",
        "    index=['boosting', 'boosting', 'lightgbm', 'lightgbm'],\n",
        "    columns=['optimization', 'valid_roc_auc', 'test_roc_auc'])"
      ]
    },
    {
      "cell_type": "code",
      "execution_count": null,
      "metadata": {
        "id": "KaXgUw7DCrF0"
      },
      "outputs": [],
      "source": [
        "def train_boosting(model_params):\n",
        "    model = Boosting(\n",
        "        n_estimators=int(model_params['n_estimators']),\n",
        "        subsample=model_params['subsample'],\n",
        "        learning_rate=model_params['learning_rate'],\n",
        "        base_model_params={'max_depth': model_params['max_depth']})\n",
        "    model.fit(x_train, y_train, x_valid, y_valid)\n",
        "    val_score = np.round(model.score(x_valid, y_valid), 5)\n",
        "    test_score = np.round(model.score(x_test, y_test), 5)\n",
        "    return val_score, test_score"
      ]
    },
    {
      "cell_type": "code",
      "execution_count": null,
      "metadata": {
        "id": "HxpE15FLJlbX"
      },
      "outputs": [],
      "source": [
        "depths = [3, 5, 7]\n",
        "estimators = [25, 50, 100]\n",
        "learning_rate = [1e-3, 1e-2, 1e-1]\n",
        "subsample = [0.2, 0.3]\n",
        "hparams_combination = list(\n",
        "    itertools.product(estimators, learning_rate, depths, subsample))"
      ]
    },
    {
      "cell_type": "code",
      "execution_count": null,
      "metadata": {
        "id": "bx7Ha6MtCm6U"
      },
      "outputs": [],
      "source": [
        "best_val_auc = -np.inf\n",
        "\n",
        "for val in hparams_combination:\n",
        "    params = {\n",
        "        'n_estimators': val[0],\n",
        "        'learning_rate': val[1],\n",
        "        'max_depth': val[2],\n",
        "        'subsample': val[3],\n",
        "    }\n",
        "    val_score, test_score = train_boosting(params)\n",
        "    if val_score > best_val_auc:\n",
        "        best_boosting_params = params.copy()\n",
        "        best_val_auc = val_score\n",
        "        best_test_score = test_score"
      ]
    },
    {
      "cell_type": "code",
      "execution_count": null,
      "metadata": {
        "id": "nInMJQJyGJaP",
        "colab": {
          "base_uri": "https://localhost:8080/"
        },
        "outputId": "75465b07-4d2b-4f87-89ec-18d0d86194ae"
      },
      "outputs": [
        {
          "output_type": "stream",
          "name": "stdout",
          "text": [
            "Boosting with grid search tuning valid score: 0.94102, test score: 0.93956\n",
            "\n"
          ]
        },
        {
          "output_type": "execute_result",
          "data": {
            "text/plain": [
              "{'n_estimators': 100, 'learning_rate': 0.1, 'max_depth': 7, 'subsample': 0.3}"
            ]
          },
          "metadata": {},
          "execution_count": 15
        }
      ],
      "source": [
        "results.iloc[0, :] = ['grid search', best_val_auc, best_test_score]\n",
        "print(f\"Boosting with grid search tuning valid score: {best_val_auc},\", end=' ')\n",
        "print(f\"test score: {best_test_score}\\n\")\n",
        "best_boosting_params"
      ]
    },
    {
      "cell_type": "markdown",
      "metadata": {
        "id": "nPCmL02aJlbY"
      },
      "source": [
        "## Задание 4. Пробуем разные библиотеки (2 балла)\n",
        "\n",
        "Выберите себе библиотеку с реализацией градиентного бустинга по вкусу из следующих трёх - [XGBoost](https://xgboost.readthedocs.io/en/stable/python/python_intro.html), [LightGBM](https://lightgbm.readthedocs.io/en/latest/Python-Intro.html), [CatBoost](https://catboost.ai/en/docs/concepts/python-quickstart). Подберите основные гиперпараметры, постарайтесь добиться наилучшего качества на тестовых данных. Сравните результаты своей реализации с результатами библиотечного бустинга."
      ]
    },
    {
      "cell_type": "code",
      "execution_count": null,
      "metadata": {
        "id": "TRpJIlygJlbZ"
      },
      "outputs": [],
      "source": [
        "import lightgbm as lgb\n",
        "from lightgbm import log_evaluation\n",
        "from sklearn.metrics import roc_auc_score\n",
        "import itertools"
      ]
    },
    {
      "cell_type": "code",
      "execution_count": null,
      "metadata": {
        "id": "aHrO_jxlptOx"
      },
      "outputs": [],
      "source": [
        "params = {\n",
        "    'objective': 'binary',\n",
        "    'metric': 'AUC',\n",
        "    'random_state': 42,\n",
        "    'verbose': -1,\n",
        "}"
      ]
    },
    {
      "cell_type": "code",
      "execution_count": null,
      "metadata": {
        "id": "oaXHPyMzpkhL",
        "colab": {
          "base_uri": "https://localhost:8080/"
        },
        "outputId": "56ef0fa1-b200-4512-dcd1-b26d8a17cc6c"
      },
      "outputs": [
        {
          "output_type": "stream",
          "name": "stdout",
          "text": [
            "[25]\ttraining's auc: 0.971063\tvalid_1's auc: 0.940275\n",
            "[50]\ttraining's auc: 0.978255\tvalid_1's auc: 0.945124\n",
            "[75]\ttraining's auc: 0.981633\tvalid_1's auc: 0.946314\n",
            "[100]\ttraining's auc: 0.983756\tvalid_1's auc: 0.946272\n",
            "Train ROC-AUC: 0.98376\n",
            "Valid ROC-AUC: 0.94627\n",
            "Test ROC-AUC: 0.94042\n"
          ]
        }
      ],
      "source": [
        "lgb_train = lgb.Dataset(x_train, y_train)\n",
        "lgb_valid = lgb.Dataset(x_valid, y_valid)\n",
        "\n",
        "model = lgb.train(\n",
        "    params=params,\n",
        "    train_set=lgb_train,\n",
        "    num_boost_round=100,\n",
        "    valid_sets=[lgb_train, lgb_valid],\n",
        "    callbacks=[log_evaluation(25)],\n",
        ")\n",
        "train_score = roc_auc_score(y_train, model.predict(x_train))\n",
        "valid_score = roc_auc_score(y_valid, model.predict(x_valid))\n",
        "test_score = roc_auc_score(y_test, model.predict(x_test))\n",
        "print(f\"Train ROC-AUC: {train_score:.5f}\")\n",
        "print(f\"Valid ROC-AUC: {valid_score:.5f}\")\n",
        "print(f\"Test ROC-AUC: {test_score:.5f}\")"
      ]
    },
    {
      "cell_type": "code",
      "execution_count": null,
      "metadata": {
        "id": "IWGwgp8BtATw"
      },
      "outputs": [],
      "source": [
        "def train_lgb(model_params):\n",
        "    lgb_train = lgb.Dataset(x_train, y_train)\n",
        "    model = lgb.train(params=model_params,\n",
        "                      train_set=lgb_train,\n",
        "                      verbose_eval=False)\n",
        "    val_score = np.round(roc_auc_score(y_valid, model.predict(x_valid)), 5)\n",
        "    test_score = np.round(roc_auc_score(y_test, model.predict(x_test)), 5)\n",
        "    return val_score, test_score"
      ]
    },
    {
      "cell_type": "code",
      "execution_count": null,
      "metadata": {
        "id": "lguwtev1tRNO"
      },
      "outputs": [],
      "source": [
        "depths = [-1, 3, 5, 7, 9]\n",
        "iterations = [100, 200, 300]\n",
        "learning_rate = [1e-3, 1e-2, 1e-1]\n",
        "subsample = [0.1, 0.2, 0.3, 0.6, 0.7, 0.8, 0.9, 1]\n",
        "reg_lambda = [0, 5, 10]\n",
        "hparams_combination = list(\n",
        "    itertools.product(iterations, learning_rate, depths, subsample,\n",
        "                      reg_lambda))"
      ]
    },
    {
      "cell_type": "code",
      "execution_count": null,
      "metadata": {
        "id": "9dXCWfIRv68d"
      },
      "outputs": [],
      "source": [
        "best_val_auc = -np.inf\n",
        "for val in hparams_combination:\n",
        "    params = {\n",
        "        'objective': 'binary',\n",
        "        'metric': 'AUC',\n",
        "        'random_state': 42,\n",
        "        'verbose': -1,\n",
        "        'num_iterations': val[0],\n",
        "        'learning_rate': val[1],\n",
        "        'max_depth': val[2],\n",
        "        'subsample': val[3],\n",
        "        'reg_lambda': val[4]\n",
        "    }\n",
        "    val_score, test_score = train_lgb(params)\n",
        "    if val_score > best_val_auc:\n",
        "        best_lgb_params = params.copy()\n",
        "        best_val_auc = val_score\n",
        "        best_test_score = test_score"
      ]
    },
    {
      "cell_type": "code",
      "execution_count": null,
      "metadata": {
        "id": "LOv5s8GpzBy6",
        "colab": {
          "base_uri": "https://localhost:8080/"
        },
        "outputId": "6e352cac-5e72-47a5-afe9-af00a2673f22"
      },
      "outputs": [
        {
          "output_type": "stream",
          "name": "stdout",
          "text": [
            "LGB with grid search tuning valid score: 0.94712, test score: 0.94009\n",
            "\n"
          ]
        },
        {
          "output_type": "execute_result",
          "data": {
            "text/plain": [
              "{'objective': 'binary',\n",
              " 'metric': 'AUC',\n",
              " 'random_state': 42,\n",
              " 'verbose': -1,\n",
              " 'num_iterations': 200,\n",
              " 'learning_rate': 0.1,\n",
              " 'max_depth': 5,\n",
              " 'subsample': 0.1,\n",
              " 'reg_lambda': 0}"
            ]
          },
          "metadata": {},
          "execution_count": 22
        }
      ],
      "source": [
        "results.iloc[2, :] = ['grid search', best_val_auc, best_test_score]\n",
        "print(f\"LGB with grid search tuning valid score: {best_val_auc},\", end=' ')\n",
        "print(f\"test score: {best_test_score}\\n\")\n",
        "best_lgb_params"
      ]
    },
    {
      "cell_type": "markdown",
      "metadata": {
        "id": "pQlh0N_6JlbZ"
      },
      "source": [
        "### Задание 5 (бонус). Пробуем ещё немножко библиотек (1 балл)\n",
        "\n",
        "Существуют библиотеки для подбора гиперпараметров, попробуйте использовать какую-нибудь из следующих двух - [Hyperopt](https://github.com/hyperopt/hyperopt), [Optuna](https://optuna.org/). Сравните полученное качество с вашим ручным перебором. Используйте эту библиотеку чтобы подобрать параметры и для своей реалзиации и для библиотечной."
      ]
    },
    {
      "cell_type": "code",
      "execution_count": null,
      "metadata": {
        "id": "gesGpHOG2K5-"
      },
      "outputs": [],
      "source": [
        "import optuna\n",
        "from optuna.integration.wandb import WeightsAndBiasesCallback\n",
        "\n",
        "optuna.logging.set_verbosity(optuna.logging.WARNING)"
      ]
    },
    {
      "cell_type": "code",
      "execution_count": null,
      "metadata": {
        "id": "SsIh38tf0rhp"
      },
      "outputs": [],
      "source": [
        "def lgb_objective(trial):\n",
        "    params = {\n",
        "        'objective': 'binary',\n",
        "        'metric': 'AUC',\n",
        "        'random_state': 42,\n",
        "        'verbose': -1,\n",
        "        'learning_rate': trial.suggest_float('learning_rate', 0.001, 0.3),\n",
        "        'reg_lambda': trial.suggest_float('lambda_l1', 1e-8, 10.0, log=True),\n",
        "        'num_iterations': trial.suggest_categorical('num_iterations', [100, 200, 300]),\n",
        "        'max_depth': trial.suggest_categorical('max_depth', [-1, 3, 5, 7, 9]),\n",
        "        'subsample': trial.suggest_float('subsample', 0, 1)\n",
        "    }\n",
        "    score, test_score = train_lgb(params)\n",
        "    return score\n",
        "\n",
        "\n",
        "def boosting_objective(trial):\n",
        "    params = {\n",
        "        'n_estimators': trial.suggest_int('n_estimators', 10, 200),\n",
        "        'learning_rate': trial.suggest_float('learning_rate', 0.001, 0.3),\n",
        "        'max_depth': trial.suggest_int('max_depth', 1, 10),\n",
        "        'subsample': trial.suggest_float('subsample', 0, 1),\n",
        "        'min_samples_leaf': trial.suggest_int('min_samples_leaf', 1, 10),\n",
        "    }\n",
        "    score, test_score = train_boosting(params)\n",
        "    return score"
      ]
    },
    {
      "cell_type": "code",
      "execution_count": null,
      "metadata": {
        "id": "KPLExV0F1k0_",
        "colab": {
          "base_uri": "https://localhost:8080/"
        },
        "outputId": "b8d292ed-0377-4209-963c-a6eda66958a9"
      },
      "outputs": [
        {
          "output_type": "stream",
          "name": "stdout",
          "text": [
            "LGB valid score with optuna: 0.94801, test score: 0.94018\n",
            "\n"
          ]
        },
        {
          "output_type": "execute_result",
          "data": {
            "text/plain": [
              "{'objective': 'binary',\n",
              " 'metric': 'AUC',\n",
              " 'random_state': 42,\n",
              " 'verbose': -1,\n",
              " 'learning_rate': 0.11914284266059853,\n",
              " 'lambda_l1': 0.00214712195283317,\n",
              " 'num_iterations': 200,\n",
              " 'max_depth': 5,\n",
              " 'subsample': 0.5236146156753692}"
            ]
          },
          "metadata": {},
          "execution_count": 25
        }
      ],
      "source": [
        "study = optuna.create_study(direction='maximize')\n",
        "study.optimize(lgb_objective, n_trials=100)\n",
        "trial = study.best_trial\n",
        "lgb_optuna_params = {\n",
        "    'objective': 'binary',\n",
        "    'metric': 'AUC',\n",
        "    'random_state': 42,\n",
        "    'verbose': -1\n",
        "}\n",
        "for key, value in trial.params.items():\n",
        "    lgb_optuna_params[key] = value\n",
        "\n",
        "val_score, test_score = train_lgb(lgb_optuna_params)\n",
        "results.iloc[3, :] = ['optuna', val_score, test_score]\n",
        "print(f\"LGB valid score with optuna: {val_score}, test score: {test_score}\\n\")\n",
        "lgb_optuna_params"
      ]
    },
    {
      "cell_type": "code",
      "execution_count": null,
      "metadata": {
        "id": "OqRt2j3rNSwm",
        "colab": {
          "base_uri": "https://localhost:8080/"
        },
        "outputId": "808bfa63-1db6-41c5-aeb4-dc5c5160086d"
      },
      "outputs": [
        {
          "output_type": "stream",
          "name": "stdout",
          "text": [
            "Boosting valid score with optuna: 0.94263, test score: 0.94029\n",
            "\n"
          ]
        },
        {
          "output_type": "execute_result",
          "data": {
            "text/plain": [
              "{'n_estimators': 174,\n",
              " 'learning_rate': 0.23322745781444654,\n",
              " 'max_depth': 8,\n",
              " 'subsample': 0.2094805194476195,\n",
              " 'min_samples_leaf': 2}"
            ]
          },
          "metadata": {},
          "execution_count": 26
        }
      ],
      "source": [
        "study = optuna.create_study(direction='maximize')\n",
        "study.optimize(boosting_objective, n_trials=50)\n",
        "trial = study.best_trial\n",
        "boosting_optuna_params = {}\n",
        "\n",
        "for key, value in trial.params.items():\n",
        "    boosting_optuna_params[key] = value\n",
        "\n",
        "val_score, test_score = train_boosting(boosting_optuna_params)\n",
        "results.iloc[1, :] = ['optuna', val_score, test_score]\n",
        "print(\n",
        "    f\"Boosting valid score with optuna: {val_score}, test score: {test_score}\\n\"\n",
        ")\n",
        "boosting_optuna_params"
      ]
    },
    {
      "cell_type": "markdown",
      "metadata": {
        "id": "MqpY2omnJlba"
      },
      "source": [
        "## Задание 6. Интерпретация бустингового (1 балл)\n",
        "\n",
        "Постройте калибровочную кривую для вашей лучшей модели бустинга (из тех, что используют вашу реализацию).\n",
        "Насколько хорошо бустинг оценивает вероятности? Постройте также калибровочную кривую для логистической регресии, сравните их между собой. Проанализируйте полученные результаты."
      ]
    },
    {
      "cell_type": "code",
      "execution_count": null,
      "metadata": {
        "id": "1QTF_G_KJlba"
      },
      "outputs": [],
      "source": [
        "from sklearn.calibration import calibration_curve\n",
        "from sklearn.linear_model import LogisticRegression"
      ]
    },
    {
      "cell_type": "code",
      "execution_count": null,
      "metadata": {
        "id": "JlGJOKGrPPHa"
      },
      "outputs": [],
      "source": [
        "logreg = LogisticRegression()\n",
        "logreg.fit(x_train, y_train)\n",
        "logreg_pred = logreg.predict_proba(x_valid)[:, 1]\n",
        "logreg_test, logreg_pred = calibration_curve(y_valid, logreg_pred)"
      ]
    },
    {
      "cell_type": "code",
      "execution_count": null,
      "metadata": {
        "id": "RCTn8c6Wm-Le"
      },
      "outputs": [],
      "source": [
        "boosting = Boosting(\n",
        "    n_estimators=int(boosting_optuna_params['n_estimators']),\n",
        "    subsample=boosting_optuna_params['subsample'],\n",
        "    learning_rate=boosting_optuna_params['learning_rate'],\n",
        "    base_model_params={'max_depth': boosting_optuna_params['max_depth']})\n",
        "\n",
        "boosting.fit(x_train, y_train, x_valid, y_valid)\n",
        "boosting_pred = boosting.predict_proba(x_valid)[:, 1]\n",
        "\n",
        "boosting_test, boosting_pred = calibration_curve(y_valid, boosting_pred)"
      ]
    },
    {
      "cell_type": "code",
      "execution_count": null,
      "metadata": {
        "id": "ukg_c-GaQnc4",
        "colab": {
          "base_uri": "https://localhost:8080/",
          "height": 518
        },
        "outputId": "9194e41d-9b51-4d2b-f412-ad6e922b796c"
      },
      "outputs": [
        {
          "output_type": "display_data",
          "data": {
            "text/plain": [
              "<Figure size 864x576 with 1 Axes>"
            ],
            "image/png": "[encoded data removed]"
          },
          "metadata": {}
        }
      ],
      "source": [
        "plt.figure(figsize=(12, 8))\n",
        "plt.plot([0, 1], [0, 1], linestyle='dotted', label='perfect', color='black')\n",
        "plt.plot(boosting_pred, boosting_test, label='Boosting', color='red')\n",
        "plt.plot(logreg_pred, logreg_test, label='Logistic Regression', color='blue')\n",
        "plt.ylabel('Fraction of positives')\n",
        "plt.xlabel('Mean predicted probability')\n",
        "plt.title('Calibration plots')\n",
        "plt.legend()\n",
        "plt.show()"
      ]
    },
    {
      "cell_type": "markdown",
      "metadata": {
        "id": "VSE6ObbGJlbb"
      },
      "source": [
        "Теперь попробуем оценить важность признаков для бустинга.\n",
        "\n",
        "Поскольку наша базовая модель - это дерево из `sklearn`, мы можем вычислить важность признака отдельно для каждого дерева и усреднить (воспользуйтесь `feature_importances_` у `DecisionTreeRegressor`), после этого нормировать значения, чтобы они суммировались в единицу (обратите внимание, что они должны быть неотрицательными - иначе вы что-то сделали не так).\n",
        "\n",
        "Допишите в вашей реализации бустинга функцию `feature_importances_` чтобы она возвращала описанные выше важности признаков.\n",
        "\n",
        "Нарисуйте столбчатую диаграмму важности признаков. На соседнем графике нарисуйте важность признаков для логистической регрессии, для этого используйте модули весов. Сравните графики. Проанализируйте полученные результаты."
      ]
    },
    {
      "cell_type": "code",
      "execution_count": null,
      "metadata": {
        "id": "GoYRkelf0EqI"
      },
      "outputs": [],
      "source": [
        "def train_boosting_with_feats(model_params,\n",
        "                              features=np.arange(x_train.shape[1])):\n",
        "    model = Boosting(\n",
        "        n_estimators=int(model_params['n_estimators']),\n",
        "        subsample=model_params['subsample'],\n",
        "        learning_rate=model_params['learning_rate'],\n",
        "        base_model_params={'max_depth': model_params['max_depth']})\n",
        "    model.fit(x_train[:, features], y_train, x_valid[:, features], y_valid)\n",
        "    val_score = np.round(model.score(x_valid[:, features], y_valid), 5)\n",
        "    test_score = np.round(model.score(x_test[:, features], y_test), 5)\n",
        "    return model.feature_importances_, val_score, test_score"
      ]
    },
    {
      "cell_type": "code",
      "execution_count": null,
      "metadata": {
        "id": "lqBtqWJ-1ZUt"
      },
      "outputs": [],
      "source": [
        "boosting_importances, _, _ = train_boosting_with_feats(boosting_optuna_params)\n",
        "logreg_importances = (np.abs(logreg.coef_) / np.sum(np.abs(logreg.coef_)))[0]"
      ]
    },
    {
      "cell_type": "code",
      "execution_count": null,
      "metadata": {
        "id": "ib8FmFnh18EN",
        "colab": {
          "base_uri": "https://localhost:8080/",
          "height": 666
        },
        "outputId": "52307589-265e-4fdb-8dec-eb7cb94b8ee1"
      },
      "outputs": [
        {
          "output_type": "display_data",
          "data": {
            "text/plain": [
              "<Figure size 1440x720 with 2 Axes>"
            ],
            "image/png": "[encoded data removed]"
          },
          "metadata": {}
        }
      ],
      "source": [
        "x = range(x_train.shape[1])\n",
        "fig, axes = plt.subplots(1, 2, figsize=(20, 10))\n",
        "axes[0].bar(x, boosting_importances, color='green')\n",
        "axes[0].set_title('Boosting')\n",
        "axes[1].set_ylabel('feature')\n",
        "axes[1].set_ylabel('importance')\n",
        "axes[1].bar(x, logreg_importances, color='green')\n",
        "axes[1].set_title('Logistic Regression')\n",
        "axes[1].set_ylabel('feature')\n",
        "axes[1].set_ylabel('importance')\n",
        "plt.suptitle('Feature importances')\n",
        "plt.show()"
      ]
    },
    {
      "cell_type": "markdown",
      "metadata": {
        "id": "shpqQcsDJlbc"
      },
      "source": [
        "Кстати, чаще всего излишние признаки могут вредить качеству бустинга. Попробуйте отфильтровать на основании диаграммы хвост наименее важных признаков и снова обучить модель (с теми же гиперпараметрами). Стало ли лучше?"
      ]
    },
    {
      "cell_type": "code",
      "source": [
        "results.iloc[1, :]"
      ],
      "metadata": {
        "id": "g6JqOaGIVkyU",
        "colab": {
          "base_uri": "https://localhost:8080/"
        },
        "outputId": "9b27a12c-9c72-49e7-fb9d-4f2f29b4ca60"
      },
      "execution_count": null,
      "outputs": [
        {
          "output_type": "execute_result",
          "data": {
            "text/plain": [
              "optimization      optuna\n",
              "valid_roc_auc    0.94263\n",
              "test_roc_auc     0.94029\n",
              "Name: boosting, dtype: object"
            ]
          },
          "metadata": {},
          "execution_count": 34
        }
      ]
    },
    {
      "cell_type": "code",
      "execution_count": null,
      "metadata": {
        "id": "mjfvjZQnJlbd",
        "colab": {
          "base_uri": "https://localhost:8080/"
        },
        "outputId": "92d04702-a32f-4438-adae-3ce66e171fad"
      },
      "outputs": [
        {
          "output_type": "stream",
          "name": "stdout",
          "text": [
            "Treshold: quantile(0.05), number of features: 160\n",
            "Valid ROC-AUC: 0.94008, test ROC-AUC: 0.94055\n",
            "\n",
            "Treshold: quantile(0.10), number of features: 152\n",
            "Valid ROC-AUC: 0.94152, test ROC-AUC: 0.93985\n",
            "\n",
            "Treshold: quantile(0.15), number of features: 143\n",
            "Valid ROC-AUC: 0.94235, test ROC-AUC: 0.93973\n",
            "\n",
            "Treshold: quantile(0.20), number of features: 135\n",
            "Valid ROC-AUC: 0.94266, test ROC-AUC: 0.94069\n",
            "\n",
            "Treshold: quantile(0.25), number of features: 126\n",
            "Valid ROC-AUC: 0.94168, test ROC-AUC: 0.93869\n",
            "\n",
            "Treshold: quantile(0.30), number of features: 118\n",
            "Valid ROC-AUC: 0.9414, test ROC-AUC: 0.94139\n",
            "\n",
            "Treshold: quantile(0.35), number of features: 110\n",
            "Valid ROC-AUC: 0.94188, test ROC-AUC: 0.94027\n",
            "\n",
            "Treshold: quantile(0.40), number of features: 101\n",
            "Valid ROC-AUC: 0.94209, test ROC-AUC: 0.93863\n",
            "\n",
            "Treshold: quantile(0.45), number of features: 93\n",
            "Valid ROC-AUC: 0.94196, test ROC-AUC: 0.93862\n",
            "\n",
            "Treshold: quantile(0.50), number of features: 84\n",
            "Valid ROC-AUC: 0.94314, test ROC-AUC: 0.93822\n",
            "\n"
          ]
        }
      ],
      "source": [
        "for i in np.linspace(0.05, 0.5, 10):\n",
        "    treshold = np.quantile(boosting_importances, i)\n",
        "    feats = np.where(boosting_importances > treshold)[0]\n",
        "    _, valid_score, test_score = train_boosting_with_feats(\n",
        "        boosting_optuna_params, feats)\n",
        "    print(f\"Treshold: quantile({i:.2f}), number of features: {len(feats)}\")\n",
        "    print(f\"Valid ROC-AUC: {valid_score}, test ROC-AUC: {test_score}\")\n",
        "    print()"
      ]
    },
    {
      "cell_type": "markdown",
      "metadata": {
        "id": "L116WBFy6c9d"
      },
      "source": [
        "При некоторых порогах удаления признаков ROC-AUC на тестовой выборке улучшается"
      ]
    },
    {
      "cell_type": "markdown",
      "metadata": {
        "id": "TO_2L-dhJlbd"
      },
      "source": [
        "## Задание 7 (бонус). Блендинговое (1 балл)\n",
        "\n",
        "Реализуйте блендинг над вашими лучшими моделями (ваша реализация с лучшими гиперпараметрами + все модели из библиотек с лучшими гиперпараметрами). Улучшилось ли качество?"
      ]
    },
    {
      "cell_type": "code",
      "execution_count": null,
      "metadata": {
        "id": "l1BerLlXsASR",
        "colab": {
          "base_uri": "https://localhost:8080/",
          "height": 175
        },
        "outputId": "e87201d3-3442-47d5-e9cf-47ec1ac21453"
      },
      "outputs": [
        {
          "output_type": "execute_result",
          "data": {
            "text/plain": [
              "         optimization valid_roc_auc test_roc_auc\n",
              "boosting  grid search       0.94102      0.93956\n",
              "boosting       optuna       0.94263      0.94029\n",
              "lightgbm  grid search       0.94712      0.94009\n",
              "lightgbm       optuna       0.94801      0.94018"
            ],
            "text/html": [
              "\n",
              "  <div id=\"df-1847a845-d87d-43d1-9646-fcd0a20cc310\">\n",
              "    <div class=\"colab-df-container\">\n",
              "      <div>\n",
              "<style scoped>\n",
              "    .dataframe tbody tr th:only-of-type {\n",
              "        vertical-align: middle;\n",
              "    }\n",
              "\n",
              "    .dataframe tbody tr th {\n",
              "        vertical-align: top;\n",
              "    }\n",
              "\n",
              "    .dataframe thead th {\n",
              "        text-align: right;\n",
              "    }\n",
              "</style>\n",
              "<table border=\"1\" class=\"dataframe\">\n",
              "  <thead>\n",
              "    <tr style=\"text-align: right;\">\n",
              "      <th></th>\n",
              "      <th>optimization</th>\n",
              "      <th>valid_roc_auc</th>\n",
              "      <th>test_roc_auc</th>\n",
              "    </tr>\n",
              "  </thead>\n",
              "  <tbody>\n",
              "    <tr>\n",
              "      <th>boosting</th>\n",
              "      <td>grid search</td>\n",
              "      <td>0.94102</td>\n",
              "      <td>0.93956</td>\n",
              "    </tr>\n",
              "    <tr>\n",
              "      <th>boosting</th>\n",
              "      <td>optuna</td>\n",
              "      <td>0.94263</td>\n",
              "      <td>0.94029</td>\n",
              "    </tr>\n",
              "    <tr>\n",
              "      <th>lightgbm</th>\n",
              "      <td>grid search</td>\n",
              "      <td>0.94712</td>\n",
              "      <td>0.94009</td>\n",
              "    </tr>\n",
              "    <tr>\n",
              "      <th>lightgbm</th>\n",
              "      <td>optuna</td>\n",
              "      <td>0.94801</td>\n",
              "      <td>0.94018</td>\n",
              "    </tr>\n",
              "  </tbody>\n",
              "</table>\n",
              "</div>\n",
              "      <button class=\"colab-df-convert\" onclick=\"convertToInteractive('df-1847a845-d87d-43d1-9646-fcd0a20cc310')\"\n",
              "              title=\"Convert this dataframe to an interactive table.\"\n",
              "              style=\"display:none;\">\n",
              "        \n",
              "  <svg xmlns=\"http://www.w3.org/2000/svg\" height=\"24px\"viewBox=\"0 0 24 24\"\n",
              "       width=\"24px\">\n",
              "    <path d=\"M0 0h24v24H0V0z\" fill=\"none\"/>\n",
              "    <path d=\"M18.56 5.44l.94 2.06.94-2.06 2.06-.94-2.06-.94-.94-2.06-.94 2.06-2.06.94zm-11 1L8.5 8.5l.94-2.06 2.06-.94-2.06-.94L8.5 2.5l-.94 2.06-2.06.94zm10 10l.94 2.06.94-2.06 2.06-.94-2.06-.94-.94-2.06-.94 2.06-2.06.94z\"/><path d=\"M17.41 7.96l-1.37-1.37c-.4-.4-.92-.59-1.43-.59-.52 0-1.04.2-1.43.59L10.3 9.45l-7.72 7.72c-.78.78-.78 2.05 0 2.83L4 21.41c.39.39.9.59 1.41.59.51 0 1.02-.2 1.41-.59l7.78-7.78 2.81-2.81c.8-.78.8-2.07 0-2.86zM5.41 20L4 18.59l7.72-7.72 1.47 1.35L5.41 20z\"/>\n",
              "  </svg>\n",
              "      </button>\n",
              "      \n",
              "  <style>\n",
              "    .colab-df-container {\n",
              "      display:flex;\n",
              "      flex-wrap:wrap;\n",
              "      gap: 12px;\n",
              "    }\n",
              "\n",
              "    .colab-df-convert {\n",
              "      background-color: #E8F0FE;\n",
              "      border: none;\n",
              "      border-radius: 50%;\n",
              "      cursor: pointer;\n",
              "      display: none;\n",
              "      fill: #1967D2;\n",
              "      height: 32px;\n",
              "      padding: 0 0 0 0;\n",
              "      width: 32px;\n",
              "    }\n",
              "\n",
              "    .colab-df-convert:hover {\n",
              "      background-color: #E2EBFA;\n",
              "      box-shadow: 0px 1px 2px rgba(60, 64, 67, 0.3), 0px 1px 3px 1px rgba(60, 64, 67, 0.15);\n",
              "      fill: #174EA6;\n",
              "    }\n",
              "\n",
              "    [theme=dark] .colab-df-convert {\n",
              "      background-color: #3B4455;\n",
              "      fill: #D2E3FC;\n",
              "    }\n",
              "\n",
              "    [theme=dark] .colab-df-convert:hover {\n",
              "      background-color: #434B5C;\n",
              "      box-shadow: 0px 1px 3px 1px rgba(0, 0, 0, 0.15);\n",
              "      filter: drop-shadow(0px 1px 2px rgba(0, 0, 0, 0.3));\n",
              "      fill: #FFFFFF;\n",
              "    }\n",
              "  </style>\n",
              "\n",
              "      <script>\n",
              "        const buttonEl =\n",
              "          document.querySelector('#df-1847a845-d87d-43d1-9646-fcd0a20cc310 button.colab-df-convert');\n",
              "        buttonEl.style.display =\n",
              "          google.colab.kernel.accessAllowed ? 'block' : 'none';\n",
              "\n",
              "        async function convertToInteractive(key) {\n",
              "          const element = document.querySelector('#df-1847a845-d87d-43d1-9646-fcd0a20cc310');\n",
              "          const dataTable =\n",
              "            await google.colab.kernel.invokeFunction('convertToInteractive',\n",
              "                                                     [key], {});\n",
              "          if (!dataTable) return;\n",
              "\n",
              "          const docLinkHtml = 'Like what you see? Visit the ' +\n",
              "            '<a target=\"_blank\" href=https://colab.research.google.com/notebooks/data_table.ipynb>data table notebook</a>'\n",
              "            + ' to learn more about interactive tables.';\n",
              "          element.innerHTML = '';\n",
              "          dataTable['output_type'] = 'display_data';\n",
              "          await google.colab.output.renderOutput(dataTable, element);\n",
              "          const docLink = document.createElement('div');\n",
              "          docLink.innerHTML = docLinkHtml;\n",
              "          element.appendChild(docLink);\n",
              "        }\n",
              "      </script>\n",
              "    </div>\n",
              "  </div>\n",
              "  "
            ]
          },
          "metadata": {},
          "execution_count": 36
        }
      ],
      "source": [
        "results"
      ]
    },
    {
      "cell_type": "code",
      "execution_count": null,
      "metadata": {
        "id": "49-TtE_8pdrw"
      },
      "outputs": [],
      "source": [
        "def train_boosting(model_params):\n",
        "    model = Boosting(\n",
        "        n_estimators=int(model_params['n_estimators']),\n",
        "        subsample=model_params['subsample'],\n",
        "        learning_rate=model_params['learning_rate'],\n",
        "        base_model_params={'max_depth': model_params['max_depth']})\n",
        "    model.fit(x_train, y_train, x_valid, y_valid)\n",
        "    return model.predict_proba(x_valid)[:, 1], model.predict_proba(x_test)[:,1]"
      ]
    },
    {
      "cell_type": "code",
      "execution_count": null,
      "metadata": {
        "id": "FxM1uGyEsOjF"
      },
      "outputs": [],
      "source": [
        "def train_lgb(model_params):\n",
        "    lgb_train = lgb.Dataset(x_train, y_train)\n",
        "    model = lgb.train(params=model_params,\n",
        "                      train_set=lgb_train,\n",
        "                      verbose_eval=False)\n",
        "    return model.predict(x_valid), model.predict(x_test)"
      ]
    },
    {
      "cell_type": "code",
      "execution_count": null,
      "metadata": {
        "id": "2kMvODeUppFk"
      },
      "outputs": [],
      "source": [
        "valid_boosting_1, test_boosting_1 = train_boosting(best_boosting_params)\n",
        "valid_boosting_2, test_boosting_2 = train_boosting(boosting_optuna_params)\n",
        "\n",
        "valid_lgb_1, test_lgb_1 = train_lgb(best_lgb_params)\n",
        "valid_lgb_2, test_lgb_2 = train_lgb(lgb_optuna_params)"
      ]
    },
    {
      "cell_type": "code",
      "execution_count": null,
      "metadata": {
        "id": "l8Jl-EzTs3Av",
        "colab": {
          "base_uri": "https://localhost:8080/"
        },
        "outputId": "ffafbf45-2175-48dc-e864-822122e8c932"
      },
      "outputs": [
        {
          "output_type": "stream",
          "name": "stdout",
          "text": [
            "Blending valid ROC-AUC: 0.946425\n",
            "Blending test ROC-AUC: 0.941881\n",
            "Improvement on test set: 0.00159\n"
          ]
        }
      ],
      "source": [
        "valid_blend = (valid_lgb_1 + valid_lgb_2 + valid_boosting_1 +\n",
        "               valid_boosting_2) / 4\n",
        "test_blend = (test_lgb_1 + test_lgb_2 + test_boosting_1 + test_boosting_2) / 4\n",
        "test_score = roc_auc_score(y_test, test_blend)\n",
        "print(f\"Blending valid ROC-AUC: {roc_auc_score(y_valid,valid_blend):5f}\")\n",
        "print(f\"Blending test ROC-AUC: {test_score:5f}\")\n",
        "print(f\"Improvement on test set: {test_score-results['test_roc_auc'].max():.5f}\")"
      ]
    },
    {
      "cell_type": "markdown",
      "metadata": {
        "id": "ahkOHewwuHFC"
      },
      "source": [
        "По сравнению с прогнзом лучшей модели (lightgbm с гиперпараметрами, настроенными optuna) блендинг улучшает метрику на тестовом наборе данных на 0.00159"
      ]
    },
    {
      "cell_type": "markdown",
      "metadata": {
        "id": "Sf4G1hg5Jlbe"
      },
      "source": [
        "## Социализационный бонус. Новогоднее 🎆 (0.5 балла)\n",
        "\n",
        "Сфотографируйтесь с наряженной новогодней или рождественской ёлкой! Приложите фотографию, опишите свои впечатления, чего вы ждете от нового 2022 года?"
      ]
    }
  ],
  "metadata": {
    "colab": {
      "provenance": []
    },
    "kernelspec": {
      "display_name": "Python 3 (ipykernel)",
      "language": "python",
      "name": "python3"
    },
    "language_info": {
      "codemirror_mode": {
        "name": "ipython",
        "version": 3
      },
      "file_extension": ".py",
      "mimetype": "text/x-python",
      "name": "python",
      "nbconvert_exporter": "python",
      "pygments_lexer": "ipython3",
      "version": "3.9.7"
    },
    "nbTranslate": {
      "displayLangs": [
        "*"
      ],
      "hotkey": "alt-t",
      "langInMainMenu": true,
      "sourceLang": "en",
      "targetLang": "fr",
      "useGoogleTranslate": true
    },
    "toc": {
      "base_numbering": 1,
      "nav_menu": {
        "height": "210px",
        "width": "492px"
      },
      "number_sections": false,
      "sideBar": true,
      "skip_h1_title": false,
      "title_cell": "Table of Contents",
      "title_sidebar": "Contents",
      "toc_cell": false,
      "toc_position": {},
      "toc_section_display": true,
      "toc_window_display": true
    },
    "varInspector": {
      "cols": {
        "lenName": 16,
        "lenType": 16,
        "lenVar": 40
      },
      "kernels_config": {
        "python": {
          "delete_cmd_postfix": "",
          "delete_cmd_prefix": "del ",
          "library": "var_list.py",
          "varRefreshCmd": "print(var_dic_list())"
        },
        "r": {
          "delete_cmd_postfix": ") ",
          "delete_cmd_prefix": "rm(",
          "library": "var_list.r",
          "varRefreshCmd": "cat(var_dic_list()) "
        }
      },
      "types_to_exclude": [
        "module",
        "function",
        "builtin_function_or_method",
        "instance",
        "_Feature"
      ],
      "window_display": false
    }
  },
  "nbformat": 4,
  "nbformat_minor": 0
}