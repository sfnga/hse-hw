{
  "cells": [
    {
      "cell_type": "markdown",
      "metadata": {
        "id": "HQ9xk2C6023o"
      },
      "source": [
        "# Машинное обучение, ФКН ВШЭ\n",
        "\n",
        "## Практическое задание 4. Классификация. \n",
        "\n",
        "### Общая информация\n",
        "Дата выдачи: 29.10.2021\n",
        "\n",
        "Мягкий дедлайн: 23:59MSK 10.11.2021 (за каждый день просрочки снимается 1 балл)\n",
        "\n",
        "Жесткий дедлайн: 23:59MSK 13.11.2021"
      ]
    },
    {
      "cell_type": "markdown",
      "metadata": {
        "id": "jvZhz9N20236"
      },
      "source": [
        "### О задании\n",
        "\n",
        "В этом задании вы:\n",
        "- ознакомитесь с тем, что происходит \"внутри\" метода опорных векторов и логистической регрессии\n",
        "- познакомитесь с калибровкой вероятности\n",
        "- изучите методы трансформации переменных и методы отбора признаков\n",
        "- попробуете оценить экономический эффект модели\n",
        "\n",
        "\n",
        "### Оценивание и штрафы\n",
        "Каждая из задач имеет определенную «стоимость» (указана в скобках около задачи). Максимально допустимая оценка за работу — 10 баллов.\n",
        "\n",
        "Сдавать задание после указанного срока сдачи нельзя. При выставлении неполного балла за задание в связи с наличием ошибок на усмотрение проверяющего предусмотрена возможность исправить работу на указанных в ответном письме условиях.\n",
        "\n",
        "Задание выполняется самостоятельно. «Похожие» решения считаются плагиатом и все задействованные студенты (в том числе те, у кого списали) не могут получить за него больше 0 баллов (подробнее о плагиате см. на странице курса). Если вы нашли решение какого-то из заданий (или его часть) в открытом источнике, необходимо указать ссылку на этот источник в отдельном блоке в конце вашей работы (скорее всего вы будете не единственным, кто это нашел, поэтому чтобы исключить подозрение в плагиате, необходима ссылка на источник).\n",
        "\n",
        "Неэффективная реализация кода может негативно отразиться на оценке.\n",
        "\n",
        "\n",
        "### Формат сдачи\n",
        "Для сдачи задания переименуйте получившийся файл *.ipynb в соответствии со следующим форматом: homework-practice-04-classification-Username.ipynb, где Username — ваша фамилия и имя на латинице именно в таком порядке (например, homework-practice-04-classification-IvanovIvan.ipynb).\n",
        "\n",
        "Для удобства проверки самостоятельно посчитайте свою максимальную оценку (исходя из набора решенных задач) и укажите ниже.\n",
        "\n",
        "**Оценка**: "
      ]
    },
    {
      "cell_type": "code",
      "execution_count": null,
      "metadata": {
        "id": "QoWhvz8Q024A"
      },
      "outputs": [],
      "source": [
        "import numpy as np\n",
        "import pandas as pd\n",
        "import matplotlib.pyplot as plt\n",
        "import warnings\n",
        "\n",
        "warnings.simplefilter('ignore')\n",
        "%matplotlib inline\n",
        "\n",
        "pd.set_option('display.max_rows', 100)\n",
        "pd.set_option('display.max_columns', 100)"
      ]
    },
    {
      "cell_type": "markdown",
      "metadata": {
        "id": "A1Ky89pn024F"
      },
      "source": [
        "# Часть 0. SVM, LR и калибровка вероятностей. "
      ]
    },
    {
      "cell_type": "markdown",
      "metadata": {
        "id": "2M0Zp7Vu024G"
      },
      "source": [
        "Сгенерируем синтетические данные."
      ]
    },
    {
      "cell_type": "code",
      "execution_count": null,
      "metadata": {
        "id": "qZg0Mt07024H"
      },
      "outputs": [],
      "source": [
        "from sklearn.datasets import make_classification\n",
        "from sklearn.model_selection import train_test_split\n",
        "\n",
        "X, y = make_classification(n_samples=10000,\n",
        "                           n_features=10,\n",
        "                           n_informative=5,\n",
        "                           n_redundant=5,\n",
        "                           random_state=42)\n",
        "\n",
        "X_train, X_test, y_train, y_test = train_test_split(X,\n",
        "                                                    y,\n",
        "                                                    test_size=0.3,\n",
        "                                                    random_state=42)"
      ]
    },
    {
      "cell_type": "markdown",
      "metadata": {
        "id": "C4M0DceA024I"
      },
      "source": [
        "__Задание 1.__ Обучение и применение метода опорных векторов и логистической регрессии.\n",
        "\n",
        "__(1 балл)__\n",
        "\n",
        "Обучите метод опорных векторов. На занятиях мы проходили линейный вариант без ядрового перехода, что соответствует линейному ядру (`LinearSVC` или же `SVC(kernel='linear')` в `sklearn.svm`). Подберите параметр регуляризации `C` (можете воспользоваться кросс-валидацией или отделить валидационную выборку от обучающей). __Здесь и далее, если не сказано иначе, подбирайте оптимальные гиперпараметры с точки зрения AUC-PR.__"
      ]
    },
    {
      "cell_type": "code",
      "execution_count": null,
      "metadata": {
        "id": "tl5ZXYKl024J"
      },
      "outputs": [],
      "source": [
        "from sklearn.model_selection import StratifiedKFold\n",
        "from sklearn.svm import LinearSVC, SVC\n",
        "from sklearn.metrics import auc, precision_recall_curve, roc_auc_score, roc_curve\n",
        "from sklearn.preprocessing import StandardScaler\n",
        "from sklearn.linear_model import LogisticRegression\n",
        "from sklearn.calibration import CalibratedClassifierCV\n",
        "from sklearn.preprocessing import OrdinalEncoder\n",
        "from sklearn.base import BaseEstimator, TransformerMixin\n",
        "import time\n",
        "\n",
        "scaler = StandardScaler()"
      ]
    },
    {
      "cell_type": "code",
      "execution_count": null,
      "metadata": {
        "id": "g9_IQUw83ECY"
      },
      "outputs": [],
      "source": [
        "def auc_pr_score(y_true, y_pred):\n",
        "    precision, recall, _ = precision_recall_curve(y_true, y_pred)\n",
        "    auc_score = auc(recall, precision)\n",
        "    return np.round(auc_score, 5)"
      ]
    },
    {
      "cell_type": "code",
      "execution_count": null,
      "metadata": {
        "id": "M-blBB9U8iOj"
      },
      "outputs": [],
      "source": [
        "def get_svc_score(C):\n",
        "    skf = StratifiedKFold(5, shuffle=True, random_state=42)\n",
        "    score_list = []\n",
        "    for trn_index, val_index in skf.split(X_train, y_train):\n",
        "        X_tr = X_train[trn_index]\n",
        "        y_tr = y_train[trn_index]\n",
        "        X_va = X_train[val_index]\n",
        "        y_va = y_train[val_index]\n",
        "        model = LinearSVC(C=C, max_iter=50000)\n",
        "        model.fit(X_tr, y_tr)\n",
        "        preds = model.decision_function(X_va)\n",
        "        score_list.append(auc_pr_score(y_va, preds))\n",
        "    return np.round(np.mean(score_list), 5)"
      ]
    },
    {
      "cell_type": "code",
      "execution_count": null,
      "metadata": {
        "id": "vLdT4ulf40dp"
      },
      "outputs": [],
      "source": [
        "X_train = scaler.fit_transform(X_train)\n",
        "X_test = scaler.transform(X_test)"
      ]
    },
    {
      "cell_type": "code",
      "execution_count": null,
      "metadata": {
        "id": "aVr67PkG9YbD"
      },
      "outputs": [],
      "source": [
        "c_values = [1e-6, 1e-5, 1e-4, 1e-3, 1e-2, 1e-1, 1]\n",
        "search_c = pd.Series(index=c_values, dtype=float)\n",
        "for c in c_values:\n",
        "    search_c[c] = get_svc_score(C=c)"
      ]
    },
    {
      "cell_type": "code",
      "execution_count": null,
      "metadata": {
        "colab": {
          "base_uri": "https://localhost:8080/",
          "height": 173
        },
        "id": "aYwpBz65Am3j",
        "outputId": "e05f3cdc-4581-42df-f90a-e4f4fe72a6d3"
      },
      "outputs": [
        {
          "output_type": "display_data",
          "data": {
            "text/plain": [
              "0.000001    0.79205\n",
              "0.000010    0.80289\n",
              "0.000100    0.82322\n",
              "0.001000    0.82394\n",
              "0.010000    0.82327\n",
              "0.100000    0.82314\n",
              "1.000000    0.82310\n",
              "dtype: float64"
            ]
          },
          "metadata": {}
        },
        {
          "output_type": "stream",
          "name": "stdout",
          "text": [
            "Best AUC_PR score 0.001, best C = 0.82394\n"
          ]
        }
      ],
      "source": [
        "display(search_c)\n",
        "print(f\"Best AUC_PR score {search_c.idxmax()}, best C = {search_c.max()}\")"
      ]
    },
    {
      "cell_type": "markdown",
      "metadata": {
        "id": "w2wor89V024L"
      },
      "source": [
        "На тестовой части постройте ROC и PR кривые, а также посчитайте AUC-ROC, AUC-PR с точностью до 5 знаков. Сравните AUC-ROC и AUC-PR для вашей модели с этими же метриками для случайного классификатора (который на каждом объекте выдаёт один из двух классов с равными вероятностями)."
      ]
    },
    {
      "cell_type": "code",
      "execution_count": null,
      "metadata": {
        "colab": {
          "base_uri": "https://localhost:8080/"
        },
        "id": "le8cokdaBrmH",
        "outputId": "79315328-954c-4e10-8492-738e7d224ae6"
      },
      "outputs": [
        {
          "output_type": "stream",
          "name": "stdout",
          "text": [
            "CPU times: user 3 µs, sys: 1e+03 ns, total: 4 µs\n",
            "Wall time: 8.11 µs\n"
          ]
        }
      ],
      "source": [
        "%time\n",
        "model = model = LinearSVC(C=0.001, max_iter=50000)\n",
        "model.fit(X_train, y_train)\n",
        "test_preds = model.decision_function(X_test)"
      ]
    },
    {
      "cell_type": "code",
      "execution_count": null,
      "metadata": {
        "id": "vsAQYn88YDk4"
      },
      "outputs": [],
      "source": [
        "random_preds = np.random.choice([0, 1], size=len(y_test))"
      ]
    },
    {
      "cell_type": "code",
      "execution_count": null,
      "metadata": {
        "colab": {
          "base_uri": "https://localhost:8080/"
        },
        "id": "_iFoNXAS024M",
        "outputId": "4d01f592-ccd7-4046-c6e7-df7e9a636fc3"
      },
      "outputs": [
        {
          "output_type": "stream",
          "name": "stdout",
          "text": [
            "AUC-ROC for SVC predictions: 0.84718 and for random predictions: 0.48665\n",
            "AUC-PR for SVC predictions: 0.83058 and for random predictions: 0.61974\n"
          ]
        }
      ],
      "source": [
        "print(f\"AUC-ROC for SVC predictions: {roc_auc_score(y_test,test_preds):.5f}\",\n",
        "      end=' ')\n",
        "print(f\"and for random predictions: {roc_auc_score(y_test,random_preds):.5f}\")\n",
        "print(f\"AUC-PR for SVC predictions: {auc_pr_score(y_test,test_preds):.5f}\",\n",
        "      end=' ')\n",
        "print(f\"and for random predictions: {auc_pr_score(y_test,random_preds):.5f}\")"
      ]
    },
    {
      "cell_type": "code",
      "execution_count": null,
      "metadata": {
        "colab": {
          "base_uri": "https://localhost:8080/",
          "height": 616
        },
        "id": "OZQjYnuL4Swd",
        "outputId": "85c9b86f-ae80-4495-ad47-1a607455133d"
      },
      "outputs": [
        {
          "output_type": "display_data",
          "data": {
            "text/plain": [
              "<Figure size 1080x648 with 2 Axes>"
            ],
            "image/png": "[encoded data removed]"
          },
          "metadata": {
            "needs_background": "light"
          }
        }
      ],
      "source": [
        "fig, ax = plt.subplots(1, 2, figsize=(15, 9))\n",
        "fpr, tpr, _ = roc_curve(y_test, test_preds)\n",
        "ax[0].plot(fpr, tpr, label=f\"AUC-ROC: {roc_auc_score(y_test,test_preds):.5f}\")\n",
        "ax[0].set_xlabel('FPR')\n",
        "ax[0].set_ylabel('TPR')\n",
        "ax[0].set_title('ROC curve')\n",
        "ax[0].legend(loc='lower right')\n",
        "\n",
        "precision, recall, _ = precision_recall_curve(y_test, test_preds)\n",
        "ax[1].plot(recall,\n",
        "           precision,\n",
        "           label=f\"AUC-PR: {auc_pr_score(y_test,test_preds):.5f}\")\n",
        "ax[1].set_xlabel('Recall')\n",
        "ax[1].set_ylabel('Precision')\n",
        "ax[1].set_title('PR curve')\n",
        "ax[1].legend(loc='lower left')\n",
        "\n",
        "fig.suptitle(\"SVC curves\")\n",
        "plt.show()"
      ]
    },
    {
      "cell_type": "markdown",
      "metadata": {
        "id": "XGHmXAku024N"
      },
      "source": [
        "А теперь проделайте все то же самое для логистической регрессии (LR) — обучение, подбор параметра регуляризации (используйте L2-регуляризацию), вычисление всех метрик и построение кривых. Сравните результаты LR и SVM с точки зрения всех вычисленных критериев качества, объясните различия (если они есть)."
      ]
    },
    {
      "cell_type": "code",
      "execution_count": null,
      "metadata": {
        "id": "IZjGULPn024N"
      },
      "outputs": [],
      "source": [
        "def get_logreg_score(C):\n",
        "    skf = StratifiedKFold(5, shuffle=True, random_state=42)\n",
        "    score_list = []\n",
        "    for trn_index, val_index in skf.split(X_train, y_train):\n",
        "        X_tr = X_train[trn_index]\n",
        "        y_tr = y_train[trn_index]\n",
        "        X_va = X_train[val_index]\n",
        "        y_va = y_train[val_index]\n",
        "        model = LogisticRegression(C=C)\n",
        "        model.fit(X_tr, y_tr)\n",
        "        preds = model.predict_proba(X_va)[:, 1]\n",
        "        score_list.append(auc_pr_score(y_va, preds))\n",
        "    return np.round(np.mean(score_list), 5)"
      ]
    },
    {
      "cell_type": "code",
      "execution_count": null,
      "metadata": {
        "id": "BG5UFLn96QIC"
      },
      "outputs": [],
      "source": [
        "c_values = [1e-6, 1e-5, 1e-4, 1e-3, 1e-2, 1e-1, 1]\n",
        "logreg_search_c = pd.Series(index=c_values, dtype=float)\n",
        "for c in c_values:\n",
        "    logreg_search_c[c] = get_logreg_score(C=c)"
      ]
    },
    {
      "cell_type": "code",
      "execution_count": null,
      "metadata": {
        "colab": {
          "base_uri": "https://localhost:8080/",
          "height": 173
        },
        "id": "sgSI5TOO6_cS",
        "outputId": "dcb76580-f1ed-441b-cdbf-2fbd28a840fa"
      },
      "outputs": [
        {
          "output_type": "display_data",
          "data": {
            "text/plain": [
              "0.000001    0.79060\n",
              "0.000010    0.79244\n",
              "0.000100    0.80467\n",
              "0.001000    0.82263\n",
              "0.010000    0.82305\n",
              "0.100000    0.82228\n",
              "1.000000    0.82214\n",
              "dtype: float64"
            ]
          },
          "metadata": {}
        },
        {
          "output_type": "stream",
          "name": "stdout",
          "text": [
            "Best AUC_PR score 0.01, best C = 0.82305\n"
          ]
        }
      ],
      "source": [
        "display(logreg_search_c)\n",
        "print(\n",
        "    f\"Best AUC_PR score {logreg_search_c.idxmax()}, best C = {logreg_search_c.max()}\"\n",
        ")"
      ]
    },
    {
      "cell_type": "code",
      "execution_count": null,
      "metadata": {
        "colab": {
          "base_uri": "https://localhost:8080/"
        },
        "id": "4TQE4cO27PTE",
        "outputId": "9a16a86b-f1c6-4c87-8ef3-80a2799de887"
      },
      "outputs": [
        {
          "output_type": "stream",
          "name": "stdout",
          "text": [
            "CPU times: user 3 µs, sys: 0 ns, total: 3 µs\n",
            "Wall time: 7.39 µs\n"
          ]
        }
      ],
      "source": [
        "%time\n",
        "model = LogisticRegression(C=0.01)\n",
        "model.fit(X_train, y_train)\n",
        "logreg_preds = model.predict_proba(X_test)[:, 1]"
      ]
    },
    {
      "cell_type": "code",
      "execution_count": null,
      "metadata": {
        "colab": {
          "base_uri": "https://localhost:8080/"
        },
        "id": "eLv6CwGy7cDj",
        "outputId": "b2891308-376f-446e-9e76-a4098be63f3d"
      },
      "outputs": [
        {
          "output_type": "stream",
          "name": "stdout",
          "text": [
            "AUC-ROC for Logistic Regression predictions: 0.84734 and for random predictions: 0.48665\n",
            "AUC-PR for Logistic Regression predictions: 0.83028 and for random predictions: 0.61974\n"
          ]
        }
      ],
      "source": [
        "print(\n",
        "    f\"AUC-ROC for Logistic Regression predictions: {roc_auc_score(y_test,logreg_preds):.5f}\",\n",
        "    end=' ')\n",
        "print(f\"and for random predictions: {roc_auc_score(y_test,random_preds):.5f}\")\n",
        "print(\n",
        "    f\"AUC-PR for Logistic Regression predictions: {auc_pr_score(y_test,logreg_preds):.5f}\",\n",
        "    end=' ')\n",
        "print(f\"and for random predictions: {auc_pr_score(y_test,random_preds):.5f}\")"
      ]
    },
    {
      "cell_type": "markdown",
      "metadata": {
        "id": "SLCi3HOd72Xz"
      },
      "source": [
        " Время обучения и прогноза, а также качество у моделей практически одинаковое"
      ]
    },
    {
      "cell_type": "code",
      "execution_count": null,
      "metadata": {
        "colab": {
          "base_uri": "https://localhost:8080/",
          "height": 616
        },
        "id": "BmuWDRu37siW",
        "outputId": "32dd0c7e-bf1b-4860-e477-48d3e7ba17a6"
      },
      "outputs": [
        {
          "output_type": "display_data",
          "data": {
            "text/plain": [
              "<Figure size 1080x648 with 2 Axes>"
            ],
            "image/png": "[encoded data removed]"
          },
          "metadata": {
            "needs_background": "light"
          }
        }
      ],
      "source": [
        "fig, ax = plt.subplots(1, 2, figsize=(15, 9))\n",
        "fpr1, tpr1, _ = roc_curve(y_test, logreg_preds)\n",
        "ax[0].plot(fpr1,\n",
        "           tpr1,\n",
        "           label=f'Logreg: {roc_auc_score(y_test,logreg_preds):.5f}',\n",
        "           color='blue')\n",
        "ax[0].plot(fpr,\n",
        "           tpr,\n",
        "           label=f'SVC: {roc_auc_score(y_test,test_preds):.5f}',\n",
        "           color='gold')\n",
        "ax[0].set_xlabel('FPR')\n",
        "ax[0].set_ylabel('TPR')\n",
        "ax[0].set_title('ROC curve')\n",
        "ax[0].legend(loc='lower right')\n",
        "\n",
        "precision1, recall1, _ = precision_recall_curve(y_test, logreg_preds)\n",
        "ax[1].plot(recall1,\n",
        "           precision1,\n",
        "           label=f\"Logreg: {auc_pr_score(y_test,logreg_preds):.5f}\",\n",
        "           color='blue')\n",
        "ax[1].plot(recall,\n",
        "           precision,\n",
        "           label=f\"SVC: {auc_pr_score(y_test,test_preds):.5f}\",\n",
        "           color='gold')\n",
        "ax[1].set_xlabel('Recall')\n",
        "ax[1].set_ylabel('Precision')\n",
        "ax[1].set_title('PR curve')\n",
        "ax[1].legend(loc='lower left')\n",
        "\n",
        "fig.suptitle(\"Logstic Regression VS SVC\")\n",
        "plt.show()"
      ]
    },
    {
      "cell_type": "markdown",
      "metadata": {
        "id": "ZjS_6njF024O"
      },
      "source": [
        "В названии метода опорных векторов присутствуют некоторые \"опорные векторы\". Сгенерируйте синтетические данные с помощью `make_classification` с 2 признаками, обучите на нём метод опорных векторов. Визуализируйте разделяющую прямую, все объекты и выделите опорные векторы (атрибут `support_vectors_`). В этот раз, если необходимо, вместо `LinearSVC` воспользуйтесь `SVC(kernel='linear')`, так как только в нём есть информация об опорных векторах."
      ]
    },
    {
      "cell_type": "code",
      "execution_count": null,
      "metadata": {
        "colab": {
          "base_uri": "https://localhost:8080/"
        },
        "id": "M4re4mZO024P",
        "outputId": "79c896c8-bb9c-4767-856b-2ad274387a84"
      },
      "outputs": [
        {
          "output_type": "execute_result",
          "data": {
            "text/plain": [
              "SVC(kernel='linear')"
            ]
          },
          "metadata": {},
          "execution_count": 19
        }
      ],
      "source": [
        "X, y = make_classification(n_samples=200,\n",
        "                           n_features=2,\n",
        "                           n_informative=2,\n",
        "                           n_redundant=0,\n",
        "                           random_state=42)\n",
        "X = scaler.fit_transform(X)\n",
        "model = SVC(kernel='linear')\n",
        "model.fit(X, y)"
      ]
    },
    {
      "cell_type": "code",
      "execution_count": null,
      "metadata": {
        "colab": {
          "base_uri": "https://localhost:8080/",
          "height": 265
        },
        "id": "MD4mdvmFOpTD",
        "outputId": "89cd7e8d-c6d3-4d68-d6e1-ea8baea11d22"
      },
      "outputs": [
        {
          "output_type": "display_data",
          "data": {
            "text/plain": [
              "<Figure size 432x288 with 1 Axes>"
            ],
            "image/png": "[encoded data removed]"
          },
          "metadata": {
            "needs_background": "light"
          }
        }
      ],
      "source": [
        "# from https://medium.com/swlh/visualizing-svm-with-python-4b4b238a7a92\n",
        "ax = plt.gca()\n",
        "plt.scatter(X[:, 0], X[:, 1], c=y, s=30, cmap=plt.cm.Paired)\n",
        "xlim = ax.get_xlim()\n",
        "ylim = ax.get_ylim()\n",
        "\n",
        "xx = np.linspace(xlim[0], xlim[1], 100)\n",
        "yy = np.linspace(ylim[0], ylim[1], 100)\n",
        "YY, XX = np.meshgrid(yy, xx)\n",
        "xy = np.vstack([XX.ravel(), YY.ravel()]).T\n",
        "Z = model.decision_function(xy).reshape(XX.shape)\n",
        "\n",
        "ax.contour(XX,\n",
        "           YY,\n",
        "           Z,\n",
        "           colors='k',\n",
        "           levels=[-1, 0, 1],\n",
        "           alpha=0.5,\n",
        "           linestyles=['--', '-', '--'])\n",
        "\n",
        "ax.scatter(model.support_vectors_[:, 0],\n",
        "           model.support_vectors_[:, 1],\n",
        "           s=100,\n",
        "           linewidth=1,\n",
        "           facecolors='none',\n",
        "           edgecolors='k')\n",
        "plt.show()"
      ]
    },
    {
      "cell_type": "markdown",
      "metadata": {
        "id": "-iX8SiDG024P"
      },
      "source": [
        "В отличие от метода опорных векторов, логистическая регрессия не пытается построить разделяющую гиперплоскость с максимальным отступом, а приближает в каждой точке пространства объектов вероятность положительных ответов $p(y=+1|x)$. Попробуйте нарисовать это распределение на плоскости, не забудьте отметить на ней все объекты. Вам может помочь функция `plt.pcolor`."
      ]
    },
    {
      "cell_type": "code",
      "execution_count": null,
      "metadata": {
        "colab": {
          "base_uri": "https://localhost:8080/",
          "height": 396
        },
        "id": "87o2sxCe024Q",
        "outputId": "9ae4427e-30f0-4612-f10c-49057d196ce5"
      },
      "outputs": [
        {
          "output_type": "display_data",
          "data": {
            "text/plain": [
              "<Figure size 576x432 with 2 Axes>"
            ],
            "image/png": "[encoded data removed]"
          },
          "metadata": {
            "needs_background": "light"
          }
        }
      ],
      "source": [
        "# from https://stackoverflow.com/questions/28256058/plotting-decision-boundary-of-logistic-regression\n",
        "model = LogisticRegression()\n",
        "model.fit(X, y)\n",
        "\n",
        "xx, yy = np.mgrid[-5:5:.01, -5:5:.01]\n",
        "grid = np.c_[xx.ravel(), yy.ravel()]\n",
        "probs = model.predict_proba(grid)[:, 1].reshape(xx.shape)\n",
        "\n",
        "f, ax = plt.subplots(figsize=(8, 6))\n",
        "contour = ax.contourf(xx, yy, probs, 25, cmap=\"RdBu\", vmin=0, vmax=1)\n",
        "ax_c = f.colorbar(contour)\n",
        "ax_c.set_label(\"$P(y = 1)$\")\n",
        "ax_c.set_ticks([0, .25, .5, .75, 1])\n",
        "\n",
        "ax.scatter(X[100:, 0],\n",
        "           X[100:, 1],\n",
        "           c=y[100:],\n",
        "           s=50,\n",
        "           cmap=\"RdBu\",\n",
        "           vmin=-.2,\n",
        "           vmax=1.2,\n",
        "           edgecolor=\"white\",\n",
        "           linewidth=1)\n",
        "\n",
        "ax.set(aspect=\"equal\",\n",
        "       xlim=(-5, 5),\n",
        "       ylim=(-5, 5),\n",
        "       xlabel=\"$X_1$\",\n",
        "       ylabel=\"$X_2$\")\n",
        "plt.show()"
      ]
    },
    {
      "cell_type": "markdown",
      "metadata": {
        "id": "sWi33uqB024Q"
      },
      "source": [
        "__Задание 2.__ Калибровка вероятностей.\n",
        "\n",
        "__(1 балл)__\n",
        "\n",
        "Перейдём к оценке качества выдаваемых алгоритмами вероятностей. Начнём с калибровочных кривых. \n",
        "\n",
        "Допустим, алгоритм возвращает некоторые числа от нуля до единицы. Хорошо ли они оценивают вероятность? Для этого разобьем отрезок $[0, 1]$ на несколько маленьких отрезков одинаковой длины. Рассмотрим $i$-й отрезок с границами $[a_i, b_i]$ и предсказания $p_1, p_2, \\dots, p_k$, которые попали в него. Пусть им соответствуют истинные ответы $y_1, y_2, \\dots, y_k$. Если алгоритм выдает корректные вероятности, то среди этих истинных ответов должно быть примерно $(a_i + b_i) / 2$ единиц. Иными словами, если нарисовать кривую, у которой по оси X отложены центры отрезков, а по оси Y — доли единичных ответов этих в отрезках, то она должна оказаться диагональной. Ниже приведена функция, которая должна рисовать такие кривые. В ней допущено две ошибки — найдите и исправьте их."
      ]
    },
    {
      "cell_type": "code",
      "execution_count": null,
      "metadata": {
        "id": "_lWmoFhtTEZ3"
      },
      "outputs": [],
      "source": [
        "\"\"\"\n",
        "def plot_calibration_curve(y_test, preds):\n",
        "    bin_middle_points = []\n",
        "    bin_real_ratios = []\n",
        "    n_bins = 10\n",
        "    for i in range(n_bins):\n",
        "        l = 1.0 / n_bins * i\n",
        "        r = 1.0 / n_bins * (i + 1)\n",
        "        bin_middle_points.append((l - r) / 2) \n",
        "        bin_real_ratios.append(np.min(y_test[(preds >= l) & (preds < r)] == 1)) \n",
        "    plt.figure(figsize=(6,6))\n",
        "    plt.plot(bin_middle_points, bin_real_ratios)\n",
        "    plt.ylim([-0.05, 1.05])\n",
        "    plt.grid()\n",
        "\"\"\""
      ]
    },
    {
      "cell_type": "code",
      "execution_count": null,
      "metadata": {
        "id": "YJLYuAk-024R"
      },
      "outputs": [],
      "source": [
        "def plot_calibration_curve(y_test, preds):\n",
        "    bin_middle_points = []\n",
        "    bin_real_ratios = []\n",
        "    n_bins = 10\n",
        "    for i in range(n_bins):\n",
        "        l = 1.0 / n_bins * i\n",
        "        r = 1.0 / n_bins * (i + 1)\n",
        "        bin_middle_points.append((l + r) / 2)\n",
        "        bin_real_ratios.append(np.mean(y_test[(preds >= l)\n",
        "                                              & (preds < r)] == 1))\n",
        "    plt.figure(figsize=(6, 6))\n",
        "    plt.plot(bin_middle_points, bin_real_ratios)\n",
        "    plt.ylim([-0.05, 1.05])\n",
        "    plt.grid()"
      ]
    },
    {
      "cell_type": "markdown",
      "metadata": {
        "id": "Gzu0LCP_024R"
      },
      "source": [
        "Сгенерируйте синтетические данные аналогично использованным в самом первом задании. Постройте калибровочные кривые на тестовой части для логистической регрессии и метода опорных векторов (не забудьте перевести его предсказания в $[0;1]$). Изучите распределение ответов классификаторов (постройте гистограммы с помощью `plt.hist`). Чем они различаются? Чем вы можете объяснить это?"
      ]
    },
    {
      "cell_type": "code",
      "execution_count": null,
      "metadata": {
        "id": "NA5exq_wRCh1"
      },
      "outputs": [],
      "source": [
        "def sigmoid(x):\n",
        "    return (1 / (1 + np.exp(-x)))"
      ]
    },
    {
      "cell_type": "code",
      "execution_count": null,
      "metadata": {
        "id": "RV4mm6-s024S"
      },
      "outputs": [],
      "source": [
        "X, y = make_classification(n_samples=10000,\n",
        "                           n_features=10,\n",
        "                           n_informative=5,\n",
        "                           n_redundant=5,\n",
        "                           random_state=42)\n",
        "\n",
        "X_train, X_test, y_train, y_test = train_test_split(X,\n",
        "                                                    y,\n",
        "                                                    test_size=0.3,\n",
        "                                                    random_state=42)"
      ]
    },
    {
      "cell_type": "code",
      "execution_count": null,
      "metadata": {
        "id": "PeM6UvpHQyOS"
      },
      "outputs": [],
      "source": [
        "logreg = LogisticRegression()\n",
        "logreg.fit(X_train, y_train)\n",
        "logreg_preds = logreg.predict_proba(X_test)[:, 1]\n",
        "svc = LinearSVC(max_iter=10000)\n",
        "svc.fit(X_train, y_train)\n",
        "svc_preds = sigmoid(svc.decision_function(X_test))"
      ]
    },
    {
      "cell_type": "code",
      "execution_count": null,
      "metadata": {
        "colab": {
          "base_uri": "https://localhost:8080/",
          "height": 390
        },
        "id": "f6QRTteZRkP4",
        "outputId": "fc532c7a-5490-44e4-bf3e-7ca3a5ed06de"
      },
      "outputs": [
        {
          "output_type": "display_data",
          "data": {
            "text/plain": [
              "<Figure size 432x432 with 1 Axes>"
            ],
            "image/png": "[encoded data removed]"
          },
          "metadata": {
            "needs_background": "light"
          }
        }
      ],
      "source": [
        "plot_calibration_curve(y_test, logreg_preds)\n",
        "plt.plot([0, 1], [0, 1], linestyle='dotted', color='black')\n",
        "plt.title('Logistic Regression')\n",
        "plt.show()"
      ]
    },
    {
      "cell_type": "code",
      "execution_count": null,
      "metadata": {
        "colab": {
          "base_uri": "https://localhost:8080/",
          "height": 390
        },
        "id": "XSFYGq1kT1Dq",
        "outputId": "fc388f0b-fe8a-460c-bd7b-c119aa108b9c"
      },
      "outputs": [
        {
          "output_type": "display_data",
          "data": {
            "text/plain": [
              "<Figure size 432x432 with 1 Axes>"
            ],
            "image/png": "[encoded data removed]"
          },
          "metadata": {
            "needs_background": "light"
          }
        }
      ],
      "source": [
        "plot_calibration_curve(y_test, svc_preds)\n",
        "plt.plot([0, 1], [0, 1], linestyle='dotted', color='black')\n",
        "plt.title('SVC')\n",
        "plt.show()"
      ]
    },
    {
      "cell_type": "code",
      "execution_count": null,
      "metadata": {
        "colab": {
          "base_uri": "https://localhost:8080/",
          "height": 602
        },
        "id": "_AkZCWrBUDRU",
        "outputId": "9a67063a-0312-41af-9504-6d291183dfad"
      },
      "outputs": [
        {
          "output_type": "display_data",
          "data": {
            "text/plain": [
              "<Figure size 864x648 with 2 Axes>"
            ],
            "image/png": "[encoded data removed]"
          },
          "metadata": {
            "needs_background": "light"
          }
        }
      ],
      "source": [
        "fig, ax = plt.subplots(1, 2, figsize=(12, 9))\n",
        "ax[0].hist(svc_preds, bins=25)\n",
        "ax[0].set_title('SVC')\n",
        "ax[1].hist(logreg_preds, color='gold', bins=25)\n",
        "ax[1].set_title('Logistic Regression')\n",
        "fig.suptitle('Distribution of predictions')\n",
        "plt.show()"
      ]
    },
    {
      "cell_type": "markdown",
      "metadata": {
        "id": "i-q8m2Xh024T"
      },
      "source": [
        "Воспользуйтесь `CalibratedClassifierCV` из `sklearn` для калибровки вероятностей метода опорных векторов на обучении и постройте с его помощью предсказания для тестовой выборки. Нарисуйте для них калибровочную кривую. Улучшилась ли она?"
      ]
    },
    {
      "cell_type": "code",
      "execution_count": null,
      "metadata": {
        "colab": {
          "base_uri": "https://localhost:8080/",
          "height": 390
        },
        "id": "kzV7ip1_WcqU",
        "outputId": "ccfc34fe-7d2b-48a2-a317-0c6ad58f7ef0"
      },
      "outputs": [
        {
          "output_type": "display_data",
          "data": {
            "text/plain": [
              "<Figure size 432x432 with 1 Axes>"
            ],
            "image/png": "[encoded data removed]"
          },
          "metadata": {
            "needs_background": "light"
          }
        }
      ],
      "source": [
        "isotonic_svc = CalibratedClassifierCV(svc, cv=5, method='isotonic')\n",
        "isotonic_svc.fit(X_train, y_train)\n",
        "isotonic_svc_preds = isotonic_svc.predict_proba(X_test)[:, 1]\n",
        "plot_calibration_curve(y_test, isotonic_svc_preds)\n",
        "plt.plot([0, 1], [0, 1], linestyle='dotted', color='black')\n",
        "plt.title('Isotonic SVC')\n",
        "plt.show()"
      ]
    },
    {
      "cell_type": "markdown",
      "metadata": {
        "id": "8xSYlzVk024T"
      },
      "source": [
        "__Бонусное задание (0.5 балла).__ Реализуйте свою функцию для калибровки вероятностей. Опишите ваш подход и продемонстрируйте результаты. Ключевые слова для вдохновения: `Platt`, `Isotonic`."
      ]
    },
    {
      "cell_type": "code",
      "execution_count": null,
      "metadata": {
        "id": "jyv59cOX024U"
      },
      "outputs": [],
      "source": [
        "#your code here"
      ]
    },
    {
      "cell_type": "markdown",
      "metadata": {
        "id": "PMw3AwqU024V"
      },
      "source": [
        "# Часть 1. Работа с переменными."
      ]
    },
    {
      "cell_type": "markdown",
      "metadata": {
        "id": "cmPgJImq024V"
      },
      "source": [
        "В этой части мы научимся обрабатывать категориальные переменные, так как закодировать их в виде чисел недостаточно (это задаёт некоторый порядок, которого на категориальных переменных может и не быть). Существует два основных способа обработки категориальных значений:\n",
        "- One-hot-кодирование\n",
        "- Счётчики (CTR, mean-target кодирование, ...) — каждый категориальный признак заменяется на среднее значение целевой переменной по всем объектам, имеющим одинаковое значение в этом признаке.\n",
        "\n",
        "Начнём с one-hot-кодирования. Допустим наш категориальный признак $f_j(x)$ принимает значения из множества $C=\\{c_1, \\dots, c_m\\}$. Заменим его на $m$ бинарных признаков $b_1(x), \\dots, b_m(x)$, каждый из которых является индикатором одного из возможных категориальных значений:\n",
        "$$\n",
        "b_i(x) = [f_j(x) = c_i]\n",
        "$$"
      ]
    },
    {
      "cell_type": "markdown",
      "metadata": {
        "id": "ERl3eMNP024V"
      },
      "source": [
        "__Подготовка данных.__\n",
        "\n",
        "Загрузим данные [UCI Bank Marketing Dataset](https://archive.ics.uci.edu/ml/datasets/bank+marketing). Этот датасет содержит информацию о банковском телефонном маркетинге, объектом в нем является телефонный звонок потенциальному клиенту с предложением некоторой услуги (утверждается, что это краткосрочный депозит), целевой переменной - ответ клиента (согласился ли он открыть депозит?). В качестве признакового описания используются характеристики клиента (образование, брак и т.д.), данные о звонке и различные экономические индикаторы - более подробная информация представлена в файле `bank-additional-names.txt`."
      ]
    },
    {
      "cell_type": "code",
      "execution_count": null,
      "metadata": {
        "id": "R6KHjGs2bfwz"
      },
      "outputs": [],
      "source": [
        "from sklearn.preprocessing import OrdinalEncoder\n",
        "import time"
      ]
    },
    {
      "cell_type": "code",
      "execution_count": null,
      "metadata": {
        "id": "i7mdLOY-024W"
      },
      "outputs": [],
      "source": [
        "!wget https://archive.ics.uci.edu/ml/machine-learning-databases/00222/bank-additional.zip\n",
        "!unzip bank-additional.zip\n",
        "df = pd.read_csv('bank-additional/bank-additional-full.csv', sep=';')"
      ]
    },
    {
      "cell_type": "code",
      "execution_count": null,
      "metadata": {
        "id": "-ax6mFtmZxnu"
      },
      "outputs": [],
      "source": [
        "df = pd.read_csv('bank-additional/bank-additional-full.csv', sep=';')"
      ]
    },
    {
      "cell_type": "code",
      "execution_count": null,
      "metadata": {
        "colab": {
          "base_uri": "https://localhost:8080/",
          "height": 206
        },
        "id": "5BedaKke024W",
        "outputId": "48384981-26c0-4088-b73a-33ae09eae400"
      },
      "outputs": [
        {
          "output_type": "execute_result",
          "data": {
            "text/plain": [
              "   age        job  marital    education  default housing loan    contact  \\\n",
              "0   56  housemaid  married     basic.4y       no      no   no  telephone   \n",
              "1   57   services  married  high.school  unknown      no   no  telephone   \n",
              "2   37   services  married  high.school       no     yes   no  telephone   \n",
              "3   40     admin.  married     basic.6y       no      no   no  telephone   \n",
              "4   56   services  married  high.school       no      no  yes  telephone   \n",
              "\n",
              "  month day_of_week  duration  campaign  pdays  previous     poutcome  \\\n",
              "0   may         mon       261         1    999         0  nonexistent   \n",
              "1   may         mon       149         1    999         0  nonexistent   \n",
              "2   may         mon       226         1    999         0  nonexistent   \n",
              "3   may         mon       151         1    999         0  nonexistent   \n",
              "4   may         mon       307         1    999         0  nonexistent   \n",
              "\n",
              "   emp.var.rate  cons.price.idx  cons.conf.idx  euribor3m  nr.employed   y  \n",
              "0           1.1          93.994          -36.4      4.857       5191.0  no  \n",
              "1           1.1          93.994          -36.4      4.857       5191.0  no  \n",
              "2           1.1          93.994          -36.4      4.857       5191.0  no  \n",
              "3           1.1          93.994          -36.4      4.857       5191.0  no  \n",
              "4           1.1          93.994          -36.4      4.857       5191.0  no  "
            ],
            "text/html": [
              "\n",
              "  <div id=\"df-dc59db9e-5378-4d30-a68b-a2a039c00d1d\">\n",
              "    <div class=\"colab-df-container\">\n",
              "      <div>\n",
              "<style scoped>\n",
              "    .dataframe tbody tr th:only-of-type {\n",
              "        vertical-align: middle;\n",
              "    }\n",
              "\n",
              "    .dataframe tbody tr th {\n",
              "        vertical-align: top;\n",
              "    }\n",
              "\n",
              "    .dataframe thead th {\n",
              "        text-align: right;\n",
              "    }\n",
              "</style>\n",
              "<table border=\"1\" class=\"dataframe\">\n",
              "  <thead>\n",
              "    <tr style=\"text-align: right;\">\n",
              "      <th></th>\n",
              "      <th>age</th>\n",
              "      <th>job</th>\n",
              "      <th>marital</th>\n",
              "      <th>education</th>\n",
              "      <th>default</th>\n",
              "      <th>housing</th>\n",
              "      <th>loan</th>\n",
              "      <th>contact</th>\n",
              "      <th>month</th>\n",
              "      <th>day_of_week</th>\n",
              "      <th>duration</th>\n",
              "      <th>campaign</th>\n",
              "      <th>pdays</th>\n",
              "      <th>previous</th>\n",
              "      <th>poutcome</th>\n",
              "      <th>emp.var.rate</th>\n",
              "      <th>cons.price.idx</th>\n",
              "      <th>cons.conf.idx</th>\n",
              "      <th>euribor3m</th>\n",
              "      <th>nr.employed</th>\n",
              "      <th>y</th>\n",
              "    </tr>\n",
              "  </thead>\n",
              "  <tbody>\n",
              "    <tr>\n",
              "      <th>0</th>\n",
              "      <td>56</td>\n",
              "      <td>housemaid</td>\n",
              "      <td>married</td>\n",
              "      <td>basic.4y</td>\n",
              "      <td>no</td>\n",
              "      <td>no</td>\n",
              "      <td>no</td>\n",
              "      <td>telephone</td>\n",
              "      <td>may</td>\n",
              "      <td>mon</td>\n",
              "      <td>261</td>\n",
              "      <td>1</td>\n",
              "      <td>999</td>\n",
              "      <td>0</td>\n",
              "      <td>nonexistent</td>\n",
              "      <td>1.1</td>\n",
              "      <td>93.994</td>\n",
              "      <td>-36.4</td>\n",
              "      <td>4.857</td>\n",
              "      <td>5191.0</td>\n",
              "      <td>no</td>\n",
              "    </tr>\n",
              "    <tr>\n",
              "      <th>1</th>\n",
              "      <td>57</td>\n",
              "      <td>services</td>\n",
              "      <td>married</td>\n",
              "      <td>high.school</td>\n",
              "      <td>unknown</td>\n",
              "      <td>no</td>\n",
              "      <td>no</td>\n",
              "      <td>telephone</td>\n",
              "      <td>may</td>\n",
              "      <td>mon</td>\n",
              "      <td>149</td>\n",
              "      <td>1</td>\n",
              "      <td>999</td>\n",
              "      <td>0</td>\n",
              "      <td>nonexistent</td>\n",
              "      <td>1.1</td>\n",
              "      <td>93.994</td>\n",
              "      <td>-36.4</td>\n",
              "      <td>4.857</td>\n",
              "      <td>5191.0</td>\n",
              "      <td>no</td>\n",
              "    </tr>\n",
              "    <tr>\n",
              "      <th>2</th>\n",
              "      <td>37</td>\n",
              "      <td>services</td>\n",
              "      <td>married</td>\n",
              "      <td>high.school</td>\n",
              "      <td>no</td>\n",
              "      <td>yes</td>\n",
              "      <td>no</td>\n",
              "      <td>telephone</td>\n",
              "      <td>may</td>\n",
              "      <td>mon</td>\n",
              "      <td>226</td>\n",
              "      <td>1</td>\n",
              "      <td>999</td>\n",
              "      <td>0</td>\n",
              "      <td>nonexistent</td>\n",
              "      <td>1.1</td>\n",
              "      <td>93.994</td>\n",
              "      <td>-36.4</td>\n",
              "      <td>4.857</td>\n",
              "      <td>5191.0</td>\n",
              "      <td>no</td>\n",
              "    </tr>\n",
              "    <tr>\n",
              "      <th>3</th>\n",
              "      <td>40</td>\n",
              "      <td>admin.</td>\n",
              "      <td>married</td>\n",
              "      <td>basic.6y</td>\n",
              "      <td>no</td>\n",
              "      <td>no</td>\n",
              "      <td>no</td>\n",
              "      <td>telephone</td>\n",
              "      <td>may</td>\n",
              "      <td>mon</td>\n",
              "      <td>151</td>\n",
              "      <td>1</td>\n",
              "      <td>999</td>\n",
              "      <td>0</td>\n",
              "      <td>nonexistent</td>\n",
              "      <td>1.1</td>\n",
              "      <td>93.994</td>\n",
              "      <td>-36.4</td>\n",
              "      <td>4.857</td>\n",
              "      <td>5191.0</td>\n",
              "      <td>no</td>\n",
              "    </tr>\n",
              "    <tr>\n",
              "      <th>4</th>\n",
              "      <td>56</td>\n",
              "      <td>services</td>\n",
              "      <td>married</td>\n",
              "      <td>high.school</td>\n",
              "      <td>no</td>\n",
              "      <td>no</td>\n",
              "      <td>yes</td>\n",
              "      <td>telephone</td>\n",
              "      <td>may</td>\n",
              "      <td>mon</td>\n",
              "      <td>307</td>\n",
              "      <td>1</td>\n",
              "      <td>999</td>\n",
              "      <td>0</td>\n",
              "      <td>nonexistent</td>\n",
              "      <td>1.1</td>\n",
              "      <td>93.994</td>\n",
              "      <td>-36.4</td>\n",
              "      <td>4.857</td>\n",
              "      <td>5191.0</td>\n",
              "      <td>no</td>\n",
              "    </tr>\n",
              "  </tbody>\n",
              "</table>\n",
              "</div>\n",
              "      <button class=\"colab-df-convert\" onclick=\"convertToInteractive('df-dc59db9e-5378-4d30-a68b-a2a039c00d1d')\"\n",
              "              title=\"Convert this dataframe to an interactive table.\"\n",
              "              style=\"display:none;\">\n",
              "        \n",
              "  <svg xmlns=\"http://www.w3.org/2000/svg\" height=\"24px\"viewBox=\"0 0 24 24\"\n",
              "       width=\"24px\">\n",
              "    <path d=\"M0 0h24v24H0V0z\" fill=\"none\"/>\n",
              "    <path d=\"M18.56 5.44l.94 2.06.94-2.06 2.06-.94-2.06-.94-.94-2.06-.94 2.06-2.06.94zm-11 1L8.5 8.5l.94-2.06 2.06-.94-2.06-.94L8.5 2.5l-.94 2.06-2.06.94zm10 10l.94 2.06.94-2.06 2.06-.94-2.06-.94-.94-2.06-.94 2.06-2.06.94z\"/><path d=\"M17.41 7.96l-1.37-1.37c-.4-.4-.92-.59-1.43-.59-.52 0-1.04.2-1.43.59L10.3 9.45l-7.72 7.72c-.78.78-.78 2.05 0 2.83L4 21.41c.39.39.9.59 1.41.59.51 0 1.02-.2 1.41-.59l7.78-7.78 2.81-2.81c.8-.78.8-2.07 0-2.86zM5.41 20L4 18.59l7.72-7.72 1.47 1.35L5.41 20z\"/>\n",
              "  </svg>\n",
              "      </button>\n",
              "      \n",
              "  <style>\n",
              "    .colab-df-container {\n",
              "      display:flex;\n",
              "      flex-wrap:wrap;\n",
              "      gap: 12px;\n",
              "    }\n",
              "\n",
              "    .colab-df-convert {\n",
              "      background-color: #E8F0FE;\n",
              "      border: none;\n",
              "      border-radius: 50%;\n",
              "      cursor: pointer;\n",
              "      display: none;\n",
              "      fill: #1967D2;\n",
              "      height: 32px;\n",
              "      padding: 0 0 0 0;\n",
              "      width: 32px;\n",
              "    }\n",
              "\n",
              "    .colab-df-convert:hover {\n",
              "      background-color: #E2EBFA;\n",
              "      box-shadow: 0px 1px 2px rgba(60, 64, 67, 0.3), 0px 1px 3px 1px rgba(60, 64, 67, 0.15);\n",
              "      fill: #174EA6;\n",
              "    }\n",
              "\n",
              "    [theme=dark] .colab-df-convert {\n",
              "      background-color: #3B4455;\n",
              "      fill: #D2E3FC;\n",
              "    }\n",
              "\n",
              "    [theme=dark] .colab-df-convert:hover {\n",
              "      background-color: #434B5C;\n",
              "      box-shadow: 0px 1px 3px 1px rgba(0, 0, 0, 0.15);\n",
              "      filter: drop-shadow(0px 1px 2px rgba(0, 0, 0, 0.3));\n",
              "      fill: #FFFFFF;\n",
              "    }\n",
              "  </style>\n",
              "\n",
              "      <script>\n",
              "        const buttonEl =\n",
              "          document.querySelector('#df-dc59db9e-5378-4d30-a68b-a2a039c00d1d button.colab-df-convert');\n",
              "        buttonEl.style.display =\n",
              "          google.colab.kernel.accessAllowed ? 'block' : 'none';\n",
              "\n",
              "        async function convertToInteractive(key) {\n",
              "          const element = document.querySelector('#df-dc59db9e-5378-4d30-a68b-a2a039c00d1d');\n",
              "          const dataTable =\n",
              "            await google.colab.kernel.invokeFunction('convertToInteractive',\n",
              "                                                     [key], {});\n",
              "          if (!dataTable) return;\n",
              "\n",
              "          const docLinkHtml = 'Like what you see? Visit the ' +\n",
              "            '<a target=\"_blank\" href=https://colab.research.google.com/notebooks/data_table.ipynb>data table notebook</a>'\n",
              "            + ' to learn more about interactive tables.';\n",
              "          element.innerHTML = '';\n",
              "          dataTable['output_type'] = 'display_data';\n",
              "          await google.colab.output.renderOutput(dataTable, element);\n",
              "          const docLink = document.createElement('div');\n",
              "          docLink.innerHTML = docLinkHtml;\n",
              "          element.appendChild(docLink);\n",
              "        }\n",
              "      </script>\n",
              "    </div>\n",
              "  </div>\n",
              "  "
            ]
          },
          "metadata": {},
          "execution_count": 34
        }
      ],
      "source": [
        "df.head()"
      ]
    },
    {
      "cell_type": "markdown",
      "metadata": {
        "id": "kvKDrFay024X"
      },
      "source": [
        "__Задание 3 (0.5 балла).__ Разделите выборку на обучающую и тестовую в соотношении 3:1. Зафиксируйте `random_state=777`, также используйте `stratify`. Один из столбцов в данных не несет информации для решения задачи — какой? Отбросьте его. \n",
        "\n"
      ]
    },
    {
      "cell_type": "markdown",
      "metadata": {
        "id": "X8kvXKdvaAG5"
      },
      "source": [
        "Из описания датасета:\n",
        "\n",
        "duration: last contact duration, in seconds (numeric). Important note: this attribute highly affects the output target (e.g., if duration=0 then y='no'). Yet, the duration is not known before a call is performed. Also, after the end of the call y is obviously known. Thus, this input should only be included for benchmark purposes and should be discarded if the intention is to have a realistic predictive model."
      ]
    },
    {
      "cell_type": "code",
      "execution_count": null,
      "metadata": {
        "id": "D3QZo93TaH3b"
      },
      "outputs": [],
      "source": [
        "del df['duration']\n",
        "df['y'] = df['y'].map({'yes': 1, 'no': 0})\n",
        "target = df.iloc[:, -1].values\n",
        "X_train, X_test, y_train, y_test = train_test_split(df.iloc[:, :-1],\n",
        "                                                    target,\n",
        "                                                    test_size=0.25,\n",
        "                                                    shuffle=True,\n",
        "                                                    random_state=777,\n",
        "                                                    stratify=target)"
      ]
    },
    {
      "cell_type": "markdown",
      "metadata": {
        "id": "zO9O_g7x024Y"
      },
      "source": [
        "Закодируйте категориальные признаки с помощью `OrdinalEncoder`. Посчитайте качество (в этом задании будем работать c `AUC-PR`) при применении логистической регрессии. Замерьте время, потребовавшееся на обучение модели (с учетом кодирования признаков).\n",
        "\n",
        "__Вопрос__: почему в данном задании мы выбрали метрикой именно `AUC-PR`, а не, к примеру, `AUC-ROC`?\n",
        "\n",
        "__Ваш ответ__: поскольку `AUC-PR` менее чувствителен к дисбалансу классов"
      ]
    },
    {
      "cell_type": "code",
      "execution_count": null,
      "metadata": {
        "colab": {
          "base_uri": "https://localhost:8080/"
        },
        "id": "KZaWN4kKclx1",
        "outputId": "507600b4-ea05-451c-9153-c5e8bcb69b90"
      },
      "outputs": [
        {
          "output_type": "execute_result",
          "data": {
            "text/plain": [
              "0    0.887346\n",
              "1    0.112654\n",
              "Name: y, dtype: float64"
            ]
          },
          "metadata": {},
          "execution_count": 36
        }
      ],
      "source": [
        "df['y'].value_counts() / len(df)"
      ]
    },
    {
      "cell_type": "code",
      "execution_count": null,
      "metadata": {
        "id": "8AgNT8jAbJZy"
      },
      "outputs": [],
      "source": [
        "cat_features = X_train.dtypes[X_train.dtypes == 'object'].index.tolist()\n",
        "num_features = [c for c in X_train.columns if c not in cat_features]"
      ]
    },
    {
      "cell_type": "code",
      "execution_count": null,
      "metadata": {
        "id": "DrXdRo103K2c"
      },
      "outputs": [],
      "source": [
        "def preprocess(train,\n",
        "               test,\n",
        "               encoder,\n",
        "               cat_features,\n",
        "               num_features,\n",
        "               train_target=None):\n",
        "    if train_target is not None:\n",
        "        categorical_train = encoder.fit_transform(train[cat_features],\n",
        "                                                  train_target)\n",
        "    else:\n",
        "        categorical_train = encoder.fit_transform(train[cat_features])\n",
        "    categorical_test = encoder.transform(test[cat_features])\n",
        "    if type(categorical_train) != np.ndarray:\n",
        "        categorical_train = categorical_train.toarray()\n",
        "        categorical_test = categorical_test.toarray()\n",
        "    num_train = scaler.fit_transform(train[num_features])\n",
        "    num_test = scaler.transform(test[num_features])\n",
        "    train = np.hstack([num_train, categorical_train])\n",
        "    test = np.hstack([num_test, categorical_test])\n",
        "    #train = scaler.fit_transform(train)\n",
        "    #test = scaler.transform(test)\n",
        "    return train, test"
      ]
    },
    {
      "cell_type": "code",
      "execution_count": null,
      "metadata": {
        "id": "MBAanT04d0TF"
      },
      "outputs": [],
      "source": [
        "def fit_logreg(train,\n",
        "               train_target,\n",
        "               test,\n",
        "               test_target,\n",
        "               encoder,\n",
        "               num_features=num_features,\n",
        "               cat_features=cat_features,\n",
        "               mean_enc=False):\n",
        "    score_list = []\n",
        "    start_time = time.time()\n",
        "    if mean_enc:\n",
        "        train, test = preprocess(train,\n",
        "                                 test,\n",
        "                                 encoder,\n",
        "                                 cat_features,\n",
        "                                 num_features,\n",
        "                                 train_target=train_target)\n",
        "    else:\n",
        "        train, test = preprocess(train, test, encoder, cat_features,\n",
        "                                 num_features)\n",
        "\n",
        "    skf = StratifiedKFold(5, shuffle=True, random_state=777)\n",
        "    for trn_index, val_index in skf.split(train, train_target):\n",
        "        X_tr = train[trn_index]\n",
        "        y_tr = train_target[trn_index]\n",
        "        X_va = train[val_index]\n",
        "        y_va = train_target[val_index]\n",
        "        model = LogisticRegression(max_iter=10000)\n",
        "        model.fit(X_tr, y_tr)\n",
        "        preds = model.predict_proba(X_va)[:, 1]\n",
        "        score_list.append(auc_pr_score(y_va, preds))\n",
        "    model.fit(train, train_target)\n",
        "    test_preds = model.predict_proba(test)[:, 1]\n",
        "    end_time = time.time()\n",
        "    test_score = auc_pr_score(test_target, test_preds)\n",
        "    cv_score = np.round(np.mean(score_list), 5)\n",
        "    return cv_score, test_score, end_time - start_time"
      ]
    },
    {
      "cell_type": "code",
      "execution_count": null,
      "metadata": {
        "colab": {
          "base_uri": "https://localhost:8080/"
        },
        "id": "k9xFeVH4fn7W",
        "outputId": "4b7dbb4a-36e0-4ab3-a46b-f90f08f9b580"
      },
      "outputs": [
        {
          "output_type": "stream",
          "name": "stdout",
          "text": [
            "Logistic Regression with Ordinal Encoder\n",
            "CV score: 0.44089\n",
            "test score: 0.44184\n",
            "time: 2.57904 sec\n"
          ]
        }
      ],
      "source": [
        "cv_score, test_score, time_taken = fit_logreg(X_train, y_train, X_test, y_test,\n",
        "                                              OrdinalEncoder())\n",
        "print(\n",
        "    f\"Logistic Regression with Ordinal Encoder\\nCV score: {cv_score}\\ntest score: {test_score}\\ntime: {time_taken:.5f} sec\"\n",
        ")"
      ]
    },
    {
      "cell_type": "markdown",
      "metadata": {
        "id": "HhrshKAv024Z"
      },
      "source": [
        "__Задание 4 (0.5 балла).__ Закодируйте все категориальные признаки с помощью one-hot-кодирования. Обучите логистическую регрессию и посмотрите, как изменилось качество модели (с тем, что было до кодирования). Измерьте время, потребовавшееся на кодирование категориальных признаков и обучение модели.\n",
        "\n"
      ]
    },
    {
      "cell_type": "code",
      "execution_count": null,
      "metadata": {
        "id": "lfE6rxT-bC_D"
      },
      "outputs": [],
      "source": [
        "from sklearn.preprocessing import OneHotEncoder"
      ]
    },
    {
      "cell_type": "code",
      "execution_count": null,
      "metadata": {
        "colab": {
          "base_uri": "https://localhost:8080/"
        },
        "id": "L1SaM1LT024Z",
        "outputId": "96cf5888-bc82-4bea-928c-02efbcdb7f90"
      },
      "outputs": [
        {
          "output_type": "stream",
          "name": "stdout",
          "text": [
            "Logistic Regression with One Hot Encoder\n",
            "CV score: 0.4514\n",
            "test score: 0.44923\n",
            "time: 14.74692 sec\n"
          ]
        }
      ],
      "source": [
        "cv_score, test_score, time_taken = fit_logreg(X_train, y_train, X_test, y_test,\n",
        "                                              OneHotEncoder())\n",
        "print(\n",
        "    f\"Logistic Regression with One Hot Encoder\\nCV score: {cv_score}\\ntest score: {test_score}\\ntime: {time_taken:.5f} sec\"\n",
        ")"
      ]
    },
    {
      "cell_type": "markdown",
      "metadata": {
        "id": "S3x-mOEB024a"
      },
      "source": [
        "Как можно было заменить, one-hot-кодирование может сильно увеличивать количество признаков, что сказывается на памяти, особенно, если некоторый признак имеет большое количество значений. Эту проблему решает другой способ кодирования категориальных признаков — mean-target encoding (для простоты будем называть это счётчиками). Основная идея в том, что нам важны не сами категории, а значения целевой переменной, которые имеют объекты этой категории. Каждый категориальный признак мы заменим средним значением целевой переменной по всем объектам этой же категории:\n",
        "$$\n",
        "g_j(x, X) = \\frac{\\sum_{i=1}^{l} [f_j(x) = f_j(x_i)][y_i = +1]}{\\sum_{i=1}^{l} [f_j(x) = f_j(x_i)]}\n",
        "$$\n",
        "\n",
        "__Задание 5 (1 балл).__ Закодируйте категориальные переменные с помощью счётчиков (ровно так, как описано выше без каких-либо хитростей). Обучите логистическую регрессию и посмотрите на качество модели на тестовом множестве. Сравните время обучения с предыдущими экспериментами (с учетом кодирования признаков). Заметили ли вы что-то интересное?\n",
        "\n",
        "\n",
        "__Бонус (1 балл)__: Здесь и далее реализуйте вычисление счетчиков с помощью трансформера (наследуйтесь от классов `BaseEstimator, TransformerMixin` из `sklearn.base`). Обратите внимание, что все вычисления должны быть векторизованными, трансформер не должен модифицировать передаваемую ему выборку inplace, а все необходимые статистики нужно считать только по обучающей выборке в методе `fit`. Ваш трансформер должен принимать при инициализации список из категориальных признаков и изменять только их. \n"
      ]
    },
    {
      "cell_type": "code",
      "execution_count": null,
      "metadata": {
        "id": "mtBXspuvcYAi"
      },
      "outputs": [],
      "source": [
        "class MeanTargetEncoding(BaseEstimator, TransformerMixin):\n",
        "    def __init__(self):\n",
        "        self.encode_values = []\n",
        "\n",
        "    def mean_target_encoding(self, X, y):\n",
        "        numerator = X.iloc[y == 1].value_counts()\n",
        "        denominator = X.value_counts()\n",
        "        res = numerator / denominator\n",
        "        return dict(res)\n",
        "\n",
        "    def fit(self, X, y):\n",
        "        self.encode_values = []\n",
        "        for col in X.columns:\n",
        "            self.encode_values.append(self.mean_target_encoding(X[col], y))\n",
        "\n",
        "    def transform(self, X):\n",
        "        for ind in range(len(self.encode_values)):\n",
        "            X.iloc[:, ind] = X.iloc[:, ind].map(self.encode_values[ind])\n",
        "        return X.fillna(0).values\n",
        "\n",
        "    def fit_transform(self, X, y):\n",
        "        self.fit(X, y)\n",
        "        X = self.transform(X)\n",
        "        return X"
      ]
    },
    {
      "cell_type": "code",
      "execution_count": null,
      "metadata": {
        "colab": {
          "base_uri": "https://localhost:8080/"
        },
        "id": "1rBtllsh4G62",
        "outputId": "1b593a9f-c368-42ef-d433-fae063dfd3a8"
      },
      "outputs": [
        {
          "output_type": "stream",
          "name": "stdout",
          "text": [
            "Logistic Regression with Mean encoding\n",
            "CV score: 0.43697\n",
            "test score: 0.44235\n",
            "time: 4.22313 sec\n"
          ]
        }
      ],
      "source": [
        "cv_score, test_score, time_taken = fit_logreg(X_train,\n",
        "                                              y_train,\n",
        "                                              X_test,\n",
        "                                              y_test,\n",
        "                                              MeanTargetEncoding(),\n",
        "                                              mean_enc=True)\n",
        "print(\n",
        "    f\"Logistic Regression with Mean encoding\\nCV score: {cv_score}\\ntest score: {test_score}\\ntime: {time_taken:.5f} sec\"\n",
        ")"
      ]
    },
    {
      "cell_type": "markdown",
      "metadata": {
        "id": "mx2Vit0S024b"
      },
      "source": [
        "Отметим, что такие признаки сами по себе являются классификаторами и, обучаясь на них, мы допускаем \"утечку\" целевой переменной в признаки. Это ведёт к переобучению, поэтому считать такие признаки необходимо таким образом, чтобы при вычислении для конкретного объекта его целевая метка не использовалась. Это можно делать следующими способами:\n",
        "1. Вычислять значение счётчика по всем объектам расположенным выше в датасете (например, если у нас выборка отсортирована по времени).\n",
        "2. Вычислять по фолдам, то есть делить выборку на некоторое количество частей и подсчитывать значение признаков по всем фолдам кроме текущего (как делается в кросс-валидации).\n",
        "3. Внесение некоторого шума в посчитанные признаки. \n",
        "\n",
        "__Задание 6.__ Реализуйте корректное вычисление счётчиков самым простым способом — добавление шума к значениям (постарайтесь найти баланс между борьбой с переобучением и сохранением полезности признаков). Снова обучите логистическую регрессию, оцените качество. Сделайте выводы.\n",
        "\n",
        "__(0.5 балла)__"
      ]
    },
    {
      "cell_type": "code",
      "execution_count": null,
      "metadata": {
        "id": "-Gt6R8o_024b"
      },
      "outputs": [],
      "source": [
        "class NoisyMeanTargetEncoding(MeanTargetEncoding):\n",
        "    def __init__(self, scaler_coef):\n",
        "        self.encode_values = []\n",
        "        self.scaler_coef = scaler_coef\n",
        "\n",
        "    def mean_target_encoding(self, X, y):\n",
        "        numerator = X.iloc[y == 1].value_counts()\n",
        "        denominator = X.value_counts()\n",
        "        res = numerator / denominator\n",
        "        res += np.random.rand(len(res)) / self.scaler_coef\n",
        "        return dict(res)"
      ]
    },
    {
      "cell_type": "code",
      "execution_count": null,
      "metadata": {
        "colab": {
          "base_uri": "https://localhost:8080/"
        },
        "id": "8usBSaZUmilx",
        "outputId": "08f03610-c358-46be-88fe-39dff9804925"
      },
      "outputs": [
        {
          "output_type": "stream",
          "name": "stdout",
          "text": [
            "0.5\n",
            "Logistic Regression with Mean encoding with noise\n",
            "CV score: 0.43783\n",
            "test score: 0.43894\n",
            "1\n",
            "Logistic Regression with Mean encoding with noise\n",
            "CV score: 0.43243\n",
            "test score: 0.43746\n",
            "5\n",
            "Logistic Regression with Mean encoding with noise\n",
            "CV score: 0.42841\n",
            "test score: 0.43875\n",
            "10\n",
            "Logistic Regression with Mean encoding with noise\n",
            "CV score: 0.43313\n",
            "test score: 0.43773\n",
            "25\n",
            "Logistic Regression with Mean encoding with noise\n",
            "CV score: 0.43575\n",
            "test score: 0.44082\n",
            "50\n",
            "Logistic Regression with Mean encoding with noise\n",
            "CV score: 0.43701\n",
            "test score: 0.44242\n",
            "100\n",
            "Logistic Regression with Mean encoding with noise\n",
            "CV score: 0.43694\n",
            "test score: 0.44244\n",
            "1000\n",
            "Logistic Regression with Mean encoding with noise\n",
            "CV score: 0.437\n",
            "test score: 0.44232\n"
          ]
        }
      ],
      "source": [
        "for coef in [0.5, 1, 5, 10, 25, 50, 100, 1000]:\n",
        "    cv_score, test_score, _ = fit_logreg(X_train,\n",
        "                                         y_train,\n",
        "                                         X_test,\n",
        "                                         y_test,\n",
        "                                         NoisyMeanTargetEncoding(coef),\n",
        "                                         mean_enc=True)\n",
        "    print(coef)\n",
        "    print(\n",
        "        f\"Logistic Regression with Mean encoding with noise\\nCV score: {cv_score}\\ntest score: {test_score}\"\n",
        "    )"
      ]
    },
    {
      "cell_type": "markdown",
      "metadata": {
        "id": "OjoJe22h024c"
      },
      "source": [
        "__(Бонусная часть, 0.5 балла)__ Посчитайте корректные счётчики первым или вторым способов из описанных выше (не забудьте добавить и шум). \n",
        "\n"
      ]
    },
    {
      "cell_type": "markdown",
      "metadata": {
        "id": "h8c8_EYN024c"
      },
      "source": [
        "А теперь ответьте на следующий вопрос: что будет, если некоторая категория встречается в выборке всего несколько раз? По этой причине производится сглаживание счётчиков. Например, на практике хорошие результаты показывает использование сглаживания средним по всей выборке:\n",
        "$$\n",
        "g_j(x, X) = \\frac{\\sum_{i=1}^{\\ell} [f_j(x) = f_j(x_i)][y_i = +1] + C \\times global\\_mean}{\\sum_{i=1}^{\\ell} [f_j(x) = f_j(x_i)] + C}\n",
        "$$\n",
        "где $global\\_mean$ — доля объектов положительного класса в выборке, $C$ — параметр, определяющий степень сглаживания (например, можно использовать 10 или подобрать для каждого признака свой). Основная идея в том, что мы \"разбавляем\" среднее значение по некоторой категории глобальным средним значением. И тем меньше, чем большее количество объектов этой категории встречается в выборке. \n",
        "\n",
        "Однако для сглаживания вместо среднего значения целевой переменной можно использовать любое другое значение от 0 до 1 (этот параметр иногда называют $prior$). Можно сделать несколько признаков с разными значениями параметра. На практике в задачах бинарной классификации полезными бывают даже отрицательные значения!\n"
      ]
    },
    {
      "cell_type": "markdown",
      "metadata": {
        "id": "Ix7pID17024d"
      },
      "source": [
        "__Задание 7 (1 балл).__ Добавьте сглаживание, описанное выше и повторите эксперименты."
      ]
    },
    {
      "cell_type": "code",
      "execution_count": null,
      "metadata": {
        "id": "nPa6WMo7024d"
      },
      "outputs": [],
      "source": [
        "class SmoothMeanTargetEncoding(MeanTargetEncoding):\n",
        "    def __init__(self, C):\n",
        "        self.encode_values = []\n",
        "        self.C = C\n",
        "\n",
        "    def mean_target_encoding(self, X, y):\n",
        "        numerator = X.iloc[y == 1].value_counts() + self.C * y.mean()\n",
        "        denominator = X.value_counts() + self.C\n",
        "        res = numerator / denominator\n",
        "        return dict(res)"
      ]
    },
    {
      "cell_type": "code",
      "execution_count": null,
      "metadata": {
        "colab": {
          "base_uri": "https://localhost:8080/"
        },
        "id": "T4VUvjEF024c",
        "outputId": "ddd63946-e753-41a1-a285-0b0ec2eda138"
      },
      "outputs": [
        {
          "output_type": "stream",
          "name": "stdout",
          "text": [
            "0.0\n",
            "Logistic Regression with Mean encoding with smoothing\n",
            "CV score: 0.43697\n",
            "test score: 0.44235\n",
            "0.1\n",
            "Logistic Regression with Mean encoding with smoothing\n",
            "CV score: 0.43695\n",
            "test score: 0.4423\n",
            "0.2\n",
            "Logistic Regression with Mean encoding with smoothing\n",
            "CV score: 0.43701\n",
            "test score: 0.4423\n",
            "0.3\n",
            "Logistic Regression with Mean encoding with smoothing\n",
            "CV score: 0.43692\n",
            "test score: 0.44232\n",
            "0.4\n",
            "Logistic Regression with Mean encoding with smoothing\n",
            "CV score: 0.437\n",
            "test score: 0.44235\n",
            "0.5\n",
            "Logistic Regression with Mean encoding with smoothing\n",
            "CV score: 0.43701\n",
            "test score: 0.44228\n",
            "0.6\n",
            "Logistic Regression with Mean encoding with smoothing\n",
            "CV score: 0.437\n",
            "test score: 0.44231\n",
            "0.7\n",
            "Logistic Regression with Mean encoding with smoothing\n",
            "CV score: 0.43699\n",
            "test score: 0.44231\n",
            "0.8\n",
            "Logistic Regression with Mean encoding with smoothing\n",
            "CV score: 0.43699\n",
            "test score: 0.44232\n",
            "0.9\n",
            "Logistic Regression with Mean encoding with smoothing\n",
            "CV score: 0.43701\n",
            "test score: 0.44233\n",
            "1.0\n",
            "Logistic Regression with Mean encoding with smoothing\n",
            "CV score: 0.43701\n",
            "test score: 0.44232\n"
          ]
        }
      ],
      "source": [
        "for c in np.linspace(0, 1, 11):\n",
        "    cv_score, test_score, _ = fit_logreg(X_train,\n",
        "                                         y_train,\n",
        "                                         X_test,\n",
        "                                         y_test,\n",
        "                                         SmoothMeanTargetEncoding(c),\n",
        "                                         mean_enc=True)\n",
        "    print(round(c, 1))\n",
        "    print(\n",
        "        f\"Logistic Regression with Mean encoding with smoothing\\nCV score: {cv_score}\\ntest score: {test_score}\"\n",
        "    )"
      ]
    },
    {
      "cell_type": "markdown",
      "metadata": {
        "id": "mfUCvTON024d"
      },
      "source": [
        "__Задание 8 (0.5 балла).__ В данных имеется признак \"возраст клиента\". Сейчас мы интерпретируем его как числовой, что в общем случае для линейной модели может быть неверной гипотезой. Тем не менее, у этого признака есть довольно много уникальных значений (сколько?), поэтому применять к нему one-hot кодирование может оказаться излишним. Попробуйте закодировать возраст с помощью счетчиков. Стало ли лучше?\n",
        "\n"
      ]
    },
    {
      "cell_type": "code",
      "execution_count": null,
      "metadata": {
        "colab": {
          "base_uri": "https://localhost:8080/"
        },
        "id": "e0429T1Z024e",
        "outputId": "92dfb22b-f1b7-43ca-f3fb-a15642e04ad3"
      },
      "outputs": [
        {
          "output_type": "stream",
          "name": "stdout",
          "text": [
            "Количество уникальных значений признака \"age\": 78\n"
          ]
        }
      ],
      "source": [
        "print(f'Количество уникальных значений признака \"age\": {df[\"age\"].nunique()}')"
      ]
    },
    {
      "cell_type": "code",
      "execution_count": null,
      "metadata": {
        "colab": {
          "base_uri": "https://localhost:8080/"
        },
        "id": "6IyCPgv1NHmd",
        "outputId": "9708407d-40a3-4e03-e47b-9d6e602dac2d"
      },
      "outputs": [
        {
          "output_type": "stream",
          "name": "stdout",
          "text": [
            "Logistic Regression with Mean encoding with smoothing\n",
            "CV score: 0.4397\n",
            "test score: 0.43714\n",
            "time: 4.00087 sec\n"
          ]
        }
      ],
      "source": [
        "cat_tmp = cat_features + ['age']\n",
        "num_tmp = [c for c in num_features if c != 'age']\n",
        "cv_score, test_score, time_taken = fit_logreg(X_train,\n",
        "                                              y_train,\n",
        "                                              X_test,\n",
        "                                              y_test,\n",
        "                                              SmoothMeanTargetEncoding(0.5),\n",
        "                                              mean_enc=True,\n",
        "                                              cat_features=cat_tmp,\n",
        "                                              num_features=num_tmp)\n",
        "print(\n",
        "    f\"Logistic Regression with Mean encoding with smoothing\\nCV score: {cv_score}\\ntest score: {test_score}\\ntime: {time_taken:.5f} sec\"\n",
        ")"
      ]
    },
    {
      "cell_type": "markdown",
      "metadata": {
        "id": "I8Jtgb2ZOGFy"
      },
      "source": [
        "Качество на кросс-валидации улучшилось, на тестовой выборке ухудшилось"
      ]
    },
    {
      "cell_type": "markdown",
      "metadata": {
        "id": "3du7iaiL024e"
      },
      "source": [
        "Можно пойти и в обратную сторону. У нас есть признаки \"месяц и день недели\" для звонка. Попробуйте интерпретировать их как числовые (месяц от 0 до 12, дни недели от 0 до 4). Стало ли лучше в этот раз?"
      ]
    },
    {
      "cell_type": "code",
      "execution_count": null,
      "metadata": {
        "id": "I-L0nJi3Ow0o"
      },
      "outputs": [],
      "source": [
        "months = {\n",
        "    'jan': 1,\n",
        "    'feb': 2,\n",
        "    'mar': 3,\n",
        "    'apr': 4,\n",
        "    'may': 5,\n",
        "    'jun': 6,\n",
        "    'jul': 7,\n",
        "    'aug': 8,\n",
        "    'sep': 9,\n",
        "    'oct': 10,\n",
        "    'nov': 11,\n",
        "    'dec': 12\n",
        "}\n",
        "days = {'mon': 0, 'tue': 1, 'wed': 2, 'thu': 3, 'fri': 4}"
      ]
    },
    {
      "cell_type": "code",
      "execution_count": null,
      "metadata": {
        "id": "W90CVanvP3M7"
      },
      "outputs": [],
      "source": [
        "X_train_tmp = X_train.copy()\n",
        "X_train_tmp['day_of_week'] = X_train['day_of_week'].map(days)\n",
        "X_train_tmp['month'] = X_train['month'].map(months)\n",
        "\n",
        "X_test_tmp = X_test.copy()\n",
        "X_test_tmp['day_of_week'] = X_test['day_of_week'].map(days)\n",
        "X_test_tmp['month'] = X_test['month'].map(months)"
      ]
    },
    {
      "cell_type": "code",
      "execution_count": null,
      "metadata": {
        "id": "xyfKJiGXQblS"
      },
      "outputs": [],
      "source": [
        "num_tmp = num_features + ['month', 'day_of_week']\n",
        "cat_tmp = [c for c in cat_features if c not in num_tmp]"
      ]
    },
    {
      "cell_type": "code",
      "execution_count": null,
      "metadata": {
        "colab": {
          "base_uri": "https://localhost:8080/"
        },
        "id": "b9VXgOfDQZd4",
        "outputId": "f4885e69-caf4-4b4a-a1bf-f3f7da3e4890"
      },
      "outputs": [
        {
          "output_type": "stream",
          "name": "stdout",
          "text": [
            "Logistic Regression with Mean encoding with smoothing\n",
            "CV score: 0.43853\n",
            "test score: 0.43452\n",
            "time: 4.79355 sec\n"
          ]
        }
      ],
      "source": [
        "num_tmp = num_features + ['month', 'day_of_week']\n",
        "cat_tmp = [c for c in cat_features if c not in num_tmp]\n",
        "cv_score, test_score, time_taken = fit_logreg(X_train_tmp,\n",
        "                                              y_train,\n",
        "                                              X_test_tmp,\n",
        "                                              y_test,\n",
        "                                              SmoothMeanTargetEncoding(0.3),\n",
        "                                              mean_enc=True,\n",
        "                                              cat_features=cat_tmp,\n",
        "                                              num_features=num_tmp)\n",
        "print(\n",
        "    f\"Logistic Regression with Mean encoding with smoothing\\nCV score: {cv_score}\\ntest score: {test_score}\\ntime: {time_taken:.5f} sec\"\n",
        ")"
      ]
    },
    {
      "cell_type": "markdown",
      "metadata": {
        "id": "EtdteWSdRofe"
      },
      "source": [
        "Качество на кросс-валидации улучшилось, на отложенной выборке - ухудшилось"
      ]
    },
    {
      "cell_type": "markdown",
      "metadata": {
        "id": "OOQd-skR024e"
      },
      "source": [
        "__Замечание.__ Усложнение методов вычисления счётчиков не делают результаты модели гарантированно лучше. Особенно с учётом того, что логистическая регрессия не такая сложная модель, чтобы переобучаться. Поэтому вы необязательно должны были получать на каждом шаге всё лучшие и лучшие результаты (но необходимые результаты у вас должны были получиться).\n",
        "\n",
        "Как вы должны были заметить, счётчики являются хорошей альтернативой one-hot-кодированию. Напишите, какие плюсы и минусы использования счётчиков по сравнению с one-hot-кодированием вы заметили.\n",
        "\n",
        "__Ответ:__ Плюсы: меньшее количество признаков, зачастую лучшее качество\n",
        "\n",
        "Минусы: возможно переобучение"
      ]
    },
    {
      "cell_type": "markdown",
      "metadata": {
        "id": "ZQYltTKV024f"
      },
      "source": [
        "# Часть 2. Отбор признаков"
      ]
    },
    {
      "cell_type": "markdown",
      "metadata": {
        "id": "5tEQeHzU024f"
      },
      "source": [
        "Важной частью процесса построения модели является отбор признаков. На практике многие признаки оказывают малое влияние на модель (при этом их расчёт занимает время) или даже негативно сказываются на качестве модели. Попробуем несколько подходов отбора признаков, оценим, как они влияют на качество модели и сколько времени занимают.\n",
        "\n",
        "Обратимся к тем же данным про банковский телефонный маркетинг."
      ]
    },
    {
      "cell_type": "code",
      "execution_count": null,
      "metadata": {
        "id": "iM8Uhbc7024f"
      },
      "outputs": [],
      "source": [
        "df = pd.read_csv('bank-additional/bank-additional-full.csv', sep=';')\n",
        "\n",
        "X = df.drop(columns=['duration', 'y'])\n",
        "y = (df.y == 'yes')\n",
        "\n",
        "X_train, X_test, y_train, y_test = train_test_split(X,\n",
        "                                                    y,\n",
        "                                                    test_size=0.2,\n",
        "                                                    random_state=777,\n",
        "                                                    stratify=y)"
      ]
    },
    {
      "cell_type": "markdown",
      "metadata": {
        "id": "3rNJt0PK024g"
      },
      "source": [
        "Как вы помните, в данных много категориальных признаков (сейчас давайте интерпретировать возраст как числовой). Давайте закодируем их с помощью one-hot кодирования. Исходные колонки с категориальными признаками можно удалить. Сколько признаков мы получили?"
      ]
    },
    {
      "cell_type": "code",
      "execution_count": null,
      "metadata": {
        "id": "g0MGQJfXdRyB"
      },
      "outputs": [],
      "source": [
        "X_tr, X_te = preprocess(X_train, X_test, OneHotEncoder(), cat_features,\n",
        "                        num_features)"
      ]
    },
    {
      "cell_type": "code",
      "execution_count": null,
      "metadata": {
        "colab": {
          "base_uri": "https://localhost:8080/"
        },
        "id": "JvV7D9Oh024g",
        "outputId": "023927ab-15b3-46a9-c9c6-582a3964b1b5"
      },
      "outputs": [
        {
          "output_type": "stream",
          "name": "stdout",
          "text": [
            "Исходное количество признаков: 19\n",
            "Количество признаков после one-hot кодирования: 62\n"
          ]
        }
      ],
      "source": [
        "print(f\"Исходное количество признаков: {X_train.shape[1]}\")\n",
        "print(f\"Количество признаков после one-hot кодирования: {X_tr.shape[1]}\")"
      ]
    },
    {
      "cell_type": "markdown",
      "metadata": {
        "id": "ytnYioZX024h"
      },
      "source": [
        "В качестве основной модели будем использовать логистическую регрессию, а целевой метрики — `AUC-PR`. Обучите модель и посчитайте качество на тестовой выборке. Давайте запомним полученное значение."
      ]
    },
    {
      "cell_type": "code",
      "execution_count": null,
      "metadata": {
        "colab": {
          "base_uri": "https://localhost:8080/"
        },
        "id": "Jocc7iv8024h",
        "outputId": "bd4131bb-fd92-42fc-c4f2-861b1d5cc68d"
      },
      "outputs": [
        {
          "output_type": "stream",
          "name": "stdout",
          "text": [
            "CPU times: user 3 µs, sys: 1e+03 ns, total: 4 µs\n",
            "Wall time: 7.87 µs\n",
            "Test AUC-PR: 0.44729\n"
          ]
        }
      ],
      "source": [
        "%time\n",
        "model = LogisticRegression(max_iter=10000)\n",
        "model.fit(X_tr, y_train)\n",
        "test_preds = model.predict_proba(X_te)[:, 1]\n",
        "test_score = auc_pr_score(y_test, test_preds)\n",
        "print(f'Test AUC-PR: {test_score:.5f}')\n",
        "best_feats = np.argsort(-np.abs(model.coef_.reshape(-1)))[:40]"
      ]
    },
    {
      "cell_type": "markdown",
      "metadata": {
        "id": "Ju9ELA2T024i"
      },
      "source": [
        "### Встроенные методы"
      ]
    },
    {
      "cell_type": "markdown",
      "metadata": {
        "id": "AVEbWFQo024i"
      },
      "source": [
        "Допустим, мы хотим оставить только 40 лучших признаков. Попробуем сделать это несколькими способами.\n",
        "\n",
        "Начнём с отборам признаков с помощью линейной модели. Как известно, веса линейной модели означают вклад каждого признака в предсказание модели, а значит, модуль этого вклада можно интерпретировать как важность признаков. Такой метод отбора называются встроенным или embedded method, так как он заложен в особенности модели.\n",
        "\n",
        "__Задание 8 (0.5 балла).__ Оставьте 40 признаков с наибольшим модулем соответствующего параметра линейной модели. Обучите модели заново и оцените её качество. Замерьте скорость такого отбора признаков.\n",
        "\n",
        "Изменилось ли качество? Как?\n",
        "\n"
      ]
    },
    {
      "cell_type": "code",
      "execution_count": null,
      "metadata": {
        "id": "iU4Ga7fhV60c"
      },
      "outputs": [],
      "source": [
        "def get_score(train, test, y_train, y_test, features):\n",
        "    model.fit(train[:, features], y_train)\n",
        "    test_preds = model.predict_proba(test[:, features])[:, 1]\n",
        "    test_score = auc_pr_score(y_test, test_preds)\n",
        "    print(f'Test AUC-PR: {test_score:.5f}')"
      ]
    },
    {
      "cell_type": "code",
      "execution_count": null,
      "metadata": {
        "colab": {
          "base_uri": "https://localhost:8080/"
        },
        "id": "TKKcv-2WWb78",
        "outputId": "99cdd2df-f380-421c-e3c6-362fcf761e3a"
      },
      "outputs": [
        {
          "output_type": "stream",
          "name": "stdout",
          "text": [
            "Test AUC-PR: 0.44832\n"
          ]
        }
      ],
      "source": [
        "get_score(X_tr, X_te, y_train, y_test, best_feats)"
      ]
    },
    {
      "cell_type": "markdown",
      "metadata": {
        "id": "wF9AMR2Rhl6m"
      },
      "source": [
        "Качество улучшилось"
      ]
    },
    {
      "cell_type": "markdown",
      "metadata": {
        "id": "mZJlDr3U024j"
      },
      "source": [
        "А теперь давайте подумаем, что мы не учли. Мы предположили, что признаки вносят вклад равномерно, но не учли их масштаба. Если мы умножим один из признаков в 100 раз, то без учёта регуляризации его вес уменьшится в эти же 100 раз. А мы на основе этого отбираем признаки! Давайте сначала отмасштабируем признаки одним из способов, а только потом будем удалять признаки. \n",
        "\n",
        "Кстати, в таком случае надо пересчитать качество на всех признаках (сделайте это ниже). Если вы сделали нормирование признаков в самом начале, то попробуйте отобрать признаки на неотмасштабированных данных.\n",
        "\n",
        "Что получилось?"
      ]
    },
    {
      "cell_type": "code",
      "execution_count": null,
      "metadata": {
        "colab": {
          "base_uri": "https://localhost:8080/"
        },
        "id": "DXL1V1Ew024j",
        "outputId": "af685e7e-26c0-404b-9cc9-472af3eaaa9e"
      },
      "outputs": [
        {
          "output_type": "stream",
          "name": "stdout",
          "text": [
            "Test AUC-PR: 0.44557\n"
          ]
        }
      ],
      "source": [
        "ohe = OneHotEncoder(sparse=False)\n",
        "X_tr = np.hstack(\n",
        "    [X_train[num_features].values,\n",
        "     ohe.fit_transform(X_train[cat_features])])\n",
        "X_te = np.hstack(\n",
        "    [X_test[num_features].values,\n",
        "     ohe.transform(X_test[cat_features])])\n",
        "model.fit(X_tr, y_train)\n",
        "test_preds = model.predict_proba(X_te)[:, 1]\n",
        "test_score = auc_pr_score(y_test, test_preds)\n",
        "print(f'Test AUC-PR: {test_score:.5f}')"
      ]
    },
    {
      "cell_type": "code",
      "execution_count": null,
      "metadata": {
        "colab": {
          "base_uri": "https://localhost:8080/"
        },
        "id": "v0vEinFVlcoA",
        "outputId": "2b64e333-05a1-4139-dddf-0fd987412e51"
      },
      "outputs": [
        {
          "output_type": "stream",
          "name": "stdout",
          "text": [
            "Test AUC-PR: 0.44470\n"
          ]
        }
      ],
      "source": [
        "best_feats = np.argsort(-np.abs(model.coef_.reshape(-1)))[:40]\n",
        "get_score(X_tr, X_te, y_train, y_test, best_feats)"
      ]
    },
    {
      "cell_type": "markdown",
      "metadata": {
        "id": "fSo0wc0ClVAD"
      },
      "source": [
        "Если не масштабировать данные, то качество и на исходном наборе признаков, и на 40 лучших с точки зрения модели будет хуже"
      ]
    },
    {
      "cell_type": "markdown",
      "metadata": {
        "id": "QuKuX-sr024k"
      },
      "source": [
        "Вопрос на засыпку: one-hot кодирование возвращает нам единичные признаки-индикаторы. Попробуйте также отскалировать их, как и обычные числовые, и снова выбрать 40 главных по вкладу признаков. Изменился ли их список? Изменится ли качество?"
      ]
    },
    {
      "cell_type": "code",
      "execution_count": null,
      "metadata": {
        "colab": {
          "base_uri": "https://localhost:8080/"
        },
        "id": "eDqwvG1s024k",
        "outputId": "18199c96-76aa-4ae2-8e96-286159e4c88e"
      },
      "outputs": [
        {
          "output_type": "stream",
          "name": "stdout",
          "text": [
            "Test AUC-PR: 0.44726\n"
          ]
        }
      ],
      "source": [
        "X_tr = scaler.fit_transform(X_tr)\n",
        "X_te = scaler.transform(X_te)\n",
        "model.fit(X_tr, y_train)\n",
        "test_preds = model.predict_proba(X_te)[:, 1]\n",
        "test_score = auc_pr_score(y_test, test_preds)\n",
        "print(f'Test AUC-PR: {test_score:.5f}')"
      ]
    },
    {
      "cell_type": "code",
      "execution_count": null,
      "metadata": {
        "colab": {
          "base_uri": "https://localhost:8080/"
        },
        "id": "gofOjeWcmQIt",
        "outputId": "a87f17b4-8700-495e-d7db-c13e8e339fd2"
      },
      "outputs": [
        {
          "output_type": "stream",
          "name": "stdout",
          "text": [
            "Test AUC-PR: 0.44818\n"
          ]
        }
      ],
      "source": [
        "best_feats = np.argsort(-np.abs(model.coef_.reshape(-1)))[:40]\n",
        "get_score(X_tr, X_te, y_train, y_test, best_feats)"
      ]
    },
    {
      "cell_type": "markdown",
      "metadata": {
        "id": "Fctp5xgmmXBi"
      },
      "source": [
        "Качество оказалось хуже (4 знак после запятой) отностительно немасштабирования"
      ]
    },
    {
      "cell_type": "markdown",
      "metadata": {
        "id": "KCOzmelu024l"
      },
      "source": [
        "### Методы фильтрации\n",
        "\n",
        "\n",
        "Давайте отбирать признаки умнее, а именно через подсчёт некоторой функции для каждого признака. На основании значений этой функции будем оставлять наиболее важные признаки. Методы этого семейства называют фильтрующими или  filter methods. \n",
        "\n",
        "В качестве такой функции будем считать t-статистику:\n",
        "\n",
        "$$t(j) = \\frac{|\\mu_+ - \\mu_-|}{\\sqrt{\\frac{n_+ \\sigma^2_+ + n_- \\sigma^2_-}{n_+ + n_-}}},$$\n",
        "\n",
        "где $\\mu$, $\\sigma$, $n$ соответственно среднее, стандартное отклонение и количество объектов каждого из классов.\n",
        "\n",
        "__Задание 9 (0.5 балла).__ Оставьте 40 признаков с наибольшим значением $t$ и замерьте качество. Не забудьте замерить скорость отбора признаков в этом случае.\n",
        "\n"
      ]
    },
    {
      "cell_type": "code",
      "execution_count": null,
      "metadata": {
        "id": "ze40-JAV024l"
      },
      "outputs": [],
      "source": [
        "def t_stat(X, y):\n",
        "    X_plus = X[y > 0]\n",
        "    X_minus = X[y == 0]\n",
        "    mu_plus = X_plus.mean()\n",
        "    mu_minus = X_minus.mean()\n",
        "    n_plus = len(X_plus)\n",
        "    n_minus = len(X_minus)\n",
        "    sigma_plus = X_plus.std()\n",
        "    sigma_minus = X_minus.std()\n",
        "    numerator = np.abs(mu_plus - mu_minus)\n",
        "    denominator = np.sqrt(\n",
        "        (n_plus * sigma_plus**2 + n_minus * sigma_minus**2) / (len(y)))\n",
        "    return numerator / denominator"
      ]
    },
    {
      "cell_type": "code",
      "execution_count": null,
      "metadata": {
        "id": "6mvDjyPNnmJM"
      },
      "outputs": [],
      "source": [
        "ohe = OneHotEncoder(sparse=False)\n",
        "X_train = np.hstack([\n",
        "    scaler.fit_transform(X_train[num_features]),\n",
        "    ohe.fit_transform(X_train[cat_features])\n",
        "])\n",
        "X_test = np.hstack([\n",
        "    scaler.transform(X_test[num_features]),\n",
        "    ohe.transform(X_test[cat_features])\n",
        "])"
      ]
    },
    {
      "cell_type": "code",
      "execution_count": null,
      "metadata": {
        "colab": {
          "base_uri": "https://localhost:8080/"
        },
        "id": "xd8tbZbZqFhy",
        "outputId": "c9017a20-f586-466e-b924-81a9f4cd417d"
      },
      "outputs": [
        {
          "output_type": "stream",
          "name": "stdout",
          "text": [
            "CPU times: user 2 µs, sys: 1 µs, total: 3 µs\n",
            "Wall time: 5.72 µs\n"
          ]
        }
      ],
      "source": [
        "%time\n",
        "scores = np.array([])\n",
        "for ind in range(X_train.shape[1]):\n",
        "    t_score = t_stat(X_train[:, ind], y_train)\n",
        "    scores = np.append(scores, t_score)"
      ]
    },
    {
      "cell_type": "code",
      "execution_count": null,
      "metadata": {
        "colab": {
          "base_uri": "https://localhost:8080/"
        },
        "id": "4u7RUP1tq4L0",
        "outputId": "4ad41f89-145a-4b8f-84e9-b87714c61ab6"
      },
      "outputs": [
        {
          "output_type": "stream",
          "name": "stdout",
          "text": [
            "Test AUC-PR: 0.45122\n"
          ]
        }
      ],
      "source": [
        "best_feats = np.argsort(scores)[-40:]\n",
        "get_score(X_train, X_test, y_train, y_test, best_feats)"
      ]
    },
    {
      "cell_type": "markdown",
      "metadata": {
        "id": "Q_yW9XHprnBP"
      },
      "source": [
        "Качество оказалось лучше, чем при отборе моделью"
      ]
    },
    {
      "cell_type": "markdown",
      "metadata": {
        "id": "ge9x2iIj024m"
      },
      "source": [
        "### Методы-обёртки\n",
        "\n",
        "__Задание 10 (1 балл).__ \n",
        "\n",
        "Третий из рассматриваемых нами методов работает следующим образом: мы исключаем по очереди один из признаков и смотрим, как это влияет на качество. Удаляем признаки таким жадным способом, пока не окажется выполненым некоторое условие (количество признаков или ухудшение качества).\n",
        "\n",
        "Заметим, что нельзя оценивать качество по тестовой выборке, иначе мы можем переобучиться, как, например, при настройке гиперпараметров. Разделите обучающую выборку на 2 части, на одной из них обучайте модель без одного из признаков,  на второй части оценивайте качество. Исходную тестовую выборку стоит использовать только для финальной оценки качества.\n",
        "\n",
        "Снова оставьте только 40 признаков и оцените качество на тестовой выборке. Сколько времени занял такой отбор признаков?"
      ]
    },
    {
      "cell_type": "code",
      "execution_count": null,
      "metadata": {
        "id": "imOWHGRl024m"
      },
      "outputs": [],
      "source": [
        "X_tr, X_val, y_tr, y_val = train_test_split(X_tr,\n",
        "                                            y_train,\n",
        "                                            stratify=y_train,\n",
        "                                            shuffle=True,\n",
        "                                            random_state=42)"
      ]
    },
    {
      "cell_type": "code",
      "execution_count": null,
      "metadata": {
        "id": "8JEeqNp0kRZQ"
      },
      "outputs": [],
      "source": [
        "features = list(range(X_tr.shape[1]))\n",
        "while len(features) > 40:\n",
        "    best_feat = ''\n",
        "    best_auc = 0\n",
        "    for feat in features:\n",
        "        cur_features = list(set(features) - set([feat]))\n",
        "        model = LogisticRegression(max_iter=10000)\n",
        "        model.fit(X_tr[:, cur_features], y_tr)\n",
        "        score = auc_pr_score(y_val,\n",
        "                             model.predict_proba(X_val[:, cur_features])[:, 1])\n",
        "        if score > best_auc:\n",
        "            best_auc = score\n",
        "            best_feat = feat\n",
        "    features.remove(best_feat)"
      ]
    },
    {
      "cell_type": "code",
      "execution_count": null,
      "metadata": {
        "colab": {
          "base_uri": "https://localhost:8080/"
        },
        "id": "-blGS4UqXgq9",
        "outputId": "0693cff7-1dc8-4bb9-88cd-dc7058dd542f"
      },
      "outputs": [
        {
          "output_type": "stream",
          "name": "stdout",
          "text": [
            "Test AUC-PR: 0.44827\n"
          ]
        }
      ],
      "source": [
        "get_score(X_train, X_test, y_train, y_test, features)"
      ]
    },
    {
      "cell_type": "markdown",
      "metadata": {
        "id": "fB7F8n2v024n"
      },
      "source": [
        "Стоит отметить, что с помощью такого метода можно пойти и в обратную сторону. Попробуйте _добавлять_ по одному самому полезному признаку в выборку до тех пор, пока не наберется 40 штук. Найдется ли порог, при котором добавление следующих признаков будет только ухудшать качество модели?"
      ]
    },
    {
      "cell_type": "code",
      "execution_count": null,
      "metadata": {
        "id": "oz--Vfn3024n"
      },
      "outputs": [],
      "source": [
        "features = []\n",
        "all_features = list(range(X_train.shape[1]))\n",
        "while len(features) < 40:\n",
        "    best_feat = ''\n",
        "    best_auc = 0\n",
        "    for feat in all_features:\n",
        "        cur_features = features + [feat]\n",
        "        model = LogisticRegression(max_iter=10000)\n",
        "        model.fit(X_tr[:, cur_features], y_tr)\n",
        "        score = auc_pr_score(y_val,\n",
        "                             model.predict_proba(X_val[:, cur_features])[:, 1])\n",
        "        if score > best_auc:\n",
        "            best_auc = score\n",
        "            best_feat = feat\n",
        "    features.append(best_feat)\n",
        "    all_features.remove(best_feat)"
      ]
    },
    {
      "cell_type": "code",
      "execution_count": null,
      "metadata": {
        "colab": {
          "base_uri": "https://localhost:8080/"
        },
        "id": "IMfm5LQtcN9N",
        "outputId": "a1161a0f-ac69-4725-ba80-619cd97fa775"
      },
      "outputs": [
        {
          "output_type": "stream",
          "name": "stdout",
          "text": [
            "Test AUC-PR: 0.43910\n"
          ]
        }
      ],
      "source": [
        "get_score(X_train, X_test, y_train, y_test, features)"
      ]
    },
    {
      "cell_type": "markdown",
      "metadata": {
        "id": "6_56laF9024o"
      },
      "source": [
        "Давайте подведём итоги по отбору признаков. Назовите преимущества и недостатки каждого из методов. Какой метод привёл к наилучшему качеству?\n",
        "\n",
        "**Ответ:** \n",
        "1.  Метод на основе модели: быстро, довольно хорошее качество. Минусы - в некоторых ситуациях может оказаться так, что бесполезный признак будет иметь большие веса\n",
        "2.  t-статистика: Быстро, в данном случае лучшее качество. Минусы - не учитывает взаимодействие данного признака с другими\n",
        "3.  Методы-обертки: Неплохое качество, но очень долгое время выполнения"
      ]
    },
    {
      "cell_type": "markdown",
      "metadata": {
        "id": "hswVrpg1024p"
      },
      "source": [
        "# Часть 3. Оценка экономического эффекта модели\n",
        "\n",
        "В данной части мы займемся тем, что от вас скорее всего потребуется на реальной работе (помимо перекладки `json`, разумеется). А именно: мы соберем несколько специализированных метрик качества, попытаемся настроить модель на максимизацию _прибыли_ и оценим, сколько вообще получится заработать на этом. Разумеется, здесь будет сделано множество упрощающих жизнь допущений, но обо всем по порядку. \n",
        "\n",
        "__Задание 11 (1 балл).__ Допустим, работники вашего колл-центра получают за один звонок клиенту 1 доллар. При согласии клиента на предлагаемые условия он принесет в банк 10 долларов.\n",
        "\n",
        "Если вы всё прослушали на экономике, то напомним, что выручка — это сколько денег нам принесли клиенты, а прибыль — выручка за вычетом расходов на зарплату и прочее.\n",
        "\n",
        "Загрузите данные о телемаркетинге из предыдущего блока заданий. В этой части не нужно делить выборку - мы будем использовать кросс-валидацию. Используйте 5 фолдов, сделайте `shuffle=True, random_state=500`. По кросс-валидации у вас получится 5 вариантов обучающей и тестовой выборки. Обучите логистическую регрессию на каждой обучающей выборке (воспользуйтесь one-hot для категориальных признаков, гиперпараметры оставьте со значениями по умолчанию) и сделайте предсказания для соответствующих тестовых выборок. Допустим, всем положительным прогнозам ваши сотрудники решили позвонить. Посчитайте на всех тестовых выборках выручку и усредните. Сколько денег вы в среднем заработаете? Также вычислите стандартное отклонение.\n",
        "\n",
        "Сколько из заработанных денег придётся отдать операторам вашего колл-центра?"
      ]
    },
    {
      "cell_type": "code",
      "execution_count": null,
      "metadata": {
        "id": "yKuakOG4eWtY"
      },
      "outputs": [],
      "source": [
        "from sklearn.model_selection import KFold"
      ]
    },
    {
      "cell_type": "code",
      "execution_count": null,
      "metadata": {
        "id": "JYGWKalvi7DL"
      },
      "outputs": [],
      "source": [
        "ohe = OneHotEncoder(sparse=False)\n",
        "X = df.drop(columns='y')\n",
        "y = df['y'].map({'yes': 1, 'no': 0}).values"
      ]
    },
    {
      "cell_type": "code",
      "execution_count": null,
      "metadata": {
        "id": "hp9jVk7Fi8rj"
      },
      "outputs": [],
      "source": [
        "def get_prediction(train_index, val_index, C=1):\n",
        "    X_train = X.loc[train_index]\n",
        "    y_train = y[train_index]\n",
        "    X_val = X.loc[val_index]\n",
        "    y_val = y[val_index]\n",
        "    X_train = np.hstack([\n",
        "        scaler.fit_transform(X_train[num_features]),\n",
        "        ohe.fit_transform(X_train[cat_features])\n",
        "    ])\n",
        "    X_val = np.hstack([\n",
        "        scaler.transform(X_val[num_features]),\n",
        "        ohe.transform(X_val[cat_features])\n",
        "    ])\n",
        "    model = LogisticRegression(max_iter=10000, C=C)\n",
        "    model.fit(X_train, y_train)\n",
        "    test_preds = model.predict(X_val)\n",
        "    test_proba = model.predict_proba(X_val)[:, 1]\n",
        "    return test_preds, test_proba"
      ]
    },
    {
      "cell_type": "code",
      "execution_count": null,
      "metadata": {
        "id": "vJo0srdw024p"
      },
      "outputs": [],
      "source": [
        "income = []\n",
        "profit = []\n",
        "\n",
        "kf = KFold(5, shuffle=True, random_state=500)\n",
        "for train_index, val_index in kf.split(X, y):\n",
        "    y_val = y[val_index]\n",
        "    test_preds, _ = get_prediction(train_index, val_index)\n",
        "    income.append((y_val[test_preds == 1] == 1).sum() * 10)\n",
        "    profit.append(income[-1] - test_preds.sum())"
      ]
    },
    {
      "cell_type": "code",
      "execution_count": null,
      "metadata": {
        "colab": {
          "base_uri": "https://localhost:8080/"
        },
        "id": "SH5adZxlhvN9",
        "outputId": "832b046e-9312-4b99-8c12-e3423f1071e1"
      },
      "outputs": [
        {
          "output_type": "stream",
          "name": "stdout",
          "text": [
            "Средняя выручка : 2130\n",
            "Средняя прибыль : 1806\n",
            "Стандартное отклонение прибыли : 109\n",
            "Выплата операторам : 324\n"
          ]
        }
      ],
      "source": [
        "print(f\"Средняя выручка : {np.mean(income):.0f}\")\n",
        "print(f\"Средняя прибыль : {np.mean(profit):.0f}\")\n",
        "print(f\"Стандартное отклонение прибыли : {np.std(profit):.0f}\")\n",
        "print(f\"Выплата операторам : {np.mean(income)-np.mean(profit):.0f}\")"
      ]
    },
    {
      "cell_type": "markdown",
      "metadata": {
        "id": "SWNa2f8L024q"
      },
      "source": [
        "Внесем некоторую долю случайности. Пусть теперь согласный на условия клиент будет приносить не 10 долларов, а случайную величину, равномерно распределенную в интервале $[0;20)$. Проделайте все те же самые действия. Для имитации реальной ситуации **НЕ** фиксируйте `random_seed` при подсчете выручки с клиента. Что получилось?"
      ]
    },
    {
      "cell_type": "code",
      "execution_count": null,
      "metadata": {
        "id": "u4zDXtJF024q"
      },
      "outputs": [],
      "source": [
        "income = []\n",
        "profit = []\n",
        "\n",
        "kf = KFold(5, shuffle=True, random_state=500)\n",
        "for train_index, val_index in kf.split(X, y):\n",
        "    y_val = y[val_index]\n",
        "    test_preds, _ = get_prediction(train_index, val_index)\n",
        "    moneys = test_preds * np.random.rand(len(test_preds)) * 20\n",
        "    income.append((moneys[np.logical_and(moneys, y_val)]).sum())\n",
        "    profit.append(income[-1] - test_preds.sum())"
      ]
    },
    {
      "cell_type": "code",
      "execution_count": null,
      "metadata": {
        "colab": {
          "base_uri": "https://localhost:8080/"
        },
        "id": "hnaN4SdlmmGK",
        "outputId": "d469120b-e3e1-4696-e14f-753b29a608b7"
      },
      "outputs": [
        {
          "output_type": "stream",
          "name": "stdout",
          "text": [
            "Средняя выручка : 2187\n",
            "Средняя прибыль : 1863\n",
            "Стандартное отклонение прибыли : 99\n",
            "Выплата операторам : 324\n"
          ]
        }
      ],
      "source": [
        "print(f\"Средняя выручка : {np.mean(income):.0f}\")\n",
        "print(f\"Средняя прибыль : {np.mean(profit):.0f}\")\n",
        "print(f\"Стандартное отклонение прибыли : {np.std(profit):.0f}\")\n",
        "print(f\"Выплата операторам : {np.mean(income)-np.mean(profit):.0f}\")"
      ]
    },
    {
      "cell_type": "markdown",
      "metadata": {
        "id": "RXU1yGua024q"
      },
      "source": [
        "Настройте по кросс-валидации коэффициент регуляризации модели для максимизации прибыли (считайте как случайную величину выше). Удалось ли получить какой-то выигрыш? При каком коэффициенте регуляризациии прибыль максимальна? Постройте график зависимости ожидаемой прибыли от коэффициента, также укажите стандартные отклонения (вам поможет `plt.errorbar`)."
      ]
    },
    {
      "cell_type": "code",
      "execution_count": null,
      "metadata": {
        "id": "Raryn5vs024r"
      },
      "outputs": [],
      "source": [
        "search_c = np.logspace(-3, 2, 20)\n",
        "profit_list = []\n",
        "profit_std = []\n",
        "for c in search_c:\n",
        "    profit = []\n",
        "    kf = KFold(5, shuffle=True, random_state=500)\n",
        "    for train_index, val_index in kf.split(X, y):\n",
        "        y_val = y[val_index]\n",
        "        test_preds, _ = get_prediction(train_index, val_index, C=c)\n",
        "        moneys = test_preds * np.random.rand(len(test_preds)) * 20\n",
        "        income = (moneys[np.logical_and(moneys, y_val)]).sum()\n",
        "        profit.append(income - test_preds.sum())\n",
        "    profit_list.append(np.mean(profit))\n",
        "    profit_std.append(np.std(profit))"
      ]
    },
    {
      "cell_type": "code",
      "execution_count": null,
      "metadata": {
        "colab": {
          "base_uri": "https://localhost:8080/"
        },
        "id": "F469mfIJoDHy",
        "outputId": "252d8a74-2c4f-422c-8896-4c378269e75b"
      },
      "outputs": [
        {
          "output_type": "stream",
          "name": "stdout",
          "text": [
            "Максимальная выручка : 1917 при коэффициенте регуляризации = 54.555947811685144\n"
          ]
        }
      ],
      "source": [
        "print(\n",
        "    f\"Максимальная выручка : {max(profit_list):.0f} при коэффициенте регуляризации = {search_c[np.argmax(profit_list)]}\"\n",
        ")"
      ]
    },
    {
      "cell_type": "code",
      "execution_count": null,
      "metadata": {
        "colab": {
          "base_uri": "https://localhost:8080/",
          "height": 517
        },
        "id": "OzQVq0_con0L",
        "outputId": "9bdaf79c-b4b0-4670-d1bd-569183736f6a"
      },
      "outputs": [
        {
          "output_type": "display_data",
          "data": {
            "text/plain": [
              "<Figure size 864x576 with 1 Axes>"
            ],
            "image/png": "[encoded data removed]"
          },
          "metadata": {
            "needs_background": "light"
          }
        }
      ],
      "source": [
        "plt.figure(figsize=(12, 8))\n",
        "plt.errorbar(search_c, profit_list, yerr=profit_std)\n",
        "plt.title(\"Зависимость прибыли от коэффициента регуляризации\")\n",
        "plt.xscale(\"log\")\n",
        "plt.xlabel(\"Коэффициент регуляризации\")\n",
        "plt.ylabel(\"Прибыль\")\n",
        "plt.show()"
      ]
    },
    {
      "cell_type": "markdown",
      "metadata": {
        "id": "akLmCoXZ024r"
      },
      "source": [
        "Попробуйте запустить перебор несколько раз. Находится ли каждый раз один и тот же \"лучший\" коэффициент? Присутствует ли какая-то закономерность? Какие вы можете сделать из этого выводы?"
      ]
    },
    {
      "cell_type": "code",
      "execution_count": null,
      "metadata": {
        "colab": {
          "base_uri": "https://localhost:8080/"
        },
        "id": "jQ_amj_k024s",
        "outputId": "84384b5d-8a34-4d2a-c522-8084eaed4de5"
      },
      "outputs": [
        {
          "output_type": "stream",
          "name": "stdout",
          "text": [
            "Максимальная выручка : 1852 при коэффициенте регуляризации = 0.1668100537200059\n",
            "Максимальная выручка : 1838 при коэффициенте регуляризации = 7.742636826811277\n",
            "Максимальная выручка : 1822 при коэффициенте регуляризации = 27.825594022071257\n",
            "Максимальная выручка : 1833 при коэффициенте регуляризации = 0.5994842503189409\n",
            "Максимальная выручка : 1851 при коэффициенте регуляризации = 27.825594022071257\n"
          ]
        }
      ],
      "source": [
        "for _ in range(5):\n",
        "    search_c = np.logspace(-3, 2, 10)\n",
        "    profit_list = []\n",
        "    profit_std = []\n",
        "    for c in search_c:\n",
        "        profit = []\n",
        "        kf = KFold(5, shuffle=True, random_state=500)\n",
        "        for train_index, val_index in kf.split(X, y):\n",
        "            y_val = y[val_index]\n",
        "            test_preds, _ = get_prediction(train_index, val_index, C=c)\n",
        "            moneys = test_preds * np.random.rand(len(test_preds)) * 20\n",
        "            income = (moneys[np.logical_and(moneys, y_val)]).sum()\n",
        "            profit.append(income - test_preds.sum())\n",
        "        profit_list.append(np.mean(profit))\n",
        "        profit_std.append(np.std(profit))\n",
        "    print(\n",
        "        f\"Максимальная выручка : {max(profit_list):.0f} при коэффициенте регуляризации = {search_c[np.argmax(profit_list)]}\"\n",
        "    )"
      ]
    },
    {
      "cell_type": "markdown",
      "metadata": {
        "id": "UH6CJLUnrBtC"
      },
      "source": [
        "Закономерности нет. Каждый раз лучшая прибыль получается при разных значениях коэффициента регуляризации"
      ]
    },
    {
      "cell_type": "markdown",
      "metadata": {
        "id": "MNdCfsfz024s"
      },
      "source": [
        "__Задание 12 (1 балл).__ Выше мы уже описали примерную экономическую модель вашей задачи. Как вы считаете, что для вашего бизнеса важнее — хороший precision или recall модели? Почему?\n",
        "\n",
        "__Ответ:__ Все зависит от цены за каждый звонок и суммы, которую принесет соглашающийся клиент. Но при данных условиях получается, что важнее recall, так как звонки не такие дорогие, а за счет массового обзвона удастся привлечь большее количество согласившихся клиентов, которые окупят затраты\n",
        "\n"
      ]
    },
    {
      "cell_type": "markdown",
      "metadata": {
        "id": "yIJf-H8D024s"
      },
      "source": [
        "Вспомним, что на самом деле логистическая регрессия предсказывает нам вероятности положительного класса для объекта. Возможно, путем настройки порога бинаризации этих вероятностей мы сможем получить какой-то выигрыш? Проверьте ваши рассуждения выше с помощью настройки порога бинаризации на кросс-валидации для максимизации прибыли. Воспользуйтесь сеткой от 0 до 1 с шагом 0.01. Напомним, что снижение порога дает нам более высокий recall и более низкий precision, и наоборот."
      ]
    },
    {
      "cell_type": "code",
      "execution_count": null,
      "metadata": {
        "id": "A0ATK4mp34sj"
      },
      "outputs": [],
      "source": [
        "thresholds = np.linspace(0, 1, 101)\n",
        "profit = [[] for _ in range(len(thresholds))]\n",
        "\n",
        "kf = KFold(5, shuffle=True, random_state=500)\n",
        "for train_index, val_index in kf.split(X, y):\n",
        "    y_val = y[val_index]\n",
        "    _, test_proba = get_prediction(train_index, val_index)\n",
        "    for i in range(len(thresholds)):\n",
        "        test_preds = np.zeros(len(y_val))\n",
        "        test_preds[test_proba > thresholds[i]] = 1\n",
        "        moneys = test_preds * np.random.rand(len(test_preds)) * 20\n",
        "        income = (moneys[np.logical_and(moneys, y_val)]).sum()\n",
        "        profit[i] += [income - test_preds.sum()]"
      ]
    },
    {
      "cell_type": "code",
      "execution_count": null,
      "metadata": {
        "id": "w7YJnb5y75M5"
      },
      "outputs": [],
      "source": [
        "profit_list = np.mean(profit, axis=1)\n",
        "profit_std = np.std(profit, axis=1)"
      ]
    },
    {
      "cell_type": "markdown",
      "metadata": {
        "id": "jm5PgbMU024t"
      },
      "source": [
        "Постройте график зависимости прибыли от порога бинаризации, также отметьте на нем стандартные отклонения. Выделите наилучший порог. \n",
        "\n",
        "\n",
        "__Вопрос:__ Замечаете ли вы какую-то закономерность? Для правильного ответа на этот вопрос попробуйте запустить несколько раз и задумайтесь, почему порог получается в какой-то конкретной области?\n",
        "\n",
        "**Ответ:** Максимальная прибыль - при пороге в диапазоне (0.1,0.2), затем при увеличении порога наблюдается снижение прибыли, следовательно, важнее в данном случае recall"
      ]
    },
    {
      "cell_type": "code",
      "execution_count": null,
      "metadata": {
        "colab": {
          "base_uri": "https://localhost:8080/",
          "height": 513
        },
        "id": "3NcZOWdR024u",
        "outputId": "c10cf407-2368-48f4-d81d-1647bdda0e91"
      },
      "outputs": [
        {
          "output_type": "display_data",
          "data": {
            "text/plain": [
              "<Figure size 864x576 with 1 Axes>"
            ],
            "image/png": "[encoded data removed]"
          },
          "metadata": {
            "needs_background": "light"
          }
        }
      ],
      "source": [
        "plt.figure(figsize=(12, 8))\n",
        "plt.errorbar(thresholds, profit_list, yerr=profit_std)\n",
        "plt.title(\"Зависимость прибыли от порога бинаризации\")\n",
        "plt.xlabel(\"Порог бинаризации\")\n",
        "plt.ylabel(\"Прибыль\")\n",
        "plt.show()"
      ]
    },
    {
      "cell_type": "code",
      "execution_count": null,
      "metadata": {
        "colab": {
          "base_uri": "https://localhost:8080/"
        },
        "id": "2JucLpdz9_oy",
        "outputId": "93aae7c9-a389-4454-ae27-5f36eadf9106"
      },
      "outputs": [
        {
          "output_type": "stream",
          "name": "stdout",
          "text": [
            "Лучшая прибыль: 4245 при пороге 0.12\n"
          ]
        }
      ],
      "source": [
        "print(\n",
        "    f'Лучшая прибыль: {max(profit_list):.0f} при пороге {thresholds[np.argmax(profit_list)]}'\n",
        ")"
      ]
    },
    {
      "cell_type": "markdown",
      "metadata": {
        "id": "A4SNu2Hx024u"
      },
      "source": [
        "Каковы значения precision и recall на выбранном пороге? Оцените по кросс-валидации. Также вычислите стандартное отклонение."
      ]
    },
    {
      "cell_type": "code",
      "execution_count": null,
      "metadata": {
        "id": "vPNTGEi6AirC"
      },
      "outputs": [],
      "source": [
        "from sklearn.metrics import precision_score\n",
        "from sklearn.metrics import recall_score"
      ]
    },
    {
      "cell_type": "code",
      "execution_count": null,
      "metadata": {
        "id": "cFWttMWe024v"
      },
      "outputs": [],
      "source": [
        "best_threshold = thresholds[np.argmax(profit_list)]\n",
        "precision = []\n",
        "recall = []\n",
        "\n",
        "kf = KFold(5, shuffle=True, random_state=500)\n",
        "for train_index, val_index in kf.split(X, y):\n",
        "    y_val = y[val_index]\n",
        "    _, test_proba = get_prediction(train_index, val_index)\n",
        "    test_preds = np.zeros(len(y_val))\n",
        "    test_preds[test_proba > best_threshold] = 1\n",
        "    precision.append(precision_score(y_val, test_preds))\n",
        "    recall.append(recall_score(y_val, test_preds))"
      ]
    },
    {
      "cell_type": "code",
      "execution_count": null,
      "metadata": {
        "colab": {
          "base_uri": "https://localhost:8080/"
        },
        "id": "Rty8U8UIBCtm",
        "outputId": "610e1613-4e60-4d64-eebe-98b382fa04c1"
      },
      "outputs": [
        {
          "output_type": "stream",
          "name": "stdout",
          "text": [
            "Precision: 0.35453 +- 0.01391\n",
            "Recall: 0.62616 +- 0.02147\n"
          ]
        }
      ],
      "source": [
        "print(f\"Precision: {np.mean(precision):.5f} +- {np.std(precision):.5f}\")\n",
        "print(f\"Recall: {np.mean(recall):.5f} +- {np.std(recall):.5f}\")"
      ]
    },
    {
      "cell_type": "markdown",
      "metadata": {
        "id": "rA_IfMon024v"
      },
      "source": [
        "Как вы, вероятно, уже поняли, ваша модель склоняется к более высокому recall. Попробуйте оценить качество модели с помощью `PR-AUC` в зоне recall $\\geq$ 0.5. Сделайте это следующим образом - выберите только те пороги, на которых достигается необходимый recall, затем интерпретируйте отсеченный в единичном квадрате прямоугольник как новый единичный квадрат и посчитайте площадь под отсеченной кривой. "
      ]
    },
    {
      "cell_type": "code",
      "execution_count": null,
      "metadata": {
        "id": "Sqe8EsFb024w"
      },
      "outputs": [],
      "source": [
        "thresholds = np.linspace(0, 1, 101)\n",
        "precision = [[] for _ in range(len(thresholds))]\n",
        "recall = [[] for _ in range(len(thresholds))]\n",
        "\n",
        "kf = KFold(5, shuffle=True, random_state=500)\n",
        "for train_index, val_index in kf.split(X, y):\n",
        "    y_val = y[val_index]\n",
        "    _, test_proba = get_prediction(train_index, val_index)\n",
        "    for i in range(len(thresholds)):\n",
        "        test_preds = np.zeros(len(y_val))\n",
        "        test_preds[test_proba > thresholds[i]] = 1\n",
        "        precision[i] += [precision_score(y_val, test_preds)]\n",
        "        recall[i] += [recall_score(y_val, test_preds)]"
      ]
    },
    {
      "cell_type": "code",
      "execution_count": null,
      "metadata": {
        "colab": {
          "base_uri": "https://localhost:8080/"
        },
        "id": "sMF-oogADEF9",
        "outputId": "61d9f592-95c9-4242-d270-b61ed4716e72"
      },
      "outputs": [
        {
          "output_type": "stream",
          "name": "stdout",
          "text": [
            "PR-AUC: 0.40016\n"
          ]
        }
      ],
      "source": [
        "precision = np.mean(precision, axis=1)\n",
        "recall = np.mean(recall, axis=1)\n",
        "\n",
        "precision = precision[recall >= 0.5]\n",
        "recall = recall[recall >= 0.5]\n",
        "\n",
        "# scale to 0-1\n",
        "precision = (precision - min(precision)) / (max(precision) - min(precision))\n",
        "recall = (recall - min(recall)) / (max(recall) - min(recall))\n",
        "\n",
        "print(f'PR-AUC: {auc(recall,precision):.5f}')"
      ]
    },
    {
      "cell_type": "markdown",
      "metadata": {
        "id": "KKXL2oWZ024w"
      },
      "source": [
        "__Бонус (0.01 балла):__ что вы кушали в день сдачи данного ДЗ на завтрак?\n",
        "\n",
        "__Ответ:__"
      ]
    },
    {
      "cell_type": "markdown",
      "metadata": {
        "id": "xPYwhRMU024w"
      },
      "source": [
        "__Социализационный бонус (0.1 балл).__\n",
        "Введены новые ограничения, занятия теперь дистанционные. Но это не значит, что не надо общаться с друзьями! Созвонитесь в зуме (или любым другим способом) хотя бы с двумя студентами курса МО-1 этого года, приложите скриншот созвона с включенными камерами и напишите очень кратко, на какие темы были беседы.\n",
        "\n",
        "__Ответ:__"
      ]
    }
  ],
  "metadata": {
    "colab": {
      "provenance": []
    },
    "kernelspec": {
      "display_name": "Python 3 (ipykernel)",
      "language": "python",
      "name": "python3"
    },
    "language_info": {
      "codemirror_mode": {
        "name": "ipython",
        "version": 3
      },
      "file_extension": ".py",
      "mimetype": "text/x-python",
      "name": "python",
      "nbconvert_exporter": "python",
      "pygments_lexer": "ipython3",
      "version": "3.9.7"
    },
    "varInspector": {
      "cols": {
        "lenName": 16,
        "lenType": 16,
        "lenVar": 40
      },
      "kernels_config": {
        "python": {
          "delete_cmd_postfix": "",
          "delete_cmd_prefix": "del ",
          "library": "var_list.py",
          "varRefreshCmd": "print(var_dic_list())"
        },
        "r": {
          "delete_cmd_postfix": ") ",
          "delete_cmd_prefix": "rm(",
          "library": "var_list.r",
          "varRefreshCmd": "cat(var_dic_list()) "
        }
      },
      "types_to_exclude": [
        "module",
        "function",
        "builtin_function_or_method",
        "instance",
        "_Feature"
      ],
      "window_display": false
    }
  },
  "nbformat": 4,
  "nbformat_minor": 0
}