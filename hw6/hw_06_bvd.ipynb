{
  "cells": [
    {
      "cell_type": "markdown",
      "metadata": {
        "id": "xJlf4tR4kXFR"
      },
      "source": [
        "# Машинное обучение, ФКН ВШЭ\n",
        "\n",
        "## Практическое задание 6. Разложение ошибки на смещение и разброс\n",
        "\n",
        "### Общая информация\n",
        "\n",
        "Дата выдачи: 24.11.2021\n",
        "\n",
        "Мягкий дедлайн: 23:59MSK 07.12.2021\n",
        "\n",
        "\n",
        "Жесткий дедлайн: 23:59MSK 10.12.2021\n",
        "\n",
        "### Оценивание и штрафы\n",
        "Каждая из задач имеет определенную «стоимость» (указана в скобках около задачи). Максимально допустимая оценка за работу — 10 баллов.\n",
        "\n",
        "Сдавать задание после указанного срока сдачи нельзя. При выставлении неполного балла за задание в связи с наличием ошибок на усмотрение проверяющего предусмотрена возможность исправить работу на указанных в ответном письме условиях.\n",
        "\n",
        "Задание выполняется самостоятельно. «Похожие» решения считаются плагиатом и все задействованные студенты (в том числе те, у кого списали) не могут получить за него больше 0 баллов (подробнее о плагиате см. на странице курса). Если вы нашли решение какого-то из заданий (или его часть) в открытом источнике, необходимо указать ссылку на этот источник в отдельном блоке в конце вашей работы (скорее всего вы будете не единственным, кто это нашел, поэтому чтобы исключить подозрение в плагиате, необходима ссылка на источник).\n",
        "\n",
        "Неэффективная реализация кода может негативно отразиться на оценке.\n",
        "\n",
        "### Формат сдачи\n",
        "Задания сдаются через систему anytask. Посылка должна содержать:\n",
        "* Ноутбук homework-practice-06-Username.ipynb\n",
        "\n",
        "Username — ваша фамилия и имя на латинице именно в таком порядке\n",
        "\n",
        "### О задании\n",
        "\n",
        "В этом задании вам предстоит воспользоваться возможностями бутстрапа для оценки смещения и разброса алгоритмов машинного обучения. Делать мы это будем на данных boston:"
      ]
    },
    {
      "cell_type": "code",
      "execution_count": null,
      "metadata": {
        "collapsed": true,
        "id": "fsSAxUehkXF1",
        "colab": {
          "base_uri": "https://localhost:8080/"
        },
        "outputId": "7b9eb9ad-9ab3-4840-d3b9-eb3f280883dc"
      },
      "outputs": [
        {
          "output_type": "stream",
          "name": "stderr",
          "text": [
            "/usr/local/lib/python3.8/dist-packages/sklearn/utils/deprecation.py:87: FutureWarning: Function load_boston is deprecated; `load_boston` is deprecated in 1.0 and will be removed in 1.2.\n",
            "\n",
            "    The Boston housing prices dataset has an ethical problem. You can refer to\n",
            "    the documentation of this function for further details.\n",
            "\n",
            "    The scikit-learn maintainers therefore strongly discourage the use of this\n",
            "    dataset unless the purpose of the code is to study and educate about\n",
            "    ethical issues in data science and machine learning.\n",
            "\n",
            "    In this special case, you can fetch the dataset from the original\n",
            "    source::\n",
            "\n",
            "        import pandas as pd\n",
            "        import numpy as np\n",
            "\n",
            "\n",
            "        data_url = \"http://lib.stat.cmu.edu/datasets/boston\"\n",
            "        raw_df = pd.read_csv(data_url, sep=\"\\s+\", skiprows=22, header=None)\n",
            "        data = np.hstack([raw_df.values[::2, :], raw_df.values[1::2, :2]])\n",
            "        target = raw_df.values[1::2, 2]\n",
            "\n",
            "    Alternative datasets include the California housing dataset (i.e.\n",
            "    :func:`~sklearn.datasets.fetch_california_housing`) and the Ames housing\n",
            "    dataset. You can load the datasets as follows::\n",
            "\n",
            "        from sklearn.datasets import fetch_california_housing\n",
            "        housing = fetch_california_housing()\n",
            "\n",
            "    for the California housing dataset and::\n",
            "\n",
            "        from sklearn.datasets import fetch_openml\n",
            "        housing = fetch_openml(name=\"house_prices\", as_frame=True)\n",
            "\n",
            "    for the Ames housing dataset.\n",
            "    \n",
            "  warnings.warn(msg, category=FutureWarning)\n"
          ]
        }
      ],
      "source": [
        "import numpy as np\n",
        "import pandas as pd\n",
        "from matplotlib import pyplot as plt\n",
        "\n",
        "from sklearn.datasets import load_boston\n",
        "boston = load_boston()"
      ]
    },
    {
      "cell_type": "code",
      "execution_count": null,
      "metadata": {
        "collapsed": true,
        "id": "QueSEiRgkXF8"
      },
      "outputs": [],
      "source": [
        "X = boston[\"data\"]\n",
        "y = boston[\"target\"]"
      ]
    },
    {
      "cell_type": "code",
      "execution_count": null,
      "metadata": {
        "colab": {
          "base_uri": "https://localhost:8080/"
        },
        "id": "3HEHI1klkXF9",
        "outputId": "1ebcc012-42a2-48b9-a4b7-5e9e134e6fba"
      },
      "outputs": [
        {
          "output_type": "execute_result",
          "data": {
            "text/plain": [
              "((506, 13), (506,))"
            ]
          },
          "metadata": {},
          "execution_count": 3
        }
      ],
      "source": [
        "X.shape, y.shape"
      ]
    },
    {
      "cell_type": "markdown",
      "metadata": {
        "id": "QeK8QASgkXGD"
      },
      "source": [
        "### Вычисление bias и variance с помощью бутстрапа\n",
        "На лекции была выведено следующая формула, показывающая, как можно представить ошибку алгоритма регрессии в виде суммы трех компонент:\n",
        "$$\n",
        "L(\\mu) = \n",
        "    \\mathbb{E}_{x, y}\\bigl[\\mathbb{E}_{X}\\bigl[ (y - \\mu(X)(x))^2 \\bigr]\\bigr] = \n",
        "$$\n",
        "$$\n",
        "    \\underbrace{\\mathbb{E}_{x, y}\\bigl[(y - \\mathbb{E}[y|x] )^2\\bigr]}_{\\text{шум}} + \\underbrace{\\mathbb{E}_{x}\\bigl[(\\mathbb{E}_{X}[\\mu(X)(x)] - \\mathbb{E}[y|x] )^2\\bigr]}_{\\text{смещение}} +\n",
        "    \\underbrace{\\mathbb{E}_{x}\\bigl[\\mathbb{E}_{X}\\bigl[(\\mu(X)(x) - \\mathbb{E}_{X}[\\mu(X)(x)] )^2\\bigr]\\bigr]}_{\\text{разброс}},\n",
        "$$\n",
        "* $\\mu(X)$ — алгоритм, обученный по выборке $X = \\{(x_1, y_1), \\dots (x_\\ell, y_\\ell)\\}$;\n",
        "* $\\mu(X)(x)$ — ответ алгоритма, обученного по выборке $X$, на объекте $x$;\n",
        "* $\\mathbb{E}_{X}$ — мат. ожидание по всем возможным выборкам;\n",
        "* $\\mathbb{E}_{X}[\\mu(X)(x)]$ — \"средний\" ответ алгоритма, обученного по всем возможным выборкам $X$, на объекте $x$.\n",
        "    \n",
        "С помощью этой формулы мы можем анализировать свойства алгоритма обучения модели $\\mu$, если зададим вероятностную модель порождения пар $p(x, y)$.\n",
        "\n",
        "В реальных задачах мы, конечно же, не знаем распределение на парах объект - правильный ответ. Однако у нас есть набор семплов из этого распределения (обучающую выборка), и мы можем использовать его, чтобы оценивать математические ожидания. Для оценки мат. ожиданий по выборкам мы будем пользоваться бутстрэпом - методом генерации \"новых\" выборок из одной с помощью выбора объектов с возвращением. Разберем несколько шагов на пути к оценке смещения и разброса.\n",
        "\n",
        "#### Приближенное вычисление интегралов\n",
        "На занятиях мы разбирали примеры аналитического вычисления смещения и разброса нескольких алгоритмов обучения. Для большинства моделей данных и алгоритмов обучения аналитически рассчитать математические ожидания в формулах не удастся. Однако мат. ожидания можно оценивать приближенно. Чтобы оценить математическое ожидание $\\mathbb{E}_{\\bar z} f(\\bar z)$ функции от многомерной случайной величины $\\bar z = (z_1, \\dots, z_d)$, $\\bar z \\sim p(\\bar z)$, можно сгенерировать выборку из распределения $p(\\bar z)$ и усреднить значение функции на элементах этой выборки:\n",
        "$$\\mathbb{E}_{\\bar z} f(z) = \\int f(\\bar z) p(\\bar z) d \\bar z \\approx \\frac 1 m \\sum_{i=1}^m f(\\bar z_i), \\, \\bar z_i \\sim p(\\bar z), i = 1, \\dots, m.$$\n",
        "\n",
        "Например, оценим $\\mathbb{E}_z z^2,$ $z \\sim \\mathcal{N}(\\mu=5, \\sigma=3)$ (из теории вероятностей мы знаем, что\n",
        "$\\mathbb{E}_z z^2 = \\sigma^2 + \\mu^2 = 34$):"
      ]
    },
    {
      "cell_type": "code",
      "execution_count": null,
      "metadata": {
        "colab": {
          "base_uri": "https://localhost:8080/"
        },
        "id": "jr5rtCmlkXGG",
        "outputId": "225e97ab-3b7d-4c79-a45f-861e1c6838fa"
      },
      "outputs": [
        {
          "output_type": "execute_result",
          "data": {
            "text/plain": [
              "35.301623800668494"
            ]
          },
          "metadata": {},
          "execution_count": 4
        }
      ],
      "source": [
        "z = np.random.normal(loc=5, scale=3, size=1000)\n",
        "(z**2).mean()"
      ]
    },
    {
      "cell_type": "markdown",
      "metadata": {
        "id": "8NbcAXuFkXGI"
      },
      "source": [
        "#### Оценивание $\\mathbb{E}_{x, y}$\n",
        "Оценить мат. ожидания по $x$ и по $x, y$, встречающиеся во всех трех компонентах разложения, несложно, потому что у нас есть выборка объектов из распределения данных $p(x, y)$:\n",
        "$$ \\mathbb{E}_{x} f(x) \\approx \\frac 1 N \\sum_{i=1}^N f(x_i), \\quad\n",
        "\\mathbb{E}_{x, y} f(x, y) \\approx \\frac 1 N \\sum_{i=1}^N f(x_i, y_i),$$\n",
        "где $N$ - число объектов в выборке, $\\{(x_i, y_i)\\}_{i=1}^N$ - сама выборка. \n",
        "\n",
        "#### Оценивание $\\mathbb{E}_X$ с помощью бутстрапа\n",
        "Чтобы оценить мат. ожидание по $X$, нам понадобится выборка из выборок:\n",
        "$$\\mathbb{E}_X f(X) \\approx \\frac 1 s \\sum_{j=1}^s f(X_j),$$\n",
        "где $X_j$ - $j$-я выборка. Чтобы их получить, мы можем воспользоваться бутстрапом - методом генерации выборок на основе выбора объектов с возвращением. Чтобы составить одну выборку, будем $N$ раз выбирать индекс объекта $i \\sim \\text{Uniform}(1 \\dots N)$ и добавлять $i$-ю пару (объект, целевая переменная) в выборку. В результате в каждой выборке могут появиться повторяющиеся объекты, а какие-то объекты могут вовсе не войти в некоторые выборки.\n",
        "\n",
        "#### Итоговый алгоритм оценки смещения и разброса алгоритма $a$\n",
        "1. Сгенерировать $s$ выборок $X_j$ методом бутстрапа.\n",
        "1. На каждой выборке $X_j$ обучить алгоритм $a_j$.\n",
        "1. Для каждой выборки $X_j$ определить множество объектов $T_j$, не вошедших в нее (out-of-bag). Вычислить предсказания алгоритма $a_j$ на объектах $T_j$. \n",
        "\n",
        "Поскольку у нас есть только один ответ для каждого объекта, мы будем считать шум равным 0, а $\\mathbb{E}[y|x]$ равным имеющемуся правильному ответу для объекта $x$. \n",
        "\n",
        "Итоговые оценки:\n",
        "* Смещение: для одного объекта - квадрат разности среднего предсказания и правильного ответа. Среднее предсказание берется только по тем алгоритмам $a_j$, для которых этот объект входил в out-of-bag выборку $T_j$. Для получения общего смещения выполнить усреденение смещений по объектам.\n",
        "* Разброс: для одного объекта - выборочная дисперсия предсказаний алгоритмов $a_j$, для которых этот объект входил в out-of-bag выборку $T_j$. Для получения общего разброса выполнить усреденение разбросов по объектам.\n",
        "* Ошибка $L$: усреднить квадраты разностей предсказания и правильного ответа по всем выполненным предсказаниям для всех объектов.\n",
        "\n",
        "В результате должно получиться, что ошибка приблизительно равна сумме смещения и разброса!\n",
        "\n",
        "Алгоритм также вкратце описан по [ссылке](https://web.engr.oregonstate.edu/~tgd/classes/534/slides/part9.pdf) (слайды 19-21).\n",
        "\n",
        "__1. (3 балла)__\n",
        "\n",
        "Реализуйте описанный алгоритм. Обратите внимание, что если объект не вошел ни в одну из out-of-bag выборок, учитывать его в вычислении итоговых величин не нужно. Как обычно, разрешается использовать только один цикл - по выборкам (от 0 до num_runs-1)."
      ]
    },
    {
      "cell_type": "code",
      "execution_count": null,
      "metadata": {
        "id": "JFovSiBbihKd"
      },
      "outputs": [],
      "source": [
        "from sklearn.linear_model import LinearRegression\n",
        "from sklearn.tree import DecisionTreeRegressor\n",
        "from sklearn.ensemble import RandomForestRegressor\n",
        "from sklearn.ensemble import BaggingRegressor"
      ]
    },
    {
      "cell_type": "code",
      "execution_count": null,
      "metadata": {
        "id": "QWWp4tRtk36W"
      },
      "outputs": [],
      "source": [
        "def create_boostrap(n_samples):\n",
        "    trn_idx = np.random.choice(range(n_samples), n_samples)\n",
        "    test_idx = list(set(range(n_samples)) - set(trn_idx))\n",
        "    return trn_idx, test_idx"
      ]
    },
    {
      "cell_type": "code",
      "execution_count": null,
      "metadata": {
        "collapsed": true,
        "id": "coub7dvukXGJ"
      },
      "outputs": [],
      "source": [
        "def compute_biase_variance(regressor, X, y, num_runs=1000):\n",
        "    \"\"\"\n",
        "    :param regressor: sklearn estimator with fit(...) and predict(...) method\n",
        "    :param X: numpy-array representing training set ob objects, shape [n_obj, n_feat]\n",
        "    :param y: numpy-array representing target for training objects, shape [n_obj]\n",
        "    :param num_runs: int, number of samples (s in the description of the algorithm)\n",
        "    \n",
        "    :returns: bias (float), variance (float), error (float) \n",
        "    each value is computed using bootstrap\n",
        "    \"\"\"\n",
        "    error = 0\n",
        "    # предсказания алгоритмов\n",
        "    test_preds = np.zeros((num_runs, len(y)))\n",
        "    # сколько раз объект вошел в out-of-bag\n",
        "    test_count = np.zeros(len(y))\n",
        "    for iter in range(num_runs):\n",
        "        trn_idx, test_idx = create_boostrap(len(y))\n",
        "        if len(test_idx) == 0:\n",
        "            continue\n",
        "        X_train = X[trn_idx]\n",
        "        y_train = y[trn_idx]\n",
        "        X_test = X[test_idx]\n",
        "        y_test = y[test_idx]\n",
        "        regressor.fit(X_train, y_train)\n",
        "\n",
        "        pred = regressor.predict(X_test)\n",
        "        error += np.mean((y_test - pred)**2)\n",
        "\n",
        "        test_preds[iter, test_idx] = pred\n",
        "        test_count[test_idx] += 1\n",
        "    # сумма квадратов предсказаний для вычисления выборочной дисперсии\n",
        "    squared_test_preds = (test_preds**2).sum(axis=0)\n",
        "    # сумма предсказаний для вычисления выборочного среднего\n",
        "    test_preds = test_preds.sum(axis=0)\n",
        "    # отбрасываем элементы ни разу не встретившиеся в out-of-bag\n",
        "    test_preds = test_preds[test_preds != 0]\n",
        "    squared_test_preds = squared_test_preds[test_count != 0]\n",
        "    y = y[test_count != 0]\n",
        "    test_count = test_count[test_count != 0]\n",
        "\n",
        "    # усредняем предсказания модели\n",
        "    mean_pred = test_preds / test_count\n",
        "    # разброс\n",
        "    variance = np.mean(squared_test_preds / test_count - mean_pred**2)\n",
        "    # смещение\n",
        "    bias = np.mean((mean_pred - y)**2)\n",
        "    return bias, variance, error / num_runs"
      ]
    },
    {
      "cell_type": "markdown",
      "metadata": {
        "id": "ysjv_vqBkXGM"
      },
      "source": [
        "__2. (0 баллов)__\n",
        "\n",
        "Оцените смещение, разброс и ошибку для трех алгоритмов с гиперпараметрами по умолчанию: линейная регрессия, решающее дерево, случайный лес."
      ]
    },
    {
      "cell_type": "code",
      "execution_count": null,
      "metadata": {
        "colab": {
          "base_uri": "https://localhost:8080/"
        },
        "id": "L7JdDdDouIwU",
        "outputId": "95769373-9b56-4ae2-e266-ddcf156ea310"
      },
      "outputs": [
        {
          "output_type": "stream",
          "name": "stdout",
          "text": [
            "Linear Regression:\n",
            "bias: 23.73373\n",
            "variance: 0.92203\n",
            "error: 24.66914\n"
          ]
        }
      ],
      "source": [
        "bias, variance, error = compute_biase_variance(LinearRegression(), X, y)\n",
        "print(\"Linear Regression:\")\n",
        "print(f\"bias: {bias:.5f}\")\n",
        "print(f\"variance: {variance:.5f}\")\n",
        "print(f\"error: {error:.5f}\")"
      ]
    },
    {
      "cell_type": "code",
      "execution_count": null,
      "metadata": {
        "colab": {
          "base_uri": "https://localhost:8080/"
        },
        "id": "WQ6rsX_uoSYE",
        "outputId": "36be1891-776f-4e0c-cc50-4690f4f40e93"
      },
      "outputs": [
        {
          "output_type": "stream",
          "name": "stdout",
          "text": [
            "DecisionTreeRegressor:\n",
            "bias: 10.13704\n",
            "variance: 12.99900\n",
            "error: 23.17008\n"
          ]
        }
      ],
      "source": [
        "bias, variance, error = compute_biase_variance(DecisionTreeRegressor(), X, y)\n",
        "print(\"DecisionTreeRegressor:\")\n",
        "print(f\"bias: {bias:.5f}\")\n",
        "print(f\"variance: {variance:.5f}\")\n",
        "print(f\"error: {error:.5f}\")"
      ]
    },
    {
      "cell_type": "code",
      "execution_count": null,
      "metadata": {
        "colab": {
          "base_uri": "https://localhost:8080/"
        },
        "id": "zpc727j3jAPD",
        "outputId": "55afb5d6-2b91-4af3-c6f6-9d134ac0db3c"
      },
      "outputs": [
        {
          "output_type": "stream",
          "name": "stdout",
          "text": [
            "RandomForestRegressor:\n",
            "bias: 10.96803\n",
            "variance: 2.23638\n",
            "error: 13.14480\n"
          ]
        }
      ],
      "source": [
        "bias, variance, error = compute_biase_variance(RandomForestRegressor(), X, y, 250)\n",
        "print(\"RandomForestRegressor:\")\n",
        "print(f\"bias: {bias:.5f}\")\n",
        "print(f\"variance: {variance:.5f}\")\n",
        "print(f\"error: {error:.5f}\")"
      ]
    },
    {
      "cell_type": "markdown",
      "metadata": {
        "id": "5McG3IADkXGO"
      },
      "source": [
        "__3. (1 балл)__\n",
        "Проанализируйте полученный результат. Согласуются ли полученные результаты с теми, что мы обсуждали на занятиях (с комментарием)?\n",
        "\n",
        "__Your answer here:__ Смещение показывает, насколько хорошо с помощью данных метода обучения и семейства алгоритмов можно приблизить оптимальный алгоритм. Как правило, смещение маленькое у сложных семейств (например, у деревьев) и большое у простых семейств (например, линейных классификаторов).\n",
        "\n",
        "Дисперсия показывает, насколько сильно может изменяться ответ обученного алгоритма в зависимости от выборки --- иными словами, она характеризует чувствительность метода обучения к изменениям в выборке. Как правило, простые семейства имеют маленькую дисперсию, а сложные семейства --- большую дисперсию.\n",
        "\n",
        "\n",
        "\n",
        "*   Линейная модель не может уловить сложные закономерности в данных, поэтому у нее высокое смещение, однако в целом модели довольно похожи, поэтому низкий разброс\n",
        "*   Решающие деревья склонны к переобучению, поэтому у них высокий разброс, смещение в 2 раза ниже, чем у линейной регрессии, однако за счет большой чувствительности к данным, ошибка практически такая же\n",
        "*   Метод обучения случайного леса устроен таким образом, что модель не видит все данные из обучающей выборки, поэтому ей сложнее будет переобучиться. Поэтому при +- таком же смещении у слачайного леса гораздо ниже разброс по сравнению с деревьями\n",
        "\n"
      ]
    },
    {
      "cell_type": "markdown",
      "metadata": {
        "id": "1k0e3TCukXGP"
      },
      "source": [
        "__4. (1 балл)__\n",
        "Постройте бэггинг над всеми тремя моделями (линейная регрессия, решающее дерево, случайный лес). Вспомните обсуждение с лекции о том, во сколько раз в теории бэггинг уменьшает разброс базового алгоритма. Выполняется ли это в ваших экспериментах? Если нет, поясните, почему.\n",
        "\n",
        "__Your answer here:__  Eсли базовые модели не коррелируют, то дисперсия композиции в N раз (N - число моделей в композиции) меньше дисперсии отдельных алгоритмов. Если модели коррелируют, то уменьшение дисперсии будет меньшим\n",
        "*   Линейная регрессия обладает низким разбросом, то есть слабо зависит от изменений в данных. Прогнозы моделей сильно коррелируют, поэтому бэггинг не приносит пользы\n",
        "*   Деревья обладают высоким разбросом, то есть сильно зависят от изменений в выборке, поэтому бэггинг с деревьями работает лучше всего. За счет бэггинга удалось снизить разброс случайного леса в 4 раза\n",
        "*   Случайный лес зависит от выборки, но не так сильно, как деревья. Поэтому бэггинг помогает, но не так сильно, как деревьям, разброс за счет бэггинга снизился в 2 раза"
      ]
    },
    {
      "cell_type": "code",
      "execution_count": null,
      "metadata": {
        "colab": {
          "base_uri": "https://localhost:8080/"
        },
        "id": "SB43CkzTnlUn",
        "outputId": "870cfbef-5f21-4920-92e5-f3739ecbae15"
      },
      "outputs": [
        {
          "output_type": "stream",
          "name": "stdout",
          "text": [
            "Linear Regression with bagging:\n",
            "bias: 23.75936\n",
            "variance: 1.03112\n",
            "error: 24.70024\n"
          ]
        }
      ],
      "source": [
        "bias, variance, error = compute_biase_variance(\n",
        "    BaggingRegressor(LinearRegression()), X, y)\n",
        "print(\"Linear Regression with bagging:\")\n",
        "print(f\"bias: {bias:.5f}\")\n",
        "print(f\"variance: {variance:.5f}\")\n",
        "print(f\"error: {error:.5f}\")"
      ]
    },
    {
      "cell_type": "code",
      "execution_count": null,
      "metadata": {
        "colab": {
          "base_uri": "https://localhost:8080/"
        },
        "id": "DuJgBTVFojGL",
        "outputId": "47b189e3-7632-4b88-ce0f-609ff23cbe9f"
      },
      "outputs": [
        {
          "output_type": "stream",
          "name": "stdout",
          "text": [
            "DecisionTreeRegressor with bagging:\n",
            "bias: 10.57643\n",
            "variance: 3.42444\n",
            "error: 13.95761\n"
          ]
        }
      ],
      "source": [
        "bias, variance, error = compute_biase_variance(\n",
        "    BaggingRegressor(DecisionTreeRegressor()), X, y)\n",
        "print(f\"DecisionTreeRegressor with bagging:\")\n",
        "print(f\"bias: {bias:.5f}\")\n",
        "print(f\"variance: {variance:.5f}\")\n",
        "print(f\"error: {error:.5f}\")"
      ]
    },
    {
      "cell_type": "code",
      "execution_count": null,
      "metadata": {
        "colab": {
          "base_uri": "https://localhost:8080/"
        },
        "id": "24IDWRZJpEQJ",
        "outputId": "a34b8d28-268f-4bba-a85b-62377df27fe6"
      },
      "outputs": [
        {
          "output_type": "stream",
          "name": "stdout",
          "text": [
            "RandomForestRegressor with bagging:\n",
            "bias: 11.62343\n",
            "variance: 1.52214\n",
            "error: 13.25164\n"
          ]
        }
      ],
      "source": [
        "bias, variance, error = compute_biase_variance(\n",
        "    BaggingRegressor(RandomForestRegressor()), X, y, 50)\n",
        "print(f\"RandomForestRegressor with bagging:\")\n",
        "print(f\"bias: {bias:.5f}\")\n",
        "print(f\"variance: {variance:.5f}\")\n",
        "print(f\"error: {error:.5f}\")"
      ]
    },
    {
      "cell_type": "markdown",
      "metadata": {
        "id": "vruP95PpkXGP"
      },
      "source": [
        "### Визуализация предсказаний базовых алгоритмов бэггинга\n",
        "\n",
        "В материалах лекций можно найти изображение, похожее на мишень - визуализация алгоритмов с разным смещением и разным разбросом. В центре \"мишени\" - правильный ответ, а \"попадания\" - предсказания алгоритмов, обученных по разным выборкам. Построим похожее изображение на наших данных для трех алгоритмов. Наши \"мишени\" будут одномерными, потому что мы решаем задачу одномерной регрессии.\n",
        "\n",
        "__5. (2 балла)__\n",
        "\n",
        "Реализуйте функцию plot_predictions. Она должна выполнять следующие действия:\n",
        "1. Случайно выбрать num_test_objects пар объект-целевая переменная из выборки X, y. Получится две выборки: маленькая X_test, y_test (выбранные тестовые объекты) и X_train, y_train (остальные объекты).\n",
        "1. Сгенерировать num_runs выборок методом бутстарапа из X_train, y_train. На каждой выборке обучить алгоритм regressor и сделать предсказания для X_test.\n",
        "1. Нарисовать scatter-график. По оси абсцисс - объекты тестовой выборки (номера от 0 до num_test_objects-1), по оси ординат - предсказания. В итоге получится num_test_objects столбиков с точками. Для каждого тестового объекта надо отметить одним цветом все предсказания для него, а также черным цветом отметить правильный ответ.\n",
        "1. Подпишите оси и название графика (аргумент title)."
      ]
    },
    {
      "cell_type": "code",
      "execution_count": null,
      "metadata": {
        "id": "-h39lDaJqMgz"
      },
      "outputs": [],
      "source": [
        "from sklearn.model_selection import train_test_split\n",
        "from matplotlib import pyplot as plt"
      ]
    },
    {
      "cell_type": "code",
      "execution_count": null,
      "metadata": {
        "collapsed": true,
        "id": "ukBUCgu0kXGP"
      },
      "outputs": [],
      "source": [
        "def plot_predictions(regressor,\n",
        "                     X,\n",
        "                     y,\n",
        "                     num_runs=100,\n",
        "                     num_test_objects=10,\n",
        "                     title=\"\"):\n",
        "    \"\"\"\n",
        "    plot graphics described above\n",
        "    \"\"\"\n",
        "    X_train, X_test, y_train, y_test = train_test_split(\n",
        "        X, y, test_size=num_test_objects, random_state=42)\n",
        "    for iter in range(num_runs):\n",
        "        trn_idx, val_idx = create_boostrap(len(y))\n",
        "        X_train = X[trn_idx]\n",
        "        y_train = y[trn_idx]\n",
        "        X_va = X[val_idx]\n",
        "        y_va = y[val_idx]\n",
        "        regressor.fit(X_train, y_train)\n",
        "        preds = regressor.predict(X_test)\n",
        "        plt.scatter(range(1, num_test_objects + 1), preds, color='red')\n",
        "    plt.scatter(range(1, num_test_objects + 1), y_test, color='black')\n",
        "    plt.ylim(5, 45)\n",
        "    plt.xticks(range(1, num_test_objects + 1))\n",
        "    plt.xlabel('test index')\n",
        "    plt.ylabel('model prediction')\n",
        "    plt.title(title)"
      ]
    },
    {
      "cell_type": "markdown",
      "metadata": {
        "id": "teLZYQLykXGQ"
      },
      "source": [
        "__6. (0 баллов)__\n",
        "\n",
        "Нарисуйте графики для линейной регрессии, решающего дерева и случайного леса. Нарисуйте три графика в строчку (это можно сделать с помощью plt.subplot) с одинаковой осью ординат (это важно для понимания масштаба разброса у разных алгоритмов):"
      ]
    },
    {
      "cell_type": "code",
      "execution_count": null,
      "metadata": {
        "colab": {
          "base_uri": "https://localhost:8080/",
          "height": 295
        },
        "id": "DlHqhUfBt7_V",
        "outputId": "8d3cd6d9-ab20-4878-cd45-162e15ece434"
      },
      "outputs": [
        {
          "output_type": "display_data",
          "data": {
            "text/plain": [
              "<Figure size 1152x288 with 3 Axes>"
            ],
            "image/png": "[encoded data removed]"
          },
          "metadata": {
            "needs_background": "light"
          }
        }
      ],
      "source": [
        "models = [LinearRegression(), DecisionTreeRegressor(), RandomForestRegressor()]\n",
        "plt.figure(figsize=(16, 4))\n",
        "for i in range(len(models)):\n",
        "    plt.subplot(1, 3, i + 1)\n",
        "    plot_predictions(models[i], X, y, title=type(models[i]).__name__)"
      ]
    },
    {
      "cell_type": "markdown",
      "metadata": {
        "id": "bVJ2d4fOkXGR"
      },
      "source": [
        "__7. (1 балл)__\n",
        "\n",
        "Для каждого графика прокомментируйте, как он характеризует смещение и разброс соответствующего алгоритма. \n",
        "\n",
        "__Your answer here:__ Графики подтвержают теорию\n",
        "*  У линейной регрессии низкий разброс. Видно, что предсказания расположены близко друг к другу, также видно, что у модели высокое смещение, поскольку в половине случаев истинное значение не попало в интервал предсказаний\n",
        "*  У деревьев высокий разброс, на графике видно, что некоторые предсказания сильно отличаются от остальных. Смещение ниже, чем у линейной регрессии, предсказания в среднем расположены ближе к истинному значению\n",
        "*  В целом предсказания случайного леса расположены не так скученно, как у линейной регрессии, поэтому разброс выше. Смещение довольно низкое, так как предсказания расположены близко к истинному значению"
      ]
    },
    {
      "cell_type": "markdown",
      "metadata": {
        "id": "beODSSItkXGR"
      },
      "source": [
        "### Изменение bias и variance при изменении гиперпараметров"
      ]
    },
    {
      "cell_type": "markdown",
      "metadata": {
        "id": "ms_bI9lWkXGS"
      },
      "source": [
        "__8. (0 баллов)__\n",
        "\n",
        "Постройте графики зависимости смещения и разброса от гиперпараметров решающего дерева max_depth (от 1 до 10) и max_features (от 1 до X.shape[1]):"
      ]
    },
    {
      "cell_type": "code",
      "execution_count": null,
      "metadata": {
        "id": "vbbnte5FCujw"
      },
      "outputs": [],
      "source": [
        "import seaborn as sns"
      ]
    },
    {
      "cell_type": "code",
      "execution_count": null,
      "metadata": {
        "collapsed": true,
        "id": "voqrbMF8kXGS"
      },
      "outputs": [],
      "source": [
        "biases_depth, variances_depth = [], []\n",
        "depths = range(1, 11)\n",
        "for max_depth in depths:\n",
        "    bias, variance, _ = compute_biase_variance(\n",
        "        DecisionTreeRegressor(max_depth=max_depth), X, y)\n",
        "    biases_depth.append(bias)\n",
        "    variances_depth.append(variance)"
      ]
    },
    {
      "cell_type": "code",
      "execution_count": null,
      "metadata": {
        "id": "6uM3FAgLzd3D"
      },
      "outputs": [],
      "source": [
        "biases_features, variances_features = [], []\n",
        "features = range(1, X.shape[1] + 1)\n",
        "for max_features in features:\n",
        "    bias, variance, _ = compute_biase_variance(\n",
        "        DecisionTreeRegressor(max_features=max_features), X, y)\n",
        "    biases_features.append(bias)\n",
        "    variances_features.append(variance)"
      ]
    },
    {
      "cell_type": "code",
      "execution_count": null,
      "metadata": {
        "colab": {
          "base_uri": "https://localhost:8080/",
          "height": 554
        },
        "id": "9J9RWvIoz-yK",
        "outputId": "709a03b3-3a7c-4b46-f928-89c1330e2b83"
      },
      "outputs": [
        {
          "output_type": "display_data",
          "data": {
            "text/plain": [
              "<Figure size 864x576 with 2 Axes>"
            ],
            "image/png": "[encoded data removed]"
          },
          "metadata": {
            "needs_background": "light"
          }
        }
      ],
      "source": [
        "fig, ax = plt.subplots(1, 2, figsize=(12, 8))\n",
        "sns.lineplot(x=depths, y=biases_depth, label='Смещение', ax=ax[0])\n",
        "sns.lineplot(x=depths,\n",
        "             y=variances_depth,\n",
        "             label='Разброс',\n",
        "             color='red',\n",
        "             ax=ax[0])\n",
        "sns.lineplot(x=features, y=biases_features, label='Смещение', ax=ax[1])\n",
        "sns.lineplot(x=features,\n",
        "             y=variances_features,\n",
        "             label='Разброс',\n",
        "             color='red',\n",
        "             ax=ax[1])\n",
        "ax[0].set_title('Зависимость от максимальной глубины')\n",
        "ax[1].set_title('Зависимость от количества признаков')\n",
        "ax[0].set_xlabel('Максимальная глубина')\n",
        "ax[1].set_xlabel('Количество признаков')\n",
        "plt.suptitle(\n",
        "    'Зависимость смещения и разброса от максимальной глубины и количества признаков решающего дерева'\n",
        ")\n",
        "plt.show()"
      ]
    },
    {
      "cell_type": "markdown",
      "metadata": {
        "id": "gKzbXciSkXGT"
      },
      "source": [
        "__9. (0 баллов)__\n",
        "\n",
        "Постройте графики зависимости смещения и разброса от n_estimators (по сетке 2**np.arange(1, 10)) для случайного леса и градиентного бустинга:"
      ]
    },
    {
      "cell_type": "code",
      "execution_count": null,
      "metadata": {
        "id": "FPaTp9JADA8i"
      },
      "outputs": [],
      "source": [
        "from sklearn.ensemble import GradientBoostingRegressor"
      ]
    },
    {
      "cell_type": "code",
      "execution_count": null,
      "metadata": {
        "collapsed": true,
        "id": "KHYJ42SmkXGT"
      },
      "outputs": [],
      "source": [
        "biases_rf, variances_rf = [], []\n",
        "est = 2**np.arange(1, 10)\n",
        "for n_estimators in est:\n",
        "    bias, variance, _ = compute_biase_variance(\n",
        "        RandomForestRegressor(n_estimators=n_estimators), X, y, 100)\n",
        "    biases_rf.append(bias)\n",
        "    variances_rf.append(variance)"
      ]
    },
    {
      "cell_type": "code",
      "execution_count": null,
      "metadata": {
        "id": "Ah_xHI9FDjx-"
      },
      "outputs": [],
      "source": [
        "biases_gb, variances_gb = [], []\n",
        "est = 2**np.arange(1, 10)\n",
        "for n_estimators in est:\n",
        "    bias, variance, _ = compute_biase_variance(\n",
        "        GradientBoostingRegressor(n_estimators=n_estimators), X, y, 100)\n",
        "    biases_gb.append(bias)\n",
        "    variances_gb.append(variance)"
      ]
    },
    {
      "cell_type": "code",
      "execution_count": null,
      "metadata": {
        "colab": {
          "base_uri": "https://localhost:8080/",
          "height": 554
        },
        "id": "RMT661ujgda4",
        "outputId": "4d6a2a15-9348-463f-f4a8-f6ed16b571b0"
      },
      "outputs": [
        {
          "output_type": "display_data",
          "data": {
            "text/plain": [
              "<Figure size 864x576 with 2 Axes>"
            ],
            "image/png": "[encoded data removed]"
          },
          "metadata": {
            "needs_background": "light"
          }
        }
      ],
      "source": [
        "fig, ax = plt.subplots(1, 2, figsize=(12, 8))\n",
        "sns.lineplot(x=est, y=biases_rf, label='Смещение', ax=ax[0])\n",
        "sns.lineplot(x=est, y=variances_rf, label='Разброс', color='red', ax=ax[0])\n",
        "sns.lineplot(x=est, y=biases_gb, label='Смещение', ax=ax[1])\n",
        "sns.lineplot(x=est, y=variances_gb, label='Разброс', color='red', ax=ax[1])\n",
        "ax[0].set_title('Случайный лес')\n",
        "ax[1].set_title('Градиентный бустинг')\n",
        "ax[0].set_xlabel('Количество деревьев')\n",
        "ax[1].set_xlabel('Количество деревьев')\n",
        "plt.suptitle('Зависимость смещения и разброса от количества деревьев')\n",
        "plt.show()"
      ]
    },
    {
      "cell_type": "markdown",
      "metadata": {
        "id": "XWl-PbAxkXGU"
      },
      "source": [
        "__10. (2 балла)__\n",
        "\n",
        "Прокомментируйте графики (всего 4 графика): почему они имеют такой вид.\n",
        "\n",
        "__Your answer here:__\n",
        "1.  **Зависимость смещения и разброса от максимальной глубины решающего дерева:** При увеличении глубины решающего дерево смещение снижается. Модель становится все более и более сложной, следовательно может улавливать сложные зависимости в данных. Однако, с увеличением глубины (>2) дерево все сильнее и сильнее подгоняется под обучающую выборку, то есть увеличивается разброс\n",
        "2.  **Зависимость смещения и разброса количества признаков решающего дерева:**\n",
        "При увеличении количества признаков уменьшается разброс случайного дерева. Модель может улавливать зависимости между разными признаками в обучающем наборе.\n",
        "При количестве признаков = 1 мы можем наблюдать пример недообучения. При количестве признаков = 4 можно наблюдать минимальный разброс, затем он начинает увеличиваться, это говорит о том, что модель начинает переобучаться под обучающую выборку\n",
        "3. **Зависимость смещения и разброса от количества деревьев в случайном лесе:** \n",
        "При изменении количества деревьев в решающем дереве смещение практически не меняется (Теоретически должно быть так: cмещение случайного леса равно смещению одной базовой модели). Так как прогнозы случайного дерева коррелируют не так сильно, как, например, линейной регрессии, видим, что с увеличением количества деревьев примерно до 250 разброс модели постепенно снижается, каждое дерево вносит свой вклад в прогноз, однако затем выходит на плато.\n",
        "4. **Зависимость смещения и разброса от количества деревьев в градиентом бустинге**: Алгоритм градиентного бустинга устроен таким образом, что каждый следующий алгоритм $\\beta_{n}$ строится так, чтобы композиция его и композиции $\\alpha_{n-1}$ построенных алгоритмов максимально снижала ошибку. До какого-то момента происходит уменьшение смещения, то есть следующий алгоритм вносит свой вклад в уменьшение ошибки, но при этом разброс увеличивается,так как модель постепенно подгоняется под обучающую выборку. Затем наступает ситуация плато."
      ]
    },
    {
      "cell_type": "markdown",
      "metadata": {
        "id": "mSAE2fU4kXGU",
        "pycharm": {
          "name": "#%% md\n"
        }
      },
      "source": [
        "Вставьте картинку, описывающую ваш опыт выполнения этого ДЗ."
      ]
    }
  ],
  "metadata": {
    "colab": {
      "provenance": []
    },
    "kernelspec": {
      "display_name": "Python 3 (ipykernel)",
      "language": "python",
      "name": "python3"
    },
    "language_info": {
      "codemirror_mode": {
        "name": "ipython",
        "version": 3
      },
      "file_extension": ".py",
      "mimetype": "text/x-python",
      "name": "python",
      "nbconvert_exporter": "python",
      "pygments_lexer": "ipython3",
      "version": "3.9.7"
    },
    "toc": {
      "base_numbering": 1,
      "nav_menu": {},
      "number_sections": true,
      "sideBar": true,
      "skip_h1_title": true,
      "title_cell": "Table of Contents",
      "title_sidebar": "Contents",
      "toc_cell": false,
      "toc_position": {},
      "toc_section_display": true,
      "toc_window_display": false
    },
    "varInspector": {
      "cols": {
        "lenName": 16,
        "lenType": 16,
        "lenVar": 40
      },
      "kernels_config": {
        "python": {
          "delete_cmd_postfix": "",
          "delete_cmd_prefix": "del ",
          "library": "var_list.py",
          "varRefreshCmd": "print(var_dic_list())"
        },
        "r": {
          "delete_cmd_postfix": ") ",
          "delete_cmd_prefix": "rm(",
          "library": "var_list.r",
          "varRefreshCmd": "cat(var_dic_list()) "
        }
      },
      "types_to_exclude": [
        "module",
        "function",
        "builtin_function_or_method",
        "instance",
        "_Feature"
      ],
      "window_display": false
    }
  },
  "nbformat": 4,
  "nbformat_minor": 0
}